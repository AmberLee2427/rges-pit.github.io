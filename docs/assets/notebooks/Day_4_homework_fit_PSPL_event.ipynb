{
  "cells": [
    {
      "cell_type": "markdown",
      "source": [
        "<a href=\"https://colab.research.google.com/github/rges-pit/minicourses/blob/main/chapter4/Day_4_homework_fit_PSPL_event.ipynb\" target=\"_parent\"><img src=\"https://colab.research.google.com/assets/colab-badge.svg\" alt=\"Open In Colab\"/></a>"
      ],
      "metadata": {
        "id": "b4qgGxBInjUK"
      },
      "id": "b4qgGxBInjUK"
    },
    {
      "cell_type": "markdown",
      "source": [
        "# <font face=\"Helvetica\" size=\"7\">Chapter 4: Fitting a single-lens event</font>  \n",
        "\n",
        "<hr style=\"border: 1.5pt solid #a859e4; width: 100%; margin-top: -10px;\">\n",
        "\n",
        "<i> Authors: Katarzyna Kruszyńska, Amber Malpas, Somayeh Khakpash, Ali Crisp </i>\n",
        "\n",
        "<br>\n",
        "\n",
        "If you would like an introduction to python notebooks, please read this tutorial: https://medium.com/codingthesmartway-com-blog/getting-started-with-jupyter-notebook-for-python-4e7082bd5d46\n",
        "\n",
        "Please note, you must **save this notebook in a space owned by you** (a GitHub repo, gist, to Google Drive, or locally) if you want to come back to it later without losing your progress. You can edit and run this notebook on Colab, but it **will not auto save** for you."
      ],
      "metadata": {
        "id": "5Y69kDpQp3yU"
      },
      "id": "5Y69kDpQp3yU"
    },
    {
      "cell_type": "markdown",
      "source": [
        "### <font face=\"Helvetica\" size=\"5\"> Running locally and local runtimes </font>\n",
        "\n",
        "*Ignore this section if you already did these steps for another notebook.*\n",
        "\n",
        "If you choose to use lcoal resources your notebook will use your local packages, so you should install a virtual environment with the following packages. Run the cell below to create a downloadable `.yml` file, to automate the package install process (provided you are using anaconda). Failing that, you can download it from the [git repository](https://github.com/rges-pit/minicourses.git)."
      ],
      "metadata": {
        "id": "_CRfaGhrrhm7"
      },
      "id": "_CRfaGhrrhm7"
    },
    {
      "cell_type": "code",
      "source": [
        "# @title `.yml`\n",
        "yaml = '''name: minicourse\n",
        "channels:\n",
        "  - conda-forge\n",
        "dependencies:\n",
        "  - python=3.11\n",
        "  - numpy\n",
        "  - matplotlib\n",
        "  - pandas\n",
        "  - scipy\n",
        "  - jupyter\n",
        "  - ipython\n",
        "  - astropy\n",
        "  - beautifulsoup4\n",
        "  - lxml              # required parser for bs4\n",
        "  - pip\n",
        "  - pip:\n",
        "      - pathos\n",
        "      - MulensModel\n",
        "      - pyLIMA'''\n",
        "\n",
        "# save the yaml\n",
        "with open('environment.yml', 'w') as f:\n",
        "    f.write(yaml)"
      ],
      "metadata": {
        "cellView": "form",
        "id": "dLcWbSzJqUWJ"
      },
      "id": "dLcWbSzJqUWJ",
      "execution_count": null,
      "outputs": []
    },
    {
      "cell_type": "markdown",
      "source": [
        "Click the folder button on the side bar to open the file explorer. The file `environment.yml` should be in there now. Just click the triple dots on the side and then `Download` to download the `.yml` file.\n",
        "\n",
        "```bash\n",
        "conda env create -f environment.yml\n",
        "```\n",
        "\n",
        "Running the above line in a terminal (Anaconda Prompt on Windows) will create a virtual conda environment called `minicourse`, which has the required packages installed.\n",
        "\n",
        "You can activate the environment with:\n",
        "\n",
        "```bash\n",
        "conda activate minicourse\n",
        "```\n",
        "\n",
        "From here you have two options\n",
        "\n",
        "1. You can open the notebook running\n",
        "```bash\n",
        "jupyter notebook\n",
        "```\n",
        "from a parent folder to your locally saved version of this notebook and navigating to the notebook in your browser. You may need to select `minicourse` as your kernel before running the notebook.\n",
        "\n",
        "2. Alternatly, you can create a local \"Runtime\" and for your Colab notebook by following [these instructions](https://www.google.com/url?q=https%3A%2F%2Fresearch.google.com%2Fcolaboratory%2Flocal-runtimes.html).\n",
        "```bash\n",
        "jupyter notebook --NotebookApp.allow_origin='https://colab.research.google.com' --port=8888 --no-browser\n",
        "```\n",
        "\n",
        "  ⚠️ We don't generally recommend that you do this with notebooks that you didn't write as it give them access to your local machine"
      ],
      "metadata": {
        "id": "Bm_vw_1zqTkp"
      },
      "id": "Bm_vw_1zqTkp"
    },
    {
      "cell_type": "markdown",
      "source": [
        "<!-- -->"
      ],
      "metadata": {
        "id": "m9HegPVUBW58"
      },
      "id": "m9HegPVUBW58"
    },
    {
      "cell_type": "markdown",
      "source": [
        "### <font face=\"Helvetica\" size=\"5\"> Clone the rges-pit/minicourses repo </font>\n",
        "\n",
        "Do this weather you are running locally or on the cloud, if you do not already have the repo cloned. It has necessary data."
      ],
      "metadata": {
        "id": "pr1WbMUSrx9R"
      },
      "id": "pr1WbMUSrx9R"
    },
    {
      "cell_type": "code",
      "source": [
        "#@title Clone the rges-pit/minicourses repo\n",
        "!git clone https://github.com/rges-pit/minicourses"
      ],
      "metadata": {
        "colab": {
          "base_uri": "https://localhost:8080/"
        },
        "id": "CLOKzEOn2R5A",
        "outputId": "95e63bf7-cfb8-4eaf-eb85-50336aced9e9"
      },
      "id": "CLOKzEOn2R5A",
      "execution_count": null,
      "outputs": [
        {
          "output_type": "stream",
          "name": "stdout",
          "text": [
            "Cloning into 'minicourses'...\n",
            "remote: Enumerating objects: 522, done.\u001b[K\n",
            "remote: Counting objects: 100% (95/95), done.\u001b[K\n",
            "remote: Compressing objects: 100% (30/30), done.\u001b[K\n",
            "remote: Total 522 (delta 72), reused 76 (delta 65), pack-reused 427 (from 1)\u001b[K\n",
            "Receiving objects: 100% (522/522), 82.11 MiB | 12.45 MiB/s, done.\n",
            "Resolving deltas: 100% (188/188), done.\n",
            "Updating files: 100% (173/173), done.\n"
          ]
        }
      ]
    },
    {
      "cell_type": "code",
      "source": [
        "!ls -a ./minicourses/\n",
        "%cd minicourses/\n",
        "!git status"
      ],
      "metadata": {
        "colab": {
          "base_uri": "https://localhost:8080/"
        },
        "id": "ZNDlNuof2snj",
        "outputId": "9e52309b-8bf8-40ca-f573-d54c2a3ad9db"
      },
      "id": "ZNDlNuof2snj",
      "execution_count": null,
      "outputs": [
        {
          "output_type": "stream",
          "name": "stdout",
          "text": [
            ".   chapter1  chapter3\tchapter5  .gitignore  README.md\n",
            "..  chapter2  chapter4\t.git\t  LICENSE     trials\n",
            "/content/minicourses\n",
            "On branch main\n",
            "Your branch is up to date with 'origin/main'.\n",
            "\n",
            "nothing to commit, working tree clean\n"
          ]
        }
      ]
    },
    {
      "cell_type": "code",
      "source": [
        "!git pull\n",
        "!git status"
      ],
      "metadata": {
        "colab": {
          "base_uri": "https://localhost:8080/"
        },
        "collapsed": true,
        "id": "wYuaQc5l370U",
        "outputId": "b22427a7-797b-4782-d220-d2688550a59b"
      },
      "id": "wYuaQc5l370U",
      "execution_count": null,
      "outputs": [
        {
          "output_type": "stream",
          "name": "stdout",
          "text": [
            "Already up to date.\n",
            "On branch main\n",
            "Your branch is up to date with 'origin/main'.\n",
            "\n",
            "nothing to commit, working tree clean\n"
          ]
        }
      ]
    },
    {
      "cell_type": "markdown",
      "id": "868e9516-74f2-42a3-b7a9-bdb712282bf2",
      "metadata": {
        "id": "868e9516-74f2-42a3-b7a9-bdb712282bf2"
      },
      "source": [
        "## <font face=\"Helvetica\" size=\"6\"> 1. Introduction </font>\n",
        "\n",
        "<hr style=\"border: 1.5pt solid #a859e4; width: 100%; margin-top: -10px;\">\n",
        "\n",
        "Welcome to **Chapter 4: Homework - Fitting a single-lens event.**\n",
        "\n",
        "This notebook contains a homework exercise for you to complete in you own time, but preferably before tomorrow's wprkshop. This exercise was adapted from the [**SingleLens**](https://github.com/AmberLee2427/TheMicrolensersGuideToTheGalaxy/blob/main/Notebooks/SingleLens.ipynb) notebook by Amber Malpas. We highly recommend checking out `The Microlensiers Guide to the Galaxy` if you're looking for more information on microlensing. We also followed [**`MulensModel` Example 2**](https://github.com/rpoleski/MulensModel/blob/master/examples/example_02_fitting.py).\n",
        "\n",
        "In this exercise, you will fit a single, point-source-point-lens (PSPL) microlensing event. Such an event has a single peak, but it may be assymetrical (or even have wobbles) due to the **parallax** effect or have a flatter peak due to the **finite source** effect.\n",
        "\n",
        "Here, we will focus on fitting the event with the [**MulensModel**](https://github.com/rpoleski/MulensModel) package developed by Radek Poleski, Jennifer Yee and collaborators. There are many other packages you can use in the future:\n",
        "- [**`pyLIMA`**](https://github.com/ebachelet/pyLIMA),\n",
        "- [**`BAGLE`**](https://github.com/MovingUniverseLab/BAGLE_Microlensing),\n",
        "- [**`VBMicrolensing`**](https://github.com/valboz/VBMicrolensing),\n",
        "- [**`RTModel`**](https://github.com/valboz/RTModel),\n",
        "- ...,\n",
        "  \n",
        "but here we will focus on `MulensModel` to introduce you to the general idea of how these packages work."
      ]
    },
    {
      "cell_type": "markdown",
      "id": "0570e6ed-f460-4600-9bc4-d0451330f500",
      "metadata": {
        "id": "0570e6ed-f460-4600-9bc4-d0451330f500"
      },
      "source": [
        "### <font face=\"Helvetica\" size=\"5\"> 1.1 Load packages </font>\n"
      ]
    },
    {
      "cell_type": "code",
      "execution_count": null,
      "id": "e5b785c6-98c3-4243-bf35-1784c23f8a3d",
      "metadata": {
        "colab": {
          "base_uri": "https://localhost:8080/"
        },
        "collapsed": true,
        "id": "e5b785c6-98c3-4243-bf35-1784c23f8a3d",
        "outputId": "ffe3bbf9-e3f1-4395-e00d-2b26225c8de3"
      },
      "outputs": [
        {
          "output_type": "stream",
          "name": "stdout",
          "text": [
            "Collecting MulensModel\n",
            "  Downloading mulensmodel-3.1.0-cp311-cp311-manylinux_2_17_x86_64.manylinux2014_x86_64.whl.metadata (756 bytes)\n",
            "Requirement already satisfied: numpy in /usr/local/lib/python3.11/dist-packages (from MulensModel) (2.0.2)\n",
            "Requirement already satisfied: scipy>=0.18.0 in /usr/local/lib/python3.11/dist-packages (from MulensModel) (1.15.3)\n",
            "Requirement already satisfied: astropy>=1.2.0 in /usr/local/lib/python3.11/dist-packages (from MulensModel) (7.0.2)\n",
            "Requirement already satisfied: matplotlib in /usr/local/lib/python3.11/dist-packages (from MulensModel) (3.10.0)\n",
            "Requirement already satisfied: sympy in /usr/local/lib/python3.11/dist-packages (from MulensModel) (1.13.1)\n",
            "Requirement already satisfied: py-cpuinfo in /usr/local/lib/python3.11/dist-packages (from MulensModel) (9.0.0)\n",
            "Requirement already satisfied: pyerfa>=2.0.1.1 in /usr/local/lib/python3.11/dist-packages (from astropy>=1.2.0->MulensModel) (2.0.1.5)\n",
            "Requirement already satisfied: astropy-iers-data>=0.2025.4.28.0.37.27 in /usr/local/lib/python3.11/dist-packages (from astropy>=1.2.0->MulensModel) (0.2025.5.12.0.38.29)\n",
            "Requirement already satisfied: PyYAML>=6.0.0 in /usr/local/lib/python3.11/dist-packages (from astropy>=1.2.0->MulensModel) (6.0.2)\n",
            "Requirement already satisfied: packaging>=22.0.0 in /usr/local/lib/python3.11/dist-packages (from astropy>=1.2.0->MulensModel) (24.2)\n",
            "Requirement already satisfied: contourpy>=1.0.1 in /usr/local/lib/python3.11/dist-packages (from matplotlib->MulensModel) (1.3.2)\n",
            "Requirement already satisfied: cycler>=0.10 in /usr/local/lib/python3.11/dist-packages (from matplotlib->MulensModel) (0.12.1)\n",
            "Requirement already satisfied: fonttools>=4.22.0 in /usr/local/lib/python3.11/dist-packages (from matplotlib->MulensModel) (4.58.0)\n",
            "Requirement already satisfied: kiwisolver>=1.3.1 in /usr/local/lib/python3.11/dist-packages (from matplotlib->MulensModel) (1.4.8)\n",
            "Requirement already satisfied: pillow>=8 in /usr/local/lib/python3.11/dist-packages (from matplotlib->MulensModel) (11.2.1)\n",
            "Requirement already satisfied: pyparsing>=2.3.1 in /usr/local/lib/python3.11/dist-packages (from matplotlib->MulensModel) (3.2.3)\n",
            "Requirement already satisfied: python-dateutil>=2.7 in /usr/local/lib/python3.11/dist-packages (from matplotlib->MulensModel) (2.9.0.post0)\n",
            "Requirement already satisfied: mpmath<1.4,>=1.1.0 in /usr/local/lib/python3.11/dist-packages (from sympy->MulensModel) (1.3.0)\n",
            "Requirement already satisfied: six>=1.5 in /usr/local/lib/python3.11/dist-packages (from python-dateutil>=2.7->matplotlib->MulensModel) (1.17.0)\n",
            "Downloading mulensmodel-3.1.0-cp311-cp311-manylinux_2_17_x86_64.manylinux2014_x86_64.whl (634 kB)\n",
            "\u001b[2K   \u001b[90m━━━━━━━━━━━━━━━━━━━━━━━━━━━━━━━━━━━━━━━━\u001b[0m \u001b[32m634.1/634.1 kB\u001b[0m \u001b[31m7.7 MB/s\u001b[0m eta \u001b[36m0:00:00\u001b[0m\n",
            "\u001b[?25hInstalling collected packages: MulensModel\n",
            "Successfully installed MulensModel-3.1.0\n"
          ]
        }
      ],
      "source": [
        "import os\n",
        "\n",
        "from typing import Tuple, Callable, Optional, List\n",
        "\n",
        "import numpy as np\n",
        "import matplotlib.pyplot as plt\n",
        "import pandas as pd\n",
        "\n",
        "from scipy.optimize import minimize\n",
        "\n",
        "# microlensing tool\n",
        "!pip install MulensModel\n",
        "import MulensModel as mm"
      ]
    },
    {
      "cell_type": "code",
      "source": [
        "#@title Removing the 'data' file inside `mulensmodel_dir`\n",
        "\n",
        "mulensmodel_dir = os.path.dirname(mm.__file__)\n",
        "data_file_path = os.path.join(mulensmodel_dir, 'data')\n",
        "\n",
        "if os.path.exists(data_file_path):\n",
        "  if os.path.isfile(data_file_path):\n",
        "    os.remove(data_file_path)\n",
        "  else:\n",
        "    shutil.rmtree(data_file_path)\n",
        "  print(f\"Removed 'data' file or directory from {mulensmodel_dir}\")\n",
        "else:\n",
        "  print(f\"No 'data' file or directory found in {mulensmodel_dir}\")"
      ],
      "metadata": {
        "colab": {
          "base_uri": "https://localhost:8080/"
        },
        "cellView": "form",
        "id": "z62Ygp7M3fks",
        "outputId": "aac62296-857c-48d6-b75e-145df0973721"
      },
      "id": "z62Ygp7M3fks",
      "execution_count": null,
      "outputs": [
        {
          "output_type": "stream",
          "name": "stdout",
          "text": [
            "Removed 'data' file or directory from /usr/local/lib/python3.11/dist-packages/MulensModel\n"
          ]
        }
      ]
    },
    {
      "cell_type": "code",
      "source": [
        "#@title Replace this path with the path printed above, if they are different\n",
        "!ls /usr/local/lib/python3.11/dist-packages/MulensModel"
      ],
      "metadata": {
        "cellView": "form",
        "id": "4qhr7ChN3mQo"
      },
      "id": "4qhr7ChN3mQo",
      "execution_count": null,
      "outputs": []
    },
    {
      "cell_type": "markdown",
      "source": [
        "### <font face=\"Helvetica\" size=\"5\"> 1.2 Necessary functions </font>"
      ],
      "metadata": {
        "id": "-uMdWliPvFj_"
      },
      "id": "-uMdWliPvFj_"
    },
    {
      "cell_type": "code",
      "execution_count": null,
      "id": "0d641716-ba24-4491-9718-e4dc71dbb5d8",
      "metadata": {
        "id": "0d641716-ba24-4491-9718-e4dc71dbb5d8"
      },
      "outputs": [],
      "source": [
        "def flux2mag(flux: np.ndarray,\n",
        "             zp: Optional[float] = 25.0\n",
        "             ) -> np.ndarray:\n",
        "    '''\n",
        "    Converts flux values (array) to magnitude.\n",
        "\n",
        "    Parameters\n",
        "    ----------\n",
        "    mag : np.ndarray\n",
        "        Array of magnitudes.\n",
        "    zp : float, optional\n",
        "        Zero point of the magnitude system (default is 25.0).\n",
        "\n",
        "    Returns\n",
        "    -------\n",
        "    f : np.ndarray\n",
        "        Array of magnitudes.\n",
        "    '''\n",
        "    f = zp - (2.5 * np.log10(flux))\n",
        "    return f\n",
        "\n",
        "\n",
        "def mag2flux(mag: np.ndarray,\n",
        "             zp: Optional[float] = 25.0\n",
        "             ) -> np.ndarray:\n",
        "    '''\n",
        "    Converts magnitude values (array) to flux.\n",
        "\n",
        "    Parameters\n",
        "    ----------\n",
        "    mag : np.ndarray\n",
        "        Array of magnitudes.\n",
        "    zp : float, optional\n",
        "        Zero point of the magnitude system (default is 25.0).\n",
        "\n",
        "    Returns\n",
        "    -------\n",
        "    f : np.ndarray\n",
        "        Array of fluxes.\n",
        "    '''\n",
        "    f = 10.0**((mag - zp) / -2.5)\n",
        "    return f\n",
        "\n",
        "def mag2flux_err(mag: np.ndarray, mag_err: np.ndarray,\n",
        "                 zp: Optional[float] = 25.0):\n",
        "    '''\n",
        "    Converts magnitude values and errors (array) to flux using error propagation formula.\n",
        "\n",
        "    Parameters\n",
        "    ----------\n",
        "    mag : np.ndarray\n",
        "        Array of magnitudes.\n",
        "    mag_err : np.ndarray\n",
        "        Array of magnitude errors.\n",
        "    zp : float, optional\n",
        "        Zero point of the magnitude system (default is 25.0).\n",
        "\n",
        "    Returns\n",
        "    -------\n",
        "    flux_err : np.ndarray\n",
        "        Array of flux errors.\n",
        "    '''\n",
        "    dfdmag = -0.4 * np.log(10) * 10.**(0.4*(zp-mag))\n",
        "    flux_err = np.sqrt(dfdmag**2 * mag_err**2)\n",
        "    return flux_err\n",
        "\n",
        "def read_data(data_dir: str,\n",
        "              extension: Optional[List[str]] = ['dat','diapl','pysis','txt']\n",
        "              ) -> dict:\n",
        "    '''\n",
        "    Reads in the data from a directory.\n",
        "\n",
        "    Parameters\n",
        "    ----------\n",
        "    dir : str\n",
        "        Directory path.\n",
        "\n",
        "    Returns\n",
        "    -------\n",
        "    data : dict\n",
        "        Dictionary containing the data.\n",
        "        Keys are observatory names, and values are tuples of (t_data, flux_data, flux_err_data).\n",
        "            t_data : np.ndarray\n",
        "                Time data.\n",
        "            mag_data : np.ndarray\n",
        "                Magnitude data.\n",
        "            mag_err_data : np.ndarray\n",
        "                Magnitude error data.\n",
        "    '''\n",
        "    data = {} # initalizing data dictinary\n",
        "\n",
        "    # list of all the 'dat' files in data_directory\n",
        "    files = [f for f in os.listdir(data_dir) if f.split('.')[-1] in extension]\n",
        "\n",
        "    print(files)\n",
        "\n",
        "    files.sort() # alphabetise the data files\n",
        "\n",
        "    for f in files:\n",
        "\n",
        "        if 'horizon' in f:\n",
        "            continue\n",
        "\n",
        "        # creating the path to each data file\n",
        "        if data_dir[-1] == '/':\n",
        "            datafile = data_dir + f\n",
        "        else:\n",
        "            datafile = data_dir + '/' + f\n",
        "\n",
        "        # Reading in the data\n",
        "        t_data = np.loadtxt(datafile, usecols=0)\n",
        "        mag = np.loadtxt(datafile, usecols=1)\n",
        "        mag_err = np.loadtxt(datafile, usecols=2)\n",
        "\n",
        "        if 'OGLE' in f:  # (HJD, mag, mag_err, quality?, sky counts?)\n",
        "            observatory = 'OGLE'\n",
        "            flux_data = mag2flux(mag, zp=28.)\n",
        "            flux_err_data = mag2flux_err(mag, mag_err, zp=28)\n",
        "        if 'Spitzer' in f:  # (HJD, mag, mag_err)\n",
        "            observatory = 'Spitzer'\n",
        "            flux_data = mag2flux(mag, zp=28.)\n",
        "            flux_err_data = mag2flux_err(mag, mag_err, zp=28)\n",
        "        if 'KMT' in f:\n",
        "            t_data = t_data + 2450000.\n",
        "            flux_data = mag2flux(mag, zp=28.)\n",
        "            flux_err_data = mag2flux_err(mag, mag_err, zp=28.65)\n",
        "\n",
        "            if 'KMTA' in f:  # (HJD, mag, mag_err)\n",
        "                observatory = 'KMT-A'\n",
        "            elif 'KMTC' in f:\n",
        "                observatory = 'KMT-C'\n",
        "            elif 'KMTS' in f:\n",
        "                observatory = 'KMT-S'\n",
        "\n",
        "        data[observatory] = (t_data, flux_data, flux_err_data)\n",
        "\n",
        "    return data"
      ]
    },
    {
      "cell_type": "markdown",
      "source": [
        "## <font face=\"Helvetica\" size=\"6\"> 2. Data </font>\n",
        "\n",
        "<hr style=\"border: 1.5pt solid #a859e4; width: 100%; margin-top: -10px;\">\n"
      ],
      "metadata": {
        "id": "FeMhRxKTvrRe"
      },
      "id": "FeMhRxKTvrRe"
    },
    {
      "cell_type": "code",
      "execution_count": null,
      "id": "c04b8af7-072f-41ff-8dd4-c2b41970feb6",
      "metadata": {
        "colab": {
          "base_uri": "https://localhost:8080/"
        },
        "id": "c04b8af7-072f-41ff-8dd4-c2b41970feb6",
        "outputId": "cf781acb-3525-4d27-fd53-f7b67bb3f66e"
      },
      "outputs": [
        {
          "output_type": "stream",
          "name": "stdout",
          "text": [
            "['KMTS42_I.txt', 'KMTA42_I.txt', 'KMTC42_I.txt', 'OGLE-2017-BLG-0002.txt']\n"
          ]
        }
      ],
      "source": [
        "#@title Data directories\n",
        "\n",
        "# if this line doesn't work, double check your file path matches what you see\n",
        "# in the finder (the folder icon on the sidebar in `colab`)\n",
        "data_dir = os.path.abspath('chapter4/data/events/OB170002/')\n",
        "\n",
        "data = read_data(data_dir)"
      ]
    },
    {
      "cell_type": "markdown",
      "id": "229c4471-ec90-46bf-8216-e699d4a7190a",
      "metadata": {
        "id": "229c4471-ec90-46bf-8216-e699d4a7190a"
      },
      "source": [
        "Now we will add the data with the `MulensData` class ([**see documentation**](https://rpoleski.github.io/MulensModel/MulensModel.mulensdata.html#module-MulensModel.mulensdata)). This class not only remembers what sort of data we have for each light curve but can also hold information on the units of the data we have, used filters and plotting parameters. It also has some useful methods that can help with working with the data."
      ]
    },
    {
      "cell_type": "code",
      "execution_count": null,
      "id": "2af11fb0-fc1d-4339-a7a3-190b5174f4a8",
      "metadata": {
        "id": "2af11fb0-fc1d-4339-a7a3-190b5174f4a8"
      },
      "outputs": [],
      "source": [
        "#@title Creating `MulensModel`, `MulensData` objects\n",
        "OB170002_KMTC_data = mm.MulensData(data_list = data['KMT-C'],\n",
        "                                            plot_properties={'color':'purple', 'label':'KMT-C', 'marker':'x', 'markersize':2},\n",
        "                                            phot_fmt='flux',\n",
        "                                            bandpass='I')\n",
        "OB170002_KMTA_data = mm.MulensData(data_list = data['KMT-A'],\n",
        "                                            plot_properties={'color':'violet', 'label':'KMT-A', 'marker':'x', 'markersize':2},\n",
        "                                            phot_fmt='flux',\n",
        "                                            bandpass='I')\n",
        "OB170002_KMTS_data = mm.MulensData(data_list = data['KMT-S'],\n",
        "                                            plot_properties={'color':'plum', 'label':'KMT-S', 'marker':'x', 'markersize':2},\n",
        "                                            phot_fmt='flux',\n",
        "                                            bandpass='I')\n",
        "OB170002_OGLE_data = mm.MulensData(data_list = data['OGLE'],\n",
        "                                            plot_properties={'color':'thistle', 'label':'OGLE', 'marker':'x', 'markersize':2},\n",
        "                                            phot_fmt='flux',\n",
        "                                            bandpass='I')\n",
        "\n",
        "OB170002_data = [OB170002_KMTC_data, OB170002_KMTA_data, OB170002_KMTS_data, OB170002_OGLE_data]"
      ]
    },
    {
      "cell_type": "markdown",
      "id": "290db51e-6e04-4818-afc3-4dee6f89c403",
      "metadata": {
        "id": "290db51e-6e04-4818-afc3-4dee6f89c403"
      },
      "source": [
        "### <font face=\"Helvetica\" size=\"5\"> 2.1 Plotting the data </font>\n",
        "Now let's take a look at this data!"
      ]
    },
    {
      "cell_type": "code",
      "execution_count": null,
      "id": "0d3bd4a6-b480-4f13-8dcf-580ade9880c8",
      "metadata": {
        "colab": {
          "base_uri": "https://localhost:8080/",
          "height": 472
        },
        "id": "0d3bd4a6-b480-4f13-8dcf-580ade9880c8",
        "outputId": "777cb0e7-0396-4e10-c586-e5d3c65061bf",
        "cellView": "form"
      },
      "outputs": [
        {
          "output_type": "display_data",
          "data": {
            "text/plain": [
              "<Figure size 640x480 with 1 Axes>"
            ],
            "image/png": "[encoded data removed]"
          },
          "metadata": {}
        }
      ],
      "source": [
        "#@title Example plot\n",
        "\n",
        "plt.figure()\n",
        "# MulensModel has a very handy method for MulensData class\n",
        "OB170002_OGLE_data.plot()\n",
        "OB170002_KMTA_data.plot()\n",
        "OB170002_KMTS_data.plot()\n",
        "OB170002_KMTC_data.plot()\n",
        "\n",
        "plt.legend()\n",
        "plt.ylim(5000, 40000)\n",
        "plt.title('OB170002')\n",
        "plt.ylabel('Flux')\n",
        "plt.xlabel('JD')\n",
        "\n",
        "# Use this line to change the plot window\n",
        "# plt.xlim(2457000., 2458000.)\n",
        "# plt.ylim(5000., 35000.)\n",
        "\n",
        "plt.show()"
      ]
    },
    {
      "cell_type": "markdown",
      "id": "f77462cd-19d7-4175-9eb8-d7086fb51aad",
      "metadata": {
        "id": "f77462cd-19d7-4175-9eb8-d7086fb51aad"
      },
      "source": [
        "What a pretty event! You can zoom in to check its features using the zoom button in jupyter notebook and jupyter lab, or by editing the `xlim` and `ylim` plot attributes in the cell above."
      ]
    },
    {
      "cell_type": "markdown",
      "id": "70335f0c-4b75-4dae-9637-0e95743461c4",
      "metadata": {
        "id": "70335f0c-4b75-4dae-9637-0e95743461c4"
      },
      "source": [
        "## <font face=\"Helvetica\" size=\"6\"> 3. PSPL model </font>\n",
        "\n",
        "<hr style=\"border: 1.5pt solid #a859e4; width: 100%; margin-top: -10px;\">"
      ]
    },
    {
      "cell_type": "markdown",
      "id": "1ef8ffcd-2dce-488e-af4f-e9a1e2979103",
      "metadata": {
        "id": "1ef8ffcd-2dce-488e-af4f-e9a1e2979103"
      },
      "source": [
        "#### <font face=\"Helvetica\" size=\"5\"> 3.1 Define the PSPL model (using `MulensModel`, `Model` objects) </font>"
      ]
    },
    {
      "cell_type": "markdown",
      "id": "e5f0dda7-b92b-4ab1-af18-a301521d3bf1",
      "metadata": {
        "id": "e5f0dda7-b92b-4ab1-af18-a301521d3bf1"
      },
      "source": [
        "Let's define a single event model for this using `MulensModel` `Model` class ([**see documentation**](https://rpoleski.github.io/MulensModel/MulensModel.model.html#module-MulensModel.model)). This model will not have any extra features (for now)."
      ]
    },
    {
      "cell_type": "code",
      "execution_count": null,
      "id": "64ccdff8-762b-4d8a-baca-2a8e42d628ec",
      "metadata": {
        "id": "64ccdff8-762b-4d8a-baca-2a8e42d628ec"
      },
      "outputs": [],
      "source": [
        "#@title Initial guess\n",
        "\n",
        "t0, u0, tE = 2457792., 0.3, 10 # you can guess the parameters here\n",
        "Theta0 = np.array([t0, u0, tE])  # initial guess\n",
        "labels = np.array(['t_0', 'u_0', 't_E']) # parameter labels\n",
        "\n",
        "# We define the MulensModel model object here\n",
        "OB170002_pspl = mm.Model({'t_0': t0, 'u_0': u0, 't_E': tE})"
      ]
    },
    {
      "cell_type": "markdown",
      "id": "022a8341-4341-4f46-8fd6-e0708e774bae",
      "metadata": {
        "id": "022a8341-4341-4f46-8fd6-e0708e774bae"
      },
      "source": [
        "Let's check how well our guess fits to the data."
      ]
    },
    {
      "cell_type": "code",
      "execution_count": null,
      "id": "c1f18629-0d70-4804-9540-9c7f0b92b30f",
      "metadata": {
        "colab": {
          "base_uri": "https://localhost:8080/",
          "height": 472
        },
        "id": "c1f18629-0d70-4804-9540-9c7f0b92b30f",
        "outputId": "38a0aa8f-1672-4328-8993-b68e2298b3ac"
      },
      "outputs": [
        {
          "output_type": "display_data",
          "data": {
            "text/plain": [
              "<Figure size 640x480 with 1 Axes>"
            ],
            "image/png": "[encoded data removed]"
          },
          "metadata": {}
        }
      ],
      "source": [
        "plt.figure()\n",
        "\n",
        "t = np.linspace(2457000, 2458100, 2000)  # time range\n",
        "A0 = OB170002_pspl.get_magnification(t)  # initial guess magnification curve\n",
        "plt.plot(t, A0*8500, label='Initial Guess', color='black', linestyle=':')\n",
        "\n",
        "OB170002_OGLE_data.plot()\n",
        "OB170002_KMTA_data.plot()\n",
        "OB170002_KMTS_data.plot()\n",
        "OB170002_KMTC_data.plot()\n",
        "\n",
        "plt.title('OB170002')\n",
        "plt.ylabel('Flux')\n",
        "plt.xlabel('JD-2450000')\n",
        "\n",
        "plt.ylim(5000, 40000)\n",
        "# plt.xlim(2457000., 2458000.)\n",
        "\n",
        "plt.show()"
      ]
    },
    {
      "cell_type": "markdown",
      "id": "9e7ef059-6c4d-46c2-b3c1-05ed949f9423",
      "metadata": {
        "id": "9e7ef059-6c4d-46c2-b3c1-05ed949f9423"
      },
      "source": [
        "Nice! Let's try fitting a PSPL model to this event using MulensModel."
      ]
    },
    {
      "cell_type": "markdown",
      "id": "762e9f1a-b734-4722-94d4-7f2499c34bd4",
      "metadata": {
        "id": "762e9f1a-b734-4722-94d4-7f2499c34bd4"
      },
      "source": [
        "#### <font face=\"Helvetica\" size=\"5\"> 3.2 Making a `MulensModel`, `Event` object </font>"
      ]
    },
    {
      "cell_type": "markdown",
      "id": "f9ad55de-f1b0-4ef3-9ab6-2a2b8699fb1c",
      "metadata": {
        "id": "f9ad55de-f1b0-4ef3-9ab6-2a2b8699fb1c"
      },
      "source": [
        "First we have to define a `MulensModel` `Event` object ([**see documentation**](https://rpoleski.github.io/MulensModel/MulensModel.event.html#module-MulensModel.event)). It will rememeber all important information about the event for us."
      ]
    },
    {
      "cell_type": "code",
      "execution_count": null,
      "id": "55901885-a266-41b0-8270-f03076d27d49",
      "metadata": {
        "id": "55901885-a266-41b0-8270-f03076d27d49"
      },
      "outputs": [],
      "source": [
        "OB170002 = mm.Event(datasets=OB170002_data, model=OB170002_pspl)"
      ]
    },
    {
      "cell_type": "markdown",
      "id": "d9772c05-3b4d-44d8-95b6-944c8559973b",
      "metadata": {
        "id": "d9772c05-3b4d-44d8-95b6-944c8559973b"
      },
      "source": [
        "Now, we have to define a function that will measure how well our current model fits to data. In microlensing, we often use $\\chi^2$ for this. This means we will be minimizing the $\\chi^2$ value to find the best-fitting parameters."
      ]
    },
    {
      "cell_type": "markdown",
      "source": [
        "#### <font face=\"Helvetica\" size=\"5\"> 3.3 Setting up the fit </font>"
      ],
      "metadata": {
        "id": "ZOu8PmJb0yTn"
      },
      "id": "ZOu8PmJb0yTn"
    },
    {
      "cell_type": "code",
      "execution_count": null,
      "id": "a734e46c-827b-4690-a693-9e91f85ebf13",
      "metadata": {
        "id": "a734e46c-827b-4690-a693-9e91f85ebf13",
        "cellView": "form"
      },
      "outputs": [],
      "source": [
        "#@title Defining our objective function\n",
        "\n",
        "def chi2_fun(theta, parameters_to_fit, event):\n",
        "    \"\"\"\n",
        "    Calculate chi2 for given values of parameters.\n",
        "\n",
        "    Parameters\n",
        "    ----------\n",
        "    theta : np.ndarray\n",
        "        Vector of parameter values, e.g., `np.array([5380., 0.5, 20.])`.\n",
        "    parameters_to_fit : list of str\n",
        "        List of names of parameters corresponding to theta, e.g., `['t_0', 'u_0', 't_E']`.\n",
        "    event : MulensModel.Event\n",
        "        Event which has datasets for which chi2 will be calculated.\n",
        "\n",
        "    Returns\n",
        "    -------\n",
        "    chi2 : float\n",
        "        Chi2 value for given model parameters.\n",
        "\n",
        "    Notes\n",
        "    -----\n",
        "    Function from MulensModel documentation:\n",
        "    https://github.com/rpoleski/MulensModel/blob/master/examples/example_02_fitting.py\n",
        "    \"\"\"\n",
        "    # First we have to change the values of parameters in\n",
        "    # event.model.parameters to values given by theta.\n",
        "    for (parameter, value) in zip(parameters_to_fit, theta):\n",
        "        setattr(event.model.parameters, parameter, value)\n",
        "\n",
        "    # After that, calculating chi2 is trivial:\n",
        "    return event.get_chi2()"
      ]
    },
    {
      "cell_type": "markdown",
      "id": "11f571d6-6358-4821-8347-9bf92e7f2a0a",
      "metadata": {
        "id": "11f571d6-6358-4821-8347-9bf92e7f2a0a"
      },
      "source": [
        "Let's see how well the initial guess fits to the data."
      ]
    },
    {
      "cell_type": "code",
      "execution_count": null,
      "id": "39dd6719-4cd0-45df-9a11-af0fd6cfb144",
      "metadata": {
        "colab": {
          "base_uri": "https://localhost:8080/"
        },
        "id": "39dd6719-4cd0-45df-9a11-af0fd6cfb144",
        "outputId": "435d1cf0-b1d4-4e9d-eb55-d3c421bae521",
        "cellView": "form"
      },
      "outputs": [
        {
          "output_type": "stream",
          "name": "stdout",
          "text": [
            "Initial Parameter Guess:\n",
            "    t_0 (HJD)       u_0    t_E (d) \n",
            "2457792.00000  0.300000    10.0000 \n",
            "chi^2 = 28887.42\n"
          ]
        }
      ],
      "source": [
        "#@title Testing the initial guess\n",
        "\n",
        "print('Initial Parameter Guess:\\n{0}'.format(OB170002.model.parameters))\n",
        "print('chi^2 = %.2f'%(chi2_fun(Theta0, labels, OB170002)))"
      ]
    },
    {
      "cell_type": "markdown",
      "id": "ff006005-dda1-4ede-9815-f82743733d14",
      "metadata": {
        "id": "ff006005-dda1-4ede-9815-f82743733d14"
      },
      "source": [
        "### <font face=\"Helvetica\" size=\"5\"> 3.4 Finding the best-fitting PSPL solution </font>\n",
        "\n",
        "Let's see if we can find a better fitting solution (a set of model parameters that is more likely to have produce the observed data). We will use `minimize` function from `scipy.optimize` package ([**see documentation here**](https://docs.scipy.org/doc/scipy/reference/generated/scipy.optimize.minimize.html))."
      ]
    },
    {
      "cell_type": "code",
      "execution_count": null,
      "id": "b4679d26-67b7-4345-a9dd-9e8ba687b455",
      "metadata": {
        "colab": {
          "base_uri": "https://localhost:8080/"
        },
        "id": "b4679d26-67b7-4345-a9dd-9e8ba687b455",
        "outputId": "7daad95f-8f88-4a68-a78b-da2fc837bac4"
      },
      "outputs": [
        {
          "output_type": "stream",
          "name": "stdout",
          "text": [
            "Final Parameters:\n",
            "    t_0 (HJD)       u_0    t_E (d) \n",
            "2457792.81524  0.251112    13.9763 \n",
            "chi^2 = 27518.26\n",
            "\n",
            "Difference in chi^2 between initial guess and fitted parameters\n",
            "delta_chi^2 = 1369.16\n"
          ]
        }
      ],
      "source": [
        "#@title Find the best-fit parameters\n",
        "\n",
        "# Theta0 is our vector with starting parameters.\n",
        "# We also have to pass parameter names (labels) and event object (OB170002)\n",
        "# to let the fitting function on what event we will be working on\n",
        "result = minimize(\n",
        "    chi2_fun, x0=Theta0, args=(labels, OB170002),\n",
        "    method='Nelder-Mead')\n",
        "\n",
        "Theta_fit = result.x\n",
        "\n",
        "print('Final Parameters:\\n{0}'.format(OB170002.model.parameters))\n",
        "print('chi^2 = %.2f'%(chi2_fun(Theta_fit, labels, OB170002)))\n",
        "\n",
        "print('\\nDifference in chi^2 between initial guess and fitted parameters')\n",
        "print('delta_chi^2 = %.2f'%(chi2_fun(Theta0, labels, OB170002) - chi2_fun(Theta_fit, labels, OB170002)))"
      ]
    },
    {
      "cell_type": "markdown",
      "id": "7a096a31-3b57-459b-a835-12c54bfbc177",
      "metadata": {
        "id": "7a096a31-3b57-459b-a835-12c54bfbc177"
      },
      "source": [
        "### <font face=\"Helvetica\" size=\"5\"> 3.5 Displaying the results </font>\n",
        "Great! Let's display our initial and final solutions together!"
      ]
    },
    {
      "cell_type": "code",
      "execution_count": null,
      "id": "60bcf727-ac5f-4930-84a5-28d986f3489a",
      "metadata": {
        "colab": {
          "base_uri": "https://localhost:8080/",
          "height": 611
        },
        "id": "60bcf727-ac5f-4930-84a5-28d986f3489a",
        "outputId": "037454d9-4c78-4a45-b34c-e1518611faca"
      },
      "outputs": [
        {
          "output_type": "stream",
          "name": "stderr",
          "text": [
            "/usr/local/lib/python3.11/dist-packages/MulensModel/utils.py:147: UserWarning: Flux to magnitude conversion approached negative flux\n",
            "  warnings.warn(\n",
            "/usr/local/lib/python3.11/dist-packages/MulensModel/utils.py:150: RuntimeWarning: invalid value encountered in log10\n",
            "  mag = zeropoint - 2.5 * np.log10(flux)\n",
            "/usr/local/lib/python3.11/dist-packages/MulensModel/mulensdata.py:504: UserWarning: Some good data points have scaled errorbars with negative values. Setting them to zero for plotting.\n",
            "Dataset: KMT-A\n",
            "Epochs: [2457910.31023]\n",
            "  warnings.warn(msg.format(kind, self._get_name(), self.time[indexes]))\n"
          ]
        },
        {
          "output_type": "display_data",
          "data": {
            "text/plain": [
              "<Figure size 640x480 with 1 Axes>"
            ],
            "image/png": "[encoded data removed]"
          },
          "metadata": {}
        }
      ],
      "source": [
        "#@title Final plot\n",
        "\n",
        "plt.figure()\n",
        "\n",
        "chi20 = chi2_fun(Theta0, labels, OB170002)  # initial guess chi2\n",
        "\n",
        "init_model = mm.Model({'t_0': t0, 'u_0': u0, 't_E': tE})\n",
        "init_fit = mm.FitData(dataset=OB170002_data[0], model=init_model)\n",
        "init_fit.fit_fluxes()\n",
        "\n",
        "init_model.plot_lc(source_flux=init_fit.source_flux,\n",
        "                   blend_flux=init_fit.blend_flux,\n",
        "                   label='Initial Guess $\\chi^2$=%1.3f'%chi20,\n",
        "                   color='#a859e4',\n",
        "                   linestyle=':'\n",
        "                   )\n",
        "\n",
        "chi2_fit = chi2_fun(Theta_fit, labels, OB170002)  # fitted parameters chi2\n",
        "OB170002.plot_model(label='Final Fit $\\chi^2$=%1.3f'%chi2_fit,\n",
        "                    color='#361d49',\n",
        "                    linestyle='-',\n",
        "                    t_range=[2457000, 2458100]\n",
        "                    )\n",
        "\n",
        "# MulensModel automatically fits for the source and blend flux for the\n",
        "# given model.\n",
        "OB170002.plot_data()\n",
        "\n",
        "plt.legend(loc='best')\n",
        "plt.title('OB170002')\n",
        "plt.ylim(12.5, 10)\n",
        "plt.xlim(2457750,2458000)\n",
        "plt.show()"
      ]
    },
    {
      "cell_type": "markdown",
      "id": "a3393054-263d-42a5-a5c5-ecb77b17b10d",
      "metadata": {
        "id": "a3393054-263d-42a5-a5c5-ecb77b17b10d"
      },
      "source": [
        "## <font face=\"Helvetica\" size=\"6\"> 4. Adding the finite source effect </font>\n",
        "\n",
        "<hr style=\"border: 1.5pt solid #a859e4; width: 100%; margin-top: -10px;\">"
      ]
    },
    {
      "cell_type": "markdown",
      "id": "31c348b7-d0d7-4dc4-b336-670ed404a54a",
      "metadata": {
        "id": "31c348b7-d0d7-4dc4-b336-670ed404a54a"
      },
      "source": [
        "Okay! Now, we will complicate our model a bit. Let's add the finite source effect, which occurs when the source size is comparable to the size of the Einstein ring.\n",
        "\n",
        "We will follow the same procedure as before. There will be some areas left for you to fill, following the examples above."
      ]
    },
    {
      "cell_type": "markdown",
      "id": "1833f46b-124f-4e1a-a175-0330defce7b0",
      "metadata": {
        "id": "1833f46b-124f-4e1a-a175-0330defce7b0"
      },
      "source": [
        "### <font face=\"Helvetica\" size=\"5\"> 4.1 Define FSPL `Model` object </font>"
      ]
    },
    {
      "cell_type": "code",
      "execution_count": null,
      "id": "4851edb1-1090-464d-9f15-d0da70ad325d",
      "metadata": {
        "id": "4851edb1-1090-464d-9f15-d0da70ad325d"
      },
      "outputs": [],
      "source": [
        "#@title Initial guess\n",
        "\n",
        "t0, u0, tE, rho = 2457792, 0.3, 10, 0.01 # some values we guessed.\n",
        "Theta0FSPL = np.array([t0, u0, tE, rho])  # initial guess\n",
        "labelsFSPL = np.array(['t_0', 'u_0', 't_E', 'rho']) # parameter labels\n",
        "\n",
        "OB170002_fspl = mm.Model({'t_0': t0, 'u_0': u0, 't_E': tE, 'rho': rho})\n",
        "\n",
        "# Here, we specify that we impose the finite source effect on our event\n",
        "# We do that by setting the magnification method\n",
        "OB170002_fspl.set_magnification_methods([2450000., 'finite_source_uniform_Gould94', 2470000.]) # rho <= 0.1"
      ]
    },
    {
      "cell_type": "markdown",
      "id": "91da8e48-f6a1-4105-bdce-b9953380c249",
      "metadata": {
        "id": "91da8e48-f6a1-4105-bdce-b9953380c249"
      },
      "source": [
        "Let's plot the initial guess."
      ]
    },
    {
      "cell_type": "code",
      "execution_count": null,
      "id": "5fa65bfd-ece0-442c-a370-83b3aea36abf",
      "metadata": {
        "colab": {
          "base_uri": "https://localhost:8080/",
          "height": 391
        },
        "id": "5fa65bfd-ece0-442c-a370-83b3aea36abf",
        "outputId": "4c8c0ad0-577c-4c17-d8a2-a824c2e6a5a5"
      },
      "outputs": [
        {
          "output_type": "error",
          "ename": "ValueError",
          "evalue": "File with FSPL data does not exist.\n/usr/local/lib/python3.11/dist-packages/MulensModel/data/interpolation_table_b0b1_v3.dat",
          "traceback": [
            "\u001b[0;31m---------------------------------------------------------------------------\u001b[0m",
            "\u001b[0;31mValueError\u001b[0m                                Traceback (most recent call last)",
            "\u001b[0;32m<ipython-input-38-d660fc30bcf3>\u001b[0m in \u001b[0;36m<cell line: 0>\u001b[0;34m()\u001b[0m\n\u001b[1;32m      1\u001b[0m \u001b[0mplt\u001b[0m\u001b[0;34m.\u001b[0m\u001b[0mfigure\u001b[0m\u001b[0;34m(\u001b[0m\u001b[0;34m)\u001b[0m\u001b[0;34m\u001b[0m\u001b[0;34m\u001b[0m\u001b[0m\n\u001b[1;32m      2\u001b[0m \u001b[0mt\u001b[0m \u001b[0;34m=\u001b[0m \u001b[0mnp\u001b[0m\u001b[0;34m.\u001b[0m\u001b[0mlinspace\u001b[0m\u001b[0;34m(\u001b[0m\u001b[0;36m2457000\u001b[0m\u001b[0;34m,\u001b[0m \u001b[0;36m2458100\u001b[0m\u001b[0;34m,\u001b[0m \u001b[0;36m2000\u001b[0m\u001b[0;34m)\u001b[0m  \u001b[0;31m# time range\u001b[0m\u001b[0;34m\u001b[0m\u001b[0;34m\u001b[0m\u001b[0m\n\u001b[0;32m----> 3\u001b[0;31m \u001b[0mA0\u001b[0m \u001b[0;34m=\u001b[0m \u001b[0mOB170002_fspl\u001b[0m\u001b[0;34m.\u001b[0m\u001b[0mget_magnification\u001b[0m\u001b[0;34m(\u001b[0m\u001b[0mt\u001b[0m\u001b[0;34m)\u001b[0m  \u001b[0;31m# initial guess magnification curve\u001b[0m\u001b[0;34m\u001b[0m\u001b[0;34m\u001b[0m\u001b[0m\n\u001b[0m\u001b[1;32m      4\u001b[0m \u001b[0mplt\u001b[0m\u001b[0;34m.\u001b[0m\u001b[0mplot\u001b[0m\u001b[0;34m(\u001b[0m\u001b[0mt\u001b[0m\u001b[0;34m,\u001b[0m \u001b[0mA0\u001b[0m\u001b[0;34m*\u001b[0m\u001b[0;36m8500\u001b[0m\u001b[0;34m,\u001b[0m \u001b[0mlabel\u001b[0m\u001b[0;34m=\u001b[0m\u001b[0;34m'Initial Guess'\u001b[0m\u001b[0;34m,\u001b[0m \u001b[0mcolor\u001b[0m\u001b[0;34m=\u001b[0m\u001b[0;34m'black'\u001b[0m\u001b[0;34m,\u001b[0m \u001b[0mlinestyle\u001b[0m\u001b[0;34m=\u001b[0m\u001b[0;34m':'\u001b[0m\u001b[0;34m)\u001b[0m\u001b[0;34m\u001b[0m\u001b[0;34m\u001b[0m\u001b[0m\n\u001b[1;32m      5\u001b[0m \u001b[0;34m\u001b[0m\u001b[0m\n",
            "\u001b[0;32m/usr/local/lib/python3.11/dist-packages/MulensModel/model.py\u001b[0m in \u001b[0;36mget_magnification\u001b[0;34m(self, time, satellite_skycoord, gamma, bandpass, source_flux_ratio, separate)\u001b[0m\n\u001b[1;32m   1283\u001b[0m                     \u001b[0mseparate\u001b[0m \u001b[0;34m=\u001b[0m \u001b[0;32mFalse\u001b[0m\u001b[0;34m\u001b[0m\u001b[0;34m\u001b[0m\u001b[0m\n\u001b[1;32m   1284\u001b[0m \u001b[0;34m\u001b[0m\u001b[0m\n\u001b[0;32m-> 1285\u001b[0;31m         magnification = self._get_magnification(\n\u001b[0m\u001b[1;32m   1286\u001b[0m             time, satellite_skycoord, gamma, source_flux_ratio, separate)\n\u001b[1;32m   1287\u001b[0m \u001b[0;34m\u001b[0m\u001b[0m\n",
            "\u001b[0;32m/usr/local/lib/python3.11/dist-packages/MulensModel/model.py\u001b[0m in \u001b[0;36m_get_magnification\u001b[0;34m(self, time, satellite_skycoord, gamma, source_flux_ratio, separate)\u001b[0m\n\u001b[1;32m   1309\u001b[0m                     'cannot be True for single source models')\n\u001b[1;32m   1310\u001b[0m             \u001b[0;32melse\u001b[0m\u001b[0;34m:\u001b[0m\u001b[0;34m\u001b[0m\u001b[0;34m\u001b[0m\u001b[0m\n\u001b[0;32m-> 1311\u001b[0;31m                 magnification = self._magnification_1_source(\n\u001b[0m\u001b[1;32m   1312\u001b[0m                     time, satellite_skycoord, gamma)\n\u001b[1;32m   1313\u001b[0m \u001b[0;34m\u001b[0m\u001b[0m\n",
            "\u001b[0;32m/usr/local/lib/python3.11/dist-packages/MulensModel/model.py\u001b[0m in \u001b[0;36m_magnification_1_source\u001b[0;34m(self, time, satellite_skycoord, gamma)\u001b[0m\n\u001b[1;32m   1374\u001b[0m             time, satellite_skycoord, gamma)\n\u001b[1;32m   1375\u001b[0m \u001b[0;34m\u001b[0m\u001b[0m\n\u001b[0;32m-> 1376\u001b[0;31m         \u001b[0;32mreturn\u001b[0m \u001b[0mmagnification_curve\u001b[0m\u001b[0;34m.\u001b[0m\u001b[0mget_magnification\u001b[0m\u001b[0;34m(\u001b[0m\u001b[0;34m)\u001b[0m\u001b[0;34m\u001b[0m\u001b[0;34m\u001b[0m\u001b[0m\n\u001b[0m\u001b[1;32m   1377\u001b[0m \u001b[0;34m\u001b[0m\u001b[0m\n\u001b[1;32m   1378\u001b[0m     def _magnification_N_sources(\n",
            "\u001b[0;32m/usr/local/lib/python3.11/dist-packages/MulensModel/magnificationcurve.py\u001b[0m in \u001b[0;36mget_magnification\u001b[0;34m(self)\u001b[0m\n\u001b[1;32m    156\u001b[0m         \u001b[0;31m# Do we still need separate get_point_lens_magnification and bl methods?\u001b[0m\u001b[0;34m\u001b[0m\u001b[0;34m\u001b[0m\u001b[0m\n\u001b[1;32m    157\u001b[0m         \u001b[0;32mif\u001b[0m \u001b[0mself\u001b[0m\u001b[0;34m.\u001b[0m\u001b[0mparameters\u001b[0m\u001b[0;34m.\u001b[0m\u001b[0mn_lenses\u001b[0m \u001b[0;34m==\u001b[0m \u001b[0;36m1\u001b[0m\u001b[0;34m:\u001b[0m\u001b[0;34m\u001b[0m\u001b[0;34m\u001b[0m\u001b[0m\n\u001b[0;32m--> 158\u001b[0;31m             \u001b[0mmagnification\u001b[0m \u001b[0;34m=\u001b[0m \u001b[0mself\u001b[0m\u001b[0;34m.\u001b[0m\u001b[0mget_point_lens_magnification\u001b[0m\u001b[0;34m(\u001b[0m\u001b[0;34m)\u001b[0m\u001b[0;34m\u001b[0m\u001b[0;34m\u001b[0m\u001b[0m\n\u001b[0m\u001b[1;32m    159\u001b[0m         \u001b[0;32melif\u001b[0m \u001b[0mself\u001b[0m\u001b[0;34m.\u001b[0m\u001b[0mparameters\u001b[0m\u001b[0;34m.\u001b[0m\u001b[0mn_lenses\u001b[0m \u001b[0;34m==\u001b[0m \u001b[0;36m2\u001b[0m\u001b[0;34m:\u001b[0m\u001b[0;34m\u001b[0m\u001b[0;34m\u001b[0m\u001b[0m\n\u001b[1;32m    160\u001b[0m             \u001b[0mmagnification\u001b[0m \u001b[0;34m=\u001b[0m \u001b[0mself\u001b[0m\u001b[0;34m.\u001b[0m\u001b[0mget_binary_lens_magnification\u001b[0m\u001b[0;34m(\u001b[0m\u001b[0;34m)\u001b[0m\u001b[0;34m\u001b[0m\u001b[0;34m\u001b[0m\u001b[0m\n",
            "\u001b[0;32m/usr/local/lib/python3.11/dist-packages/MulensModel/magnificationcurve.py\u001b[0m in \u001b[0;36mget_point_lens_magnification\u001b[0;34m(self)\u001b[0m\n\u001b[1;32m    375\u001b[0m \u001b[0;34m\u001b[0m\u001b[0m\n\u001b[1;32m    376\u001b[0m         \u001b[0;32mif\u001b[0m \u001b[0mself\u001b[0m\u001b[0;34m.\u001b[0m\u001b[0m_magnification_objects\u001b[0m \u001b[0;32mis\u001b[0m \u001b[0;32mNone\u001b[0m\u001b[0;34m:\u001b[0m\u001b[0;34m\u001b[0m\u001b[0;34m\u001b[0m\u001b[0m\n\u001b[0;32m--> 377\u001b[0;31m             \u001b[0mself\u001b[0m\u001b[0;34m.\u001b[0m\u001b[0m_set_magnification_objects\u001b[0m\u001b[0;34m(\u001b[0m\u001b[0;34m)\u001b[0m\u001b[0;34m\u001b[0m\u001b[0;34m\u001b[0m\u001b[0m\n\u001b[0m\u001b[1;32m    378\u001b[0m \u001b[0;34m\u001b[0m\u001b[0m\n\u001b[1;32m    379\u001b[0m         \u001b[0mmagnification\u001b[0m \u001b[0;34m=\u001b[0m \u001b[0mnp\u001b[0m\u001b[0;34m.\u001b[0m\u001b[0mzeros\u001b[0m\u001b[0;34m(\u001b[0m\u001b[0mlen\u001b[0m\u001b[0;34m(\u001b[0m\u001b[0mself\u001b[0m\u001b[0;34m.\u001b[0m\u001b[0mtimes\u001b[0m\u001b[0;34m)\u001b[0m\u001b[0;34m)\u001b[0m\u001b[0;34m\u001b[0m\u001b[0;34m\u001b[0m\u001b[0m\n",
            "\u001b[0;32m/usr/local/lib/python3.11/dist-packages/MulensModel/magnificationcurve.py\u001b[0m in \u001b[0;36m_set_magnification_objects\u001b[0;34m(self)\u001b[0m\n\u001b[1;32m    189\u001b[0m         \u001b[0;32mif\u001b[0m \u001b[0mself\u001b[0m\u001b[0;34m.\u001b[0m\u001b[0mparameters\u001b[0m\u001b[0;34m.\u001b[0m\u001b[0mn_lenses\u001b[0m \u001b[0;34m==\u001b[0m \u001b[0;36m1\u001b[0m\u001b[0;34m:\u001b[0m\u001b[0;34m\u001b[0m\u001b[0;34m\u001b[0m\u001b[0m\n\u001b[1;32m    190\u001b[0m             \u001b[0;32mif\u001b[0m \u001b[0;32mnot\u001b[0m \u001b[0mself\u001b[0m\u001b[0;34m.\u001b[0m\u001b[0mparameters\u001b[0m\u001b[0;34m.\u001b[0m\u001b[0mis_external_mass_sheet\u001b[0m\u001b[0;34m:\u001b[0m\u001b[0;34m\u001b[0m\u001b[0;34m\u001b[0m\u001b[0m\n\u001b[0;32m--> 191\u001b[0;31m                 \u001b[0mself\u001b[0m\u001b[0;34m.\u001b[0m\u001b[0m_set_point_lens_magnification_objects\u001b[0m\u001b[0;34m(\u001b[0m\u001b[0;34m)\u001b[0m\u001b[0;34m\u001b[0m\u001b[0;34m\u001b[0m\u001b[0m\n\u001b[0m\u001b[1;32m    192\u001b[0m             \u001b[0;32melse\u001b[0m\u001b[0;34m:\u001b[0m\u001b[0;34m\u001b[0m\u001b[0;34m\u001b[0m\u001b[0m\n\u001b[1;32m    193\u001b[0m                 \u001b[0mself\u001b[0m\u001b[0;34m.\u001b[0m\u001b[0m_set_point_lens_w_shear_magnification_objects\u001b[0m\u001b[0;34m(\u001b[0m\u001b[0;34m)\u001b[0m\u001b[0;34m\u001b[0m\u001b[0;34m\u001b[0m\u001b[0m\n",
            "\u001b[0;32m/usr/local/lib/python3.11/dist-packages/MulensModel/magnificationcurve.py\u001b[0m in \u001b[0;36m_set_point_lens_magnification_objects\u001b[0;34m(self)\u001b[0m\n\u001b[1;32m    240\u001b[0m             \u001b[0;32melif\u001b[0m \u001b[0mmethod\u001b[0m\u001b[0;34m.\u001b[0m\u001b[0mlower\u001b[0m\u001b[0;34m(\u001b[0m\u001b[0;34m)\u001b[0m \u001b[0;34m==\u001b[0m \u001b[0;34m'finite_source_uniform_Gould94'\u001b[0m\u001b[0;34m.\u001b[0m\u001b[0mlower\u001b[0m\u001b[0;34m(\u001b[0m\u001b[0;34m)\u001b[0m\u001b[0;34m:\u001b[0m\u001b[0;34m\u001b[0m\u001b[0;34m\u001b[0m\u001b[0m\n\u001b[1;32m    241\u001b[0m                 \u001b[0mself\u001b[0m\u001b[0;34m.\u001b[0m\u001b[0m_magnification_objects\u001b[0m\u001b[0;34m[\u001b[0m\u001b[0mmethod\u001b[0m\u001b[0;34m]\u001b[0m \u001b[0;34m=\u001b[0m\u001b[0;31m \u001b[0m\u001b[0;31m\\\u001b[0m\u001b[0;34m\u001b[0m\u001b[0;34m\u001b[0m\u001b[0m\n\u001b[0;32m--> 242\u001b[0;31m                     mm.pointlens.FiniteSourceUniformGould94Magnification(\n\u001b[0m\u001b[1;32m    243\u001b[0m                         trajectory=trajectory)\n\u001b[1;32m    244\u001b[0m             elif (method.lower() ==\n",
            "\u001b[0;32m/usr/local/lib/python3.11/dist-packages/MulensModel/pointlens.py\u001b[0m in \u001b[0;36m__init__\u001b[0;34m(self, direct, **kwargs)\u001b[0m\n\u001b[1;32m    293\u001b[0m \u001b[0;34m\u001b[0m\u001b[0m\n\u001b[1;32m    294\u001b[0m         \u001b[0mself\u001b[0m\u001b[0;34m.\u001b[0m\u001b[0mdirect\u001b[0m \u001b[0;34m=\u001b[0m \u001b[0mdirect\u001b[0m\u001b[0;34m\u001b[0m\u001b[0;34m\u001b[0m\u001b[0m\n\u001b[0;32m--> 295\u001b[0;31m         \u001b[0mself\u001b[0m\u001b[0;34m.\u001b[0m\u001b[0m_B0B1_data\u001b[0m \u001b[0;34m=\u001b[0m \u001b[0mmm\u001b[0m\u001b[0;34m.\u001b[0m\u001b[0mB0B1Utils\u001b[0m\u001b[0;34m(\u001b[0m\u001b[0;34m)\u001b[0m\u001b[0;34m\u001b[0m\u001b[0;34m\u001b[0m\u001b[0m\n\u001b[0m\u001b[1;32m    296\u001b[0m \u001b[0;34m\u001b[0m\u001b[0m\n\u001b[1;32m    297\u001b[0m         \u001b[0mself\u001b[0m\u001b[0;34m.\u001b[0m\u001b[0m_z\u001b[0m \u001b[0;34m=\u001b[0m \u001b[0;32mNone\u001b[0m\u001b[0;34m\u001b[0m\u001b[0;34m\u001b[0m\u001b[0m\n",
            "\u001b[0;32m/usr/local/lib/python3.11/dist-packages/MulensModel/b0b1utils.py\u001b[0m in \u001b[0;36m__init__\u001b[0;34m(self)\u001b[0m\n\u001b[1;32m     20\u001b[0m \u001b[0;34m\u001b[0m\u001b[0m\n\u001b[1;32m     21\u001b[0m         \u001b[0;32mif\u001b[0m \u001b[0;32mnot\u001b[0m \u001b[0mB0B1Utils\u001b[0m\u001b[0;34m.\u001b[0m\u001b[0m_B0B1_file_read\u001b[0m\u001b[0;34m:\u001b[0m\u001b[0;34m\u001b[0m\u001b[0;34m\u001b[0m\u001b[0m\n\u001b[0;32m---> 22\u001b[0;31m             \u001b[0mself\u001b[0m\u001b[0;34m.\u001b[0m\u001b[0m_read_B0B1_file\u001b[0m\u001b[0;34m(\u001b[0m\u001b[0;34m)\u001b[0m\u001b[0;34m\u001b[0m\u001b[0;34m\u001b[0m\u001b[0m\n\u001b[0m\u001b[1;32m     23\u001b[0m \u001b[0;34m\u001b[0m\u001b[0m\n\u001b[1;32m     24\u001b[0m     \u001b[0;32mdef\u001b[0m \u001b[0m_read_B0B1_file\u001b[0m\u001b[0;34m(\u001b[0m\u001b[0mself\u001b[0m\u001b[0;34m)\u001b[0m\u001b[0;34m:\u001b[0m\u001b[0;34m\u001b[0m\u001b[0;34m\u001b[0m\u001b[0m\n",
            "\u001b[0;32m/usr/local/lib/python3.11/dist-packages/MulensModel/b0b1utils.py\u001b[0m in \u001b[0;36m_read_B0B1_file\u001b[0;34m(self)\u001b[0m\n\u001b[1;32m     25\u001b[0m         \u001b[0;34m\"\"\"Read file with pre-computed function values\"\"\"\u001b[0m\u001b[0;34m\u001b[0m\u001b[0;34m\u001b[0m\u001b[0m\n\u001b[1;32m     26\u001b[0m         \u001b[0;32mif\u001b[0m \u001b[0;32mnot\u001b[0m \u001b[0mexists\u001b[0m\u001b[0;34m(\u001b[0m\u001b[0mself\u001b[0m\u001b[0;34m.\u001b[0m\u001b[0m_B0B1_file\u001b[0m\u001b[0;34m)\u001b[0m\u001b[0;34m:\u001b[0m\u001b[0;34m\u001b[0m\u001b[0;34m\u001b[0m\u001b[0m\n\u001b[0;32m---> 27\u001b[0;31m             raise ValueError(\n\u001b[0m\u001b[1;32m     28\u001b[0m                 'File with FSPL data does not exist.\\n' + self._B0B1_file)\n\u001b[1;32m     29\u001b[0m \u001b[0;34m\u001b[0m\u001b[0m\n",
            "\u001b[0;31mValueError\u001b[0m: File with FSPL data does not exist.\n/usr/local/lib/python3.11/dist-packages/MulensModel/data/interpolation_table_b0b1_v3.dat"
          ]
        },
        {
          "output_type": "display_data",
          "data": {
            "text/plain": [
              "<Figure size 640x480 with 0 Axes>"
            ]
          },
          "metadata": {}
        }
      ],
      "source": [
        "#@title Initial plot\n",
        "plt.figure()\n",
        "t = np.linspace(2457000, 2458100, 2000)  # time range\n",
        "A0 = OB170002_fspl.get_magnification(t)  # initial guess magnification curve\n",
        "plt.plot(t, A0*8500, label='Initial Guess', color='black', linestyle=':')\n",
        "\n",
        "#######\n",
        "# You can also plot the data here.\n",
        "\n",
        "#######\n",
        "\n",
        "plt.show()"
      ]
    },
    {
      "cell_type": "code",
      "execution_count": null,
      "id": "4f52c4f2-84e0-49dc-8912-4cf527430e2a",
      "metadata": {
        "id": "4f52c4f2-84e0-49dc-8912-4cf527430e2a"
      },
      "outputs": [],
      "source": [
        "# Define the mulens model with the FSPL model like in the example shown before\n",
        "OB170002 = []\n",
        "\n",
        "print('Initial Parameter Guess:\\n{0}'.format(OB170002.model.parameters))\n",
        "print('chi^2 = %.2f'%(chi2_fun(Theta0FSPL, labelsFSPL, OB170002)))"
      ]
    },
    {
      "cell_type": "markdown",
      "source": [
        "### <font face=\"Helvetica\" size=\"5\"> 4.2 Finding the best-fitting FSPL solution </font>\n",
        "We are leaving this part up to you. Just follow the same procedure as Section 3.1, but with the new `Model` object."
      ],
      "metadata": {
        "id": "BqeU6fqk3vZ_"
      },
      "id": "BqeU6fqk3vZ_"
    },
    {
      "cell_type": "code",
      "execution_count": null,
      "id": "45e4b6d5-1f97-412f-b9ba-7adcc493b922",
      "metadata": {
        "id": "45e4b6d5-1f97-412f-b9ba-7adcc493b922"
      },
      "outputs": [],
      "source": [
        "# Now find the best-fitting model similarly like above"
      ]
    },
    {
      "cell_type": "markdown",
      "source": [
        "### <font face=\"Helvetica\" size=\"5\"> 4.3 Display the results </font>"
      ],
      "metadata": {
        "id": "3lpTRuhL4dJU"
      },
      "id": "3lpTRuhL4dJU"
    },
    {
      "cell_type": "code",
      "execution_count": null,
      "id": "6077b2a1-28d0-4731-a9c2-cd5e0bd90a04",
      "metadata": {
        "id": "6077b2a1-28d0-4731-a9c2-cd5e0bd90a04"
      },
      "outputs": [],
      "source": [
        "#@title Final plot\n",
        "\n",
        "# Plot your results! We already put the initial guess model\n",
        "plt.figure()\n",
        "\n",
        "chi20 = chi2_fun(Theta0FSPL, labelsFSPL, OB170002)  # initial guess chi2\n",
        "\n",
        "init_model = mm.Model({'t_0': t0, 'u_0': u0, 't_E': tE})\n",
        "init_fit = mm.FitData(dataset=OB170002_data[0], model=init_model)\n",
        "init_fit.fit_fluxes()\n",
        "\n",
        "init_model.plot_lc(\n",
        "    source_flux=init_fit.source_flux, blend_flux=init_fit.blend_flux,\n",
        "    label='Initial Guess $\\chi^2$=%1.3f'%chi20, color='#a859e4', linestyle=':')\n",
        "\n",
        "### If you're feeling adventurous, you can also try plotting the best-fitting FSPL solution\n",
        "\n",
        "#### Put the code for plotting the best-fitting FSPL solution\n",
        "\n"
      ]
    },
    {
      "cell_type": "markdown",
      "id": "8e382917-1c08-4dca-9038-342b6da70405",
      "metadata": {
        "id": "8e382917-1c08-4dca-9038-342b6da70405"
      },
      "source": [
        "## <font face=\"Helvetica\" size=\"6\"> 5. Adding parallax effect </font>\n",
        "\n",
        "<hr style=\"border: 1.5pt solid #a859e4; width: 100%; margin-top: -10px;\">"
      ]
    },
    {
      "cell_type": "markdown",
      "id": "a1f2032b-2533-4f94-90f0-394179bb64ae",
      "metadata": {
        "id": "a1f2032b-2533-4f94-90f0-394179bb64ae"
      },
      "source": [
        "We will now show you how to add the parallax effect to your event. For this, however, we will need a different event. For the previous event, the parallax effect would be hard to catch because it was short, and all observatories were located on Earth. If we were lucky and had a highly magnified event observed densely, we might catch terrestial parallax like in the case of [**OGLE-2007-BLG-224 event**](https://ui.adsabs.harvard.edu/abs/2009ApJ...698L.147G/abstract).\n",
        "\n",
        "The parallax effect can (and should) be included, however, in the case of longer events or events which were observed by both Earth- and space-based observatories.\n",
        "\n",
        "For this exercise, we will use event OGLE-2014-BLG-0939, which was published in [**Yee et al. 2015**](https://ui.adsabs.harvard.edu/abs/2015ApJ...802...76Y/abstract). Both OGLE and *Spitzer Space Telescope* observed this event. We adapted [**Example 12 for `MulensModel`**](https://github.com/rpoleski/MulensModel/blob/master/examples/example_12_fit_satellite_parallax_EMCEE.py)."
      ]
    },
    {
      "cell_type": "markdown",
      "id": "a64f0606-4868-4425-a601-c2b5cb4d5067",
      "metadata": {
        "id": "a64f0606-4868-4425-a601-c2b5cb4d5067"
      },
      "source": [
        "### <font face=\"Helvetica\" size=\"5\"> 5.1 Load the data </font>"
      ]
    },
    {
      "cell_type": "code",
      "execution_count": null,
      "id": "e767e791-e4d5-4705-8559-47f8489a511c",
      "metadata": {
        "id": "e767e791-e4d5-4705-8559-47f8489a511c"
      },
      "outputs": [],
      "source": [
        "# Data directory\n",
        "data_dir = os.path.abspath('chapter4/data/events/OB140939/')\n",
        "\n",
        "data = read_data(data_dir)"
      ]
    },
    {
      "cell_type": "markdown",
      "id": "cc439413-7330-4e7c-93a4-92402022e5ee",
      "metadata": {
        "id": "cc439413-7330-4e7c-93a4-92402022e5ee"
      },
      "source": [
        "We add OGLE data like in the examples before."
      ]
    },
    {
      "cell_type": "code",
      "execution_count": null,
      "id": "01e7a6d2-090f-42ca-b390-c9553a0e7a98",
      "metadata": {
        "id": "01e7a6d2-090f-42ca-b390-c9553a0e7a98"
      },
      "outputs": [],
      "source": [
        "OB140939_OGLE_data  = mm.MulensData(data_list = data['OGLE'],\n",
        "                                            plot_properties={'color':'thistle', 'label':'OGLE', 'marker':'x', 'markersize':2},\n",
        "                                            phot_fmt='flux',\n",
        "                                            bandpass='I')"
      ]
    },
    {
      "cell_type": "markdown",
      "id": "4721992d-2eba-467e-b2ef-93dad436a03e",
      "metadata": {
        "id": "4721992d-2eba-467e-b2ef-93dad436a03e"
      },
      "source": [
        "### <font face=\"Helvetica\" size=\"5\"> 5.2 Emphemerides </font>\n",
        "\n",
        "For Spitzer, we have to account for the observatory being located in space. This will also be relevant for any Roman events you might work on in the future.\n",
        "\n",
        "To make this work, you have to know the position of the satellite in the Solar system. You can do that by getting its ephemeris from [**the JPL Horizons system**](https://ssd.jpl.nasa.gov/horizons/). You may be familiar with this system from classes about Solar System Objects. JPL Horizons provides ephemerides not only for astronomical objects in the Solar System but also for a myriad of satellites sent by humans (202 according to [**this website**](https://ssd.jpl.nasa.gov/horizons/manual.html)), which we checked on April 9th 2025).\n",
        "\n",
        "For this exercise, we pre-downloaded the Spitzer ephemeris, but we encourage you to do this by yourself, following this [**wonderful tutorial by Radek Poleski**](https://github.com/rpoleski/MulensModel/blob/master/documents/Horizons_manual.md)."
      ]
    },
    {
      "cell_type": "code",
      "execution_count": null,
      "id": "cf6769e6-9e68-4951-88ba-2e598f9e3a99",
      "metadata": {
        "id": "cf6769e6-9e68-4951-88ba-2e598f9e3a99"
      },
      "outputs": [],
      "source": [
        "ephem_path = os.path.abspath('./data/events/OB140939/spitzer_horizons_results.ephem')\n",
        "\n",
        "OB140939_spitzer_data = mm.MulensData(data_list = data['Spitzer'], ephemerides_file=ephem_path,\n",
        "    plot_properties={'color':'firebrick', 'label':'Spitzer', 'marker':'o', 'markersize':2},\n",
        "                                            phot_fmt='flux')\n",
        "\n",
        "OB140939_data = [OB140939_OGLE_data, OB140939_spitzer_data]"
      ]
    },
    {
      "cell_type": "markdown",
      "id": "2aee6ab9-337f-4891-8d13-908eb87ca59a",
      "metadata": {
        "id": "2aee6ab9-337f-4891-8d13-908eb87ca59a"
      },
      "source": [
        "Let's have a look at the data."
      ]
    },
    {
      "cell_type": "code",
      "execution_count": null,
      "id": "ef23fc6d-de83-42ff-bdb8-42b068a9d0be",
      "metadata": {
        "id": "ef23fc6d-de83-42ff-bdb8-42b068a9d0be"
      },
      "outputs": [],
      "source": [
        "plt.figure()\n",
        "# MulensModel has a very handy method for MulensData class\n",
        "OB140939_OGLE_data.plot()\n",
        "OB140939_spitzer_data.plot()\n",
        "\n",
        "plt.legend()\n",
        "plt.title('OB140939')\n",
        "plt.ylabel('Flux')\n",
        "plt.xlabel('JD-2450000')\n",
        "plt.show()"
      ]
    },
    {
      "cell_type": "markdown",
      "id": "16906ebe-e166-4fb9-8c9a-d07d82fad5d6",
      "metadata": {
        "id": "16906ebe-e166-4fb9-8c9a-d07d82fad5d6"
      },
      "source": [
        "### <font face=\"Helvetica\" size=\"5\"> 5.3 Define PSPL `Model` with parallax effect </font>"
      ]
    },
    {
      "cell_type": "markdown",
      "id": "d2c0f2c7-ec0c-41e2-b1af-c8f21f13a90d",
      "metadata": {
        "id": "d2c0f2c7-ec0c-41e2-b1af-c8f21f13a90d"
      },
      "source": [
        "When modelling events with parallax effect, it is important to know the coordinates of the event.\n",
        "\n",
        "You also have to specify the parameter reference time $t_{0,par}$.\n",
        "Following [**Skowron et al. 2011, Appendix A**](https://ui.adsabs.harvard.edu/abs/2011ApJ...738...87S/abstract): The parameters of an event with parallax are customarily measured in a geocentric frame ([**An et al. 2002**](https://ui.adsabs.harvard.edu/abs/2002ApJ...572..521A/abstract), [**Gould 2004**](https://ui.adsabs.harvard.edu/abs/2004ApJ...614..404G/abstract)). In this frame, \"all parameters are measured in the instantaneous frame that is at rest with respect to the Earth at a specifically adopted time\", $t_{0,par}$. This parameter is **not** be fitted.\n",
        "\n",
        "The choice of $t_{0,par}$ is not random. In general, it is a good practice to set it at the time of peak, or at time of the planetary anomaly."
      ]
    },
    {
      "cell_type": "code",
      "execution_count": null,
      "id": "98859517-06cb-4350-9758-a198a87edf35",
      "metadata": {
        "id": "98859517-06cb-4350-9758-a198a87edf35"
      },
      "outputs": [],
      "source": [
        "#@title Extra set-up and inital guess\n",
        "\n",
        "coords = '17:47:12.25 -21:22:58.7' # coordinates passed in hh:mm:ss and dd:mm:ss format\n",
        "\n",
        "# You can guess the parameters here\n",
        "t0, u0, tE = 2456837., 0.5, 30 # you can guess the parameters here\n",
        "piEN, piEE = 0., 0. # let's assume for now that the parallax vector has length 0.\n",
        "t0par = 2456837. # we set t_{0,par} at the peak\n",
        "\n",
        "# We will define the starting parameters a bit differently\n",
        "# Starting parameters:\n",
        "start_params = {\n",
        "    't_0': t0, 'u_0': u0, 't_E': tE,\n",
        "    'pi_E_N': piEN, 'pi_E_E': piEE,\n",
        "    't_0_par': t0par}\n",
        "Theta0_par = [t0, u0, tE, piEN, piEE]\n",
        "# Which parameters we want to fit?\n",
        "labels_to_fit = [\"t_0\", \"u_0\", \"t_E\", \"pi_E_N\", \"pi_E_E\"]\n",
        "\n",
        "OB140939_pspl_par = mm.Model(start_params, coords=coords)"
      ]
    },
    {
      "cell_type": "markdown",
      "id": "ddcd2fc9-9821-40ba-ac8e-973815d09c39",
      "metadata": {
        "id": "ddcd2fc9-9821-40ba-ac8e-973815d09c39"
      },
      "source": [
        "Let's see how this looks."
      ]
    },
    {
      "cell_type": "code",
      "execution_count": null,
      "id": "564c239d-0558-4e66-bb17-ef619887d86b",
      "metadata": {
        "id": "564c239d-0558-4e66-bb17-ef619887d86b"
      },
      "outputs": [],
      "source": [
        "#@title Initial plot\n",
        "\n",
        "plt.figure()\n",
        "\n",
        "t = np.linspace(2456000, 2457000, 2000)  # time range\n",
        "A0 = OB140939_pspl_par.get_magnification(t)  # initial guess magnification curve\n",
        "plt.plot(t, A0*110000, label='Initial Guess', color='black', linestyle=':')\n",
        "\n",
        "OB140939_OGLE_data.plot()\n",
        "OB140939_spitzer_data.plot()\n",
        "\n",
        "plt.legend()\n",
        "plt.title('OB140939')\n",
        "plt.ylabel('Flux')\n",
        "plt.xlabel('JD-2450000')\n",
        "plt.show()"
      ]
    },
    {
      "cell_type": "markdown",
      "id": "54a9776c-e4ba-48d7-8f81-3d7a56e19ed3",
      "metadata": {
        "id": "54a9776c-e4ba-48d7-8f81-3d7a56e19ed3"
      },
      "source": [
        "### <font face=\"Helvetica\" size=\"5\"> 5.4 Finding the best-fitting PSPL solution with parallax effect >"
      ]
    },
    {
      "cell_type": "code",
      "execution_count": null,
      "id": "d0a4b1b6-1b3f-495e-8a4a-b70d84544bfd",
      "metadata": {
        "id": "d0a4b1b6-1b3f-495e-8a4a-b70d84544bfd"
      },
      "outputs": [],
      "source": [
        "#@title Define the `MulensModel` `Event`\n",
        "OB140939 = mm.Event(datasets=OB140939_data, model=OB140939_pspl_par)\n",
        "\n",
        "print('Initial Parameter Guess:\\n{0}'.format(OB140939.model.parameters))\n",
        "print('chi^2 = %.2f'%(chi2_fun(Theta0_par, labels_to_fit, OB140939)))"
      ]
    },
    {
      "cell_type": "code",
      "execution_count": null,
      "id": "3982b0e6-756c-414a-b114-eb805bb92bfc",
      "metadata": {
        "id": "3982b0e6-756c-414a-b114-eb805bb92bfc"
      },
      "outputs": [],
      "source": [
        "#@title Fitting\n",
        "\n",
        "# Find the best-fit parameters\n",
        "# We'll do this exactly the same way as in previous examples,\n",
        "# so you know how to do it!\n"
      ]
    },
    {
      "cell_type": "markdown",
      "source": [
        "### <font face=\"Helvetica\" size=\"5\"> 5.5 Display the results </font>"
      ],
      "metadata": {
        "id": "wtFxx15L828O"
      },
      "id": "wtFxx15L828O"
    },
    {
      "cell_type": "code",
      "execution_count": null,
      "id": "c0aacaad-4a38-48a2-a2d4-d245e42a09b3",
      "metadata": {
        "id": "c0aacaad-4a38-48a2-a2d4-d245e42a09b3"
      },
      "outputs": [],
      "source": [
        "#@title Final plot\n",
        "\n",
        "# Plot your results! We already put the initial guess model\n",
        "plt.figure()\n",
        "\n",
        "chi20 = chi2_fun(Theta0_par, labels, OB140939)  # initial guess chi2\n",
        "\n",
        "init_model = mm.Model(start_params, coords=coords)\n",
        "init_fit = mm.FitData(dataset=OB140939_data[0], model=init_model)\n",
        "init_fit.fit_fluxes()\n",
        "\n",
        "init_model.plot_lc(\n",
        "    source_flux=init_fit.source_flux, blend_flux=init_fit.blend_flux,\n",
        "    label='Initial Guess\\n$\\chi^2$=%.2f'%chi20, color='#a859e4', linestyle=':')\n",
        "\n",
        "### If you're feeling adventurous, you can also try plotting the best-fitting PSPL solution\n",
        "### Without parallax effect\n",
        "\n",
        "\n",
        "#### Put the code for plotting the best-fitting PSPL solution with parallax\n",
        "\n"
      ]
    }
  ],
  "metadata": {
    "kernelspec": {
      "display_name": "Python 3 (ipykernel)",
      "language": "python",
      "name": "python3"
    },
    "language_info": {
      "codemirror_mode": {
        "name": "ipython",
        "version": 3
      },
      "file_extension": ".py",
      "mimetype": "text/x-python",
      "name": "python",
      "nbconvert_exporter": "python",
      "pygments_lexer": "ipython3",
      "version": "3.11.11"
    },
    "colab": {
      "provenance": [],
      "toc_visible": true,
      "collapsed_sections": [
        "0570e6ed-f460-4600-9bc4-d0451330f500"
      ]
    }
  },
  "nbformat": 4,
  "nbformat_minor": 5
}