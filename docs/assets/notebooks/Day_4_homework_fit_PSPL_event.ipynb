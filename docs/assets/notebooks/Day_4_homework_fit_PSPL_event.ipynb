{
 "cells": [
  {
   "cell_type": "markdown",
   "id": "868e9516-74f2-42a3-b7a9-bdb712282bf2",
   "metadata": {},
   "source": [
    "# Fit a single point source-point lens event"
   ]
  },
  {
   "cell_type": "markdown",
   "id": "0570e6ed-f460-4600-9bc4-d0451330f500",
   "metadata": {},
   "source": [
    "## Load packages"
   ]
  },
  {
   "cell_type": "code",
   "execution_count": null,
   "id": "e5b785c6-98c3-4243-bf35-1784c23f8a3d",
   "metadata": {},
   "outputs": [],
   "source": [
    "import os\n",
    "\n",
    "from typing import Tuple, Callable, Optional, List\n",
    "\n",
    "import numpy as np\n",
    "import matplotlib.pyplot as plt\n",
    "import pandas as pd\n",
    "\n",
    "from scipy.optimize import minimize\n",
    "\n",
    "import MulensModel as mm\n",
    "\n",
    "%matplotlib widget"
   ]
  },
  {
   "cell_type": "code",
   "execution_count": null,
   "id": "0d641716-ba24-4491-9718-e4dc71dbb5d8",
   "metadata": {},
   "outputs": [],
   "source": [
    "def flux2mag(flux: np.ndarray, \n",
    "             zp: Optional[float] = 25.0\n",
    "             ) -> np.ndarray:\n",
    "    '''\n",
    "    Converts flux values (array) to magnitude.\n",
    "    \n",
    "    Parameters\n",
    "    ----------\n",
    "    mag : np.ndarray\n",
    "        Array of magnitudes.\n",
    "    zp : float, optional\n",
    "        Zero point of the magnitude system (default is 25.0).\n",
    "\n",
    "    Returns\n",
    "    -------\n",
    "    f : np.ndarray\n",
    "        Array of magnitudes.\n",
    "    '''\n",
    "    f = zp - (2.5 * np.log10(flux))\n",
    "    return f\n",
    "\n",
    "\n",
    "def mag2flux(mag: np.ndarray, \n",
    "             zp: Optional[float] = 25.0\n",
    "             ) -> np.ndarray:\n",
    "    '''\n",
    "    Converts magnitude values (array) to flux.\n",
    "    \n",
    "    Parameters\n",
    "    ----------\n",
    "    mag : np.ndarray\n",
    "        Array of magnitudes.\n",
    "    zp : float, optional\n",
    "        Zero point of the magnitude system (default is 25.0).\n",
    "\n",
    "    Returns\n",
    "    -------\n",
    "    f : np.ndarray\n",
    "        Array of fluxes.\n",
    "    '''\n",
    "    f = 10.0**((mag - zp) / -2.5)\n",
    "    return f\n",
    "\n",
    "def mag2flux_err(mag: np.ndarray, mag_err: np.ndarray, \n",
    "                 zp: Optional[float] = 25.0):\n",
    "    '''\n",
    "    Converts magnitude values and errors (array) to flux using error propagation formula.\n",
    "    \n",
    "    Parameters\n",
    "    ----------\n",
    "    mag : np.ndarray\n",
    "        Array of magnitudes.\n",
    "    mag_err : np.ndarray\n",
    "        Array of magnitude errors.\n",
    "    zp : float, optional\n",
    "        Zero point of the magnitude system (default is 25.0).\n",
    "\n",
    "    Returns\n",
    "    -------\n",
    "    flux_err : np.ndarray\n",
    "        Array of flux errors.\n",
    "    '''\n",
    "    dfdmag = -0.4 * np.log(10) * 10.**(0.4*(zp-mag))\n",
    "    flux_err = np.sqrt(dfdmag**2 * mag_err**2)\n",
    "    return flux_err\n",
    "\n",
    "def read_data(data_dir: str, \n",
    "              extension: Optional[List[str]] = ['dat','diapl','pysis','txt']\n",
    "              ) -> dict:\n",
    "    '''\n",
    "    Reads in the data from a directory.\n",
    "    \n",
    "    Parameters\n",
    "    ----------\n",
    "    dir : str\n",
    "        Directory path.\n",
    "    \n",
    "    Returns\n",
    "    -------\n",
    "    data : dict\n",
    "        Dictionary containing the data.\n",
    "        Keys are observatory names, and values are tuples of (t_data, flux_data, flux_err_data).\n",
    "            t_data : np.ndarray\n",
    "                Time data.\n",
    "            mag_data : np.ndarray\n",
    "                Magnitude data.\n",
    "            mag_err_data : np.ndarray\n",
    "                Magnitude error data.\n",
    "    '''\n",
    "    data = {} # initalizing data dictinary\n",
    "\n",
    "    # list of all the 'dat' files in data_directory\n",
    "    files = [f for f in os.listdir(data_dir) if f.split('.')[-1] in extension] \n",
    "\n",
    "    print(files)\n",
    "    \n",
    "    files.sort() # alphabetise the data files\n",
    "\n",
    "    for f in files:\n",
    "\n",
    "        if 'horizon' in f:\n",
    "            continue\n",
    "\n",
    "        # creating the path to each data file\n",
    "        if data_dir[-1] == '/':\n",
    "            datafile = data_dir + f\n",
    "        else:\n",
    "            datafile = data_dir + '/' + f\n",
    "\n",
    "        # Reading in the data\n",
    "        t_data = np.loadtxt(datafile, usecols=0)\n",
    "        mag = np.loadtxt(datafile, usecols=1)\n",
    "        mag_err = np.loadtxt(datafile, usecols=2)\n",
    "\n",
    "        if 'OGLE' in f:  # (HJD, mag, mag_err, quality?, sky counts?)\n",
    "            observatory = 'OGLE'\n",
    "            flux_data = mag2flux(mag, zp=28.)\n",
    "            flux_err_data = mag2flux_err(mag, mag_err, zp=28)\n",
    "        if 'Spitzer' in f:  # (HJD, mag, mag_err)\n",
    "            observatory = 'Spitzer'\n",
    "            flux_data = mag2flux(mag, zp=28.)\n",
    "            flux_err_data = mag2flux_err(mag, mag_err, zp=28)\n",
    "        if 'KMT' in f:\n",
    "            t_data = t_data + 2450000.\n",
    "            flux_data = mag2flux(mag, zp=28.)\n",
    "            flux_err_data = mag2flux_err(mag, mag_err, zp=28.65)\n",
    "            \n",
    "            if 'KMTA' in f:  # (HJD, mag, mag_err)\n",
    "                observatory = 'KMT-A'\n",
    "            elif 'KMTC' in f:\n",
    "                observatory = 'KMT-C'\n",
    "            elif 'KMTS' in f:\n",
    "                observatory = 'KMT-S'\n",
    "\n",
    "        data[observatory] = (t_data, flux_data, flux_err_data)\n",
    "    \n",
    "    return data"
   ]
  },
  {
   "cell_type": "markdown",
   "id": "bac17eab-9768-4515-9e82-79d253411593",
   "metadata": {},
   "source": [
    "## Introduction"
   ]
  },
  {
   "cell_type": "markdown",
   "id": "51223817-475a-49d8-af44-1a205fd18897",
   "metadata": {},
   "source": [
    "This notebook was adapted from the [**SingleLens**](https://github.com/AmberLee2427/TheMicrolensersGuideToTheGalaxy/blob/main/Notebooks/SingleLens.ipynb) notebook by Amber Lee Malpas. We highly recommend checking out The Microlensiers Guide to the Galaxy if you're looking for more information on microlensing. We also followed [**MulensModel Example 2**](https://github.com/rpoleski/MulensModel/blob/master/examples/example_02_fitting.py).\n",
    "\n",
    "In this exercise, you will fit a single point source-point lens microlensing event. Such an event has a single peak, but it may be assymetrical (or even have wobbles) due to the **parallax** effect or have a flatter peak due to the **finite source** effect.\n",
    "\n",
    "Here, we will focus on fitting the event with the [**MulensModel**](https://github.com/rpoleski/MulensModel) package developed by Radek Poleski, Jennifer Yee and collaborators. There are many other packages you can use in the future:\n",
    "- [**pyLIMA**](https://github.com/ebachelet/pyLIMA), \n",
    "- [**BAGLE**](https://github.com/MovingUniverseLab/BAGLE_Microlensing), \n",
    "- [**VBMicrolensing**](https://github.com/valboz/VBMicrolensing),\n",
    "- [**RTModel**](https://github.com/valboz/RTModel),\n",
    "- ...,\n",
    "  \n",
    "but here we will focus on MulensModel to introduce you to the general idea of how these packages work."
   ]
  },
  {
   "cell_type": "markdown",
   "id": "bb27acae-be20-495f-a041-54dc54f80ad4",
   "metadata": {},
   "source": [
    "## Load data"
   ]
  },
  {
   "cell_type": "code",
   "execution_count": null,
   "id": "c04b8af7-072f-41ff-8dd4-c2b41970feb6",
   "metadata": {},
   "outputs": [],
   "source": [
    "# Data directory\n",
    "data_dir = os.path.abspath('./data/events/OB170002/')\n",
    "\n",
    "data = read_data(data_dir)"
   ]
  },
  {
   "cell_type": "markdown",
   "id": "229c4471-ec90-46bf-8216-e699d4a7190a",
   "metadata": {},
   "source": [
    "Now we will add the data with the `MulensData` class ([**see documentation**](https://rpoleski.github.io/MulensModel/MulensModel.mulensdata.html#module-MulensModel.mulensdata)). This class not only remembers what sort of data we have for each light curve but can also hold information on the units of the data we have, used filters and plotting parameters. It also has some useful methods that can help with working with the data."
   ]
  },
  {
   "cell_type": "code",
   "execution_count": null,
   "id": "2af11fb0-fc1d-4339-a7a3-190b5174f4a8",
   "metadata": {},
   "outputs": [],
   "source": [
    "OB170002_KMTC_data = mm.MulensData(data_list = data['KMT-C'], \n",
    "                                            plot_properties={'color':'purple', 'label':'KMT-C', 'marker':'x', 'markersize':2}, \n",
    "                                            phot_fmt='flux', \n",
    "                                            bandpass='I')\n",
    "OB170002_KMTA_data = mm.MulensData(data_list = data['KMT-A'],\n",
    "                                            plot_properties={'color':'violet', 'label':'KMT-A', 'marker':'x', 'markersize':2}, \n",
    "                                            phot_fmt='flux', \n",
    "                                            bandpass='I')\n",
    "OB170002_KMTS_data = mm.MulensData(data_list = data['KMT-S'],\n",
    "                                            plot_properties={'color':'plum', 'label':'KMT-S', 'marker':'x', 'markersize':2}, \n",
    "                                            phot_fmt='flux', \n",
    "                                            bandpass='I')\n",
    "OB170002_OGLE_data = mm.MulensData(data_list = data['OGLE'],\n",
    "                                            plot_properties={'color':'thistle', 'label':'OGLE', 'marker':'x', 'markersize':2}, \n",
    "                                            phot_fmt='flux', \n",
    "                                            bandpass='I')\n",
    "\n",
    "OB170002_data = [OB170002_KMTC_data, OB170002_KMTA_data, OB170002_KMTS_data, OB170002_OGLE_data]"
   ]
  },
  {
   "cell_type": "markdown",
   "id": "290db51e-6e04-4818-afc3-4dee6f89c403",
   "metadata": {},
   "source": [
    "Now lets plot the data!"
   ]
  },
  {
   "cell_type": "code",
   "execution_count": null,
   "id": "0d3bd4a6-b480-4f13-8dcf-580ade9880c8",
   "metadata": {},
   "outputs": [],
   "source": [
    "plt.figure()\n",
    "# MulensModel has a very handy method for MulensData class\n",
    "OB170002_OGLE_data.plot()\n",
    "OB170002_KMTA_data.plot()\n",
    "OB170002_KMTS_data.plot()\n",
    "OB170002_KMTC_data.plot()\n",
    "\n",
    "plt.legend()\n",
    "plt.ylim(5000, 40000)\n",
    "plt.title('OB170002')\n",
    "plt.ylabel('Flux')\n",
    "plt.xlabel('JD')\n",
    "plt.show()"
   ]
  },
  {
   "cell_type": "markdown",
   "id": "f77462cd-19d7-4175-9eb8-d7086fb51aad",
   "metadata": {},
   "source": [
    "What a pretty event! You can zoom in to check its features."
   ]
  },
  {
   "cell_type": "markdown",
   "id": "70335f0c-4b75-4dae-9637-0e95743461c4",
   "metadata": {},
   "source": [
    "## Point source-point lens (PSPL)"
   ]
  },
  {
   "cell_type": "markdown",
   "id": "1ef8ffcd-2dce-488e-af4f-e9a1e2979103",
   "metadata": {},
   "source": [
    "### Define the PSPL model"
   ]
  },
  {
   "cell_type": "markdown",
   "id": "e5f0dda7-b92b-4ab1-af18-a301521d3bf1",
   "metadata": {},
   "source": [
    "Let's define a single event model for this using `MulensModel` `Model` class ([**see documentation**](https://rpoleski.github.io/MulensModel/MulensModel.model.html#module-MulensModel.model)). This model will not have any extra features (for now)."
   ]
  },
  {
   "cell_type": "code",
   "execution_count": null,
   "id": "64ccdff8-762b-4d8a-baca-2a8e42d628ec",
   "metadata": {},
   "outputs": [],
   "source": [
    "t0, u0, tE = 2457792., 0.3, 10 # you can guess the parameters here\n",
    "Theta0 = np.array([t0, u0, tE])  # initial guess\n",
    "labels = np.array(['t_0', 'u_0', 't_E']) # parameter labels\n",
    "\n",
    "# We define the MulensModel model object here\n",
    "OB170002_pspl = mm.Model({'t_0': t0, 'u_0': u0, 't_E': tE}) "
   ]
  },
  {
   "cell_type": "markdown",
   "id": "022a8341-4341-4f46-8fd6-e0708e774bae",
   "metadata": {},
   "source": [
    "Let's check how well our guess fits to the data."
   ]
  },
  {
   "cell_type": "code",
   "execution_count": null,
   "id": "c1f18629-0d70-4804-9540-9c7f0b92b30f",
   "metadata": {},
   "outputs": [],
   "source": [
    "plt.figure()\n",
    "\n",
    "t = np.linspace(2457000, 2458100, 2000)  # time range\n",
    "A0 = OB170002_pspl.get_magnification(t)  # initial guess magnification curve\n",
    "plt.plot(t, A0*8500, label='Initial Guess', color='black', linestyle=':')\n",
    "\n",
    "OB170002_OGLE_data.plot()\n",
    "OB170002_KMTA_data.plot()\n",
    "OB170002_KMTS_data.plot()\n",
    "OB170002_KMTC_data.plot()\n",
    "\n",
    "plt.title('OB170002')\n",
    "plt.ylabel('Flux')\n",
    "plt.xlabel('JD-2450000')\n",
    "plt.ylim(5000, 40000)\n",
    "plt.show()"
   ]
  },
  {
   "cell_type": "markdown",
   "id": "9e7ef059-6c4d-46c2-b3c1-05ed949f9423",
   "metadata": {},
   "source": [
    "Nice! Let's try fitting a PSPL model to this event using MulensModel."
   ]
  },
  {
   "cell_type": "markdown",
   "id": "762e9f1a-b734-4722-94d4-7f2499c34bd4",
   "metadata": {},
   "source": [
    "### Find best fitting PSPL model"
   ]
  },
  {
   "cell_type": "markdown",
   "id": "f9ad55de-f1b0-4ef3-9ab6-2a2b8699fb1c",
   "metadata": {},
   "source": [
    "First we have to define a `MulensModel` `Event` object ([**see documentation**](https://rpoleski.github.io/MulensModel/MulensModel.event.html#module-MulensModel.event)). It will rememeber all important information about the event for us."
   ]
  },
  {
   "cell_type": "code",
   "execution_count": null,
   "id": "55901885-a266-41b0-8270-f03076d27d49",
   "metadata": {},
   "outputs": [],
   "source": [
    "OB170002 = mm.Event(datasets=OB170002_data, model=OB170002_pspl)"
   ]
  },
  {
   "cell_type": "markdown",
   "id": "d9772c05-3b4d-44d8-95b6-944c8559973b",
   "metadata": {},
   "source": [
    "Now, we have to define a function that will measure how well our current model fits to data. In microlensing, we often use $\\chi^2$ for this. This means we will be minimizing the $\\chi^2$ value to find the best-fitting parameters."
   ]
  },
  {
   "cell_type": "code",
   "execution_count": null,
   "id": "a734e46c-827b-4690-a693-9e91f85ebf13",
   "metadata": {},
   "outputs": [],
   "source": [
    "def chi2_fun(theta, parameters_to_fit, event):\n",
    "    \"\"\"\n",
    "    Calculate chi2 for given values of parameters.\n",
    "    \n",
    "    Parameters\n",
    "    ----------\n",
    "    theta : np.ndarray\n",
    "        Vector of parameter values, e.g., `np.array([5380., 0.5, 20.])`.\n",
    "    parameters_to_fit : list of str\n",
    "        List of names of parameters corresponding to theta, e.g., `['t_0', 'u_0', 't_E']`.\n",
    "    event : MulensModel.Event\n",
    "        Event which has datasets for which chi2 will be calculated.\n",
    "    \n",
    "    Returns\n",
    "    -------\n",
    "    chi2 : float\n",
    "        Chi2 value for given model parameters.\n",
    "    \n",
    "    Notes\n",
    "    -----\n",
    "    Function from MulensModel documentation: \n",
    "    https://github.com/rpoleski/MulensModel/blob/master/examples/example_02_fitting.py\n",
    "    \"\"\"\n",
    "    # First we have to change the values of parameters in\n",
    "    # event.model.parameters to values given by theta.\n",
    "    for (parameter, value) in zip(parameters_to_fit, theta):\n",
    "        setattr(event.model.parameters, parameter, value)\n",
    "\n",
    "    # After that, calculating chi2 is trivial:\n",
    "    return event.get_chi2()"
   ]
  },
  {
   "cell_type": "markdown",
   "id": "11f571d6-6358-4821-8347-9bf92e7f2a0a",
   "metadata": {},
   "source": [
    "Let's see how well the initial guess fits to the data."
   ]
  },
  {
   "cell_type": "code",
   "execution_count": null,
   "id": "39dd6719-4cd0-45df-9a11-af0fd6cfb144",
   "metadata": {},
   "outputs": [],
   "source": [
    "print('Initial Parameter Guess:\\n{0}'.format(OB170002.model.parameters))\n",
    "print('chi^2 = %.2f'%(chi2_fun(Theta0, labels, OB170002)))"
   ]
  },
  {
   "cell_type": "markdown",
   "id": "ff006005-dda1-4ede-9815-f82743733d14",
   "metadata": {},
   "source": [
    "Let's see if we can find a better fitting model. We will use `minimize` function from `scipy.optimize` package ([**see documentation here**](https://docs.scipy.org/doc/scipy/reference/generated/scipy.optimize.minimize.html))."
   ]
  },
  {
   "cell_type": "code",
   "execution_count": null,
   "id": "b4679d26-67b7-4345-a9dd-9e8ba687b455",
   "metadata": {},
   "outputs": [],
   "source": [
    "# Find the best-fit parameters\n",
    "\n",
    "# Theta0 is our vector with starting parameters. \n",
    "# We also have to pass parameter names (labels) and event object (OB170002) \n",
    "# to let the fitting function on what event we will be working on\n",
    "result = minimize(\n",
    "    chi2_fun, x0=Theta0, args=(labels, OB170002),\n",
    "    method='Nelder-Mead')\n",
    "\n",
    "Theta_fit = result.x\n",
    "\n",
    "print('Final Parameters:\\n{0}'.format(OB170002.model.parameters))\n",
    "print('chi^2 = %.2f'%(chi2_fun(Theta_fit, labels, OB170002)))\n",
    "\n",
    "print('\\nDifference in chi^2 between initial guess and fitted parameters')\n",
    "print('delta_chi^2 = %.2f'%(chi2_fun(Theta0, labels, OB170002) - chi2_fun(Theta_fit, labels, OB170002)))"
   ]
  },
  {
   "cell_type": "markdown",
   "id": "7a096a31-3b57-459b-a835-12c54bfbc177",
   "metadata": {},
   "source": [
    "Great! Let's display our initial and final models!"
   ]
  },
  {
   "cell_type": "code",
   "execution_count": null,
   "id": "60bcf727-ac5f-4930-84a5-28d986f3489a",
   "metadata": {},
   "outputs": [],
   "source": [
    "plt.figure()\n",
    "\n",
    "chi20 = chi2_fun(Theta0, labels, OB170002)  # initial guess chi2\n",
    "\n",
    "init_model = mm.Model({'t_0': t0, 'u_0': u0, 't_E': tE})\n",
    "init_fit = mm.FitData(dataset=OB170002_data[0], model=init_model)\n",
    "init_fit.fit_fluxes()\n",
    "\n",
    "init_model.plot_lc(\n",
    "    source_flux=init_fit.source_flux, blend_flux=init_fit.blend_flux,\n",
    "    label='Initial Guess $\\chi^2$=%1.3f'%chi20, color='red', linestyle=':')\n",
    "\n",
    "chi2_fit = chi2_fun(Theta_fit, labels, OB170002)  # fitted parameters chi2\n",
    "OB170002.plot_model(label='Final Fit $\\chi^2$=%1.3f'%chi2_fit,\n",
    "                    color='black', linestyle='-', t_range=[2457000, 2458100])\n",
    "\n",
    "# MulensModel automatically fits for the source and blend flux for the  \n",
    "# given model.\n",
    "OB170002.plot_data()  \n",
    "\n",
    "plt.legend(loc='best')\n",
    "plt.title('OB170002')\n",
    "plt.ylim(12.5, 10)\n",
    "plt.xlim(2457750,2458000)\n",
    "plt.show()"
   ]
  },
  {
   "cell_type": "markdown",
   "id": "a3393054-263d-42a5-a5c5-ecb77b17b10d",
   "metadata": {},
   "source": [
    "## Add finite source effect"
   ]
  },
  {
   "cell_type": "markdown",
   "id": "31c348b7-d0d7-4dc4-b336-670ed404a54a",
   "metadata": {},
   "source": [
    "Okay! Now, we will complicate our model a bit. Let's add the finite source effect, which occurs when the source size is comparable to the size of the Einstein ring.\n",
    "\n",
    "We will follow the same procedure as before. There will be some areas left for you to fill, following the examples above."
   ]
  },
  {
   "cell_type": "markdown",
   "id": "1833f46b-124f-4e1a-a175-0330defce7b0",
   "metadata": {},
   "source": [
    "### Define FSPL model"
   ]
  },
  {
   "cell_type": "code",
   "execution_count": null,
   "id": "4851edb1-1090-464d-9f15-d0da70ad325d",
   "metadata": {},
   "outputs": [],
   "source": [
    "t0, u0, tE, rho = 2457792, 0.3, 10, 0.01 # some values we guessed.\n",
    "Theta0FSPL = np.array([t0, u0, tE, rho])  # initial guess\n",
    "labelsFSPL = np.array(['t_0', 'u_0', 't_E', 'rho']) # parameter labels\n",
    "\n",
    "OB170002_fspl = mm.Model({'t_0': t0, 'u_0': u0, 't_E': tE, 'rho': rho}) \n",
    "\n",
    "# Here, we specify that we impose the finite source effect on our event\n",
    "# We do that by setting the magnification method\n",
    "OB170002_fspl.set_magnification_methods([2450000., 'finite_source_uniform_Gould94', 2470000.]) # rho <= 0.1"
   ]
  },
  {
   "cell_type": "markdown",
   "id": "91da8e48-f6a1-4105-bdce-b9953380c249",
   "metadata": {},
   "source": [
    "Let's plot the initial guess."
   ]
  },
  {
   "cell_type": "code",
   "execution_count": null,
   "id": "5fa65bfd-ece0-442c-a370-83b3aea36abf",
   "metadata": {},
   "outputs": [],
   "source": [
    "plt.figure()\n",
    "t = np.linspace(2457000, 2458100, 2000)  # time range\n",
    "A0 = OB170002_fspl.get_magnification(t)  # initial guess magnification curve\n",
    "plt.plot(t, A0*8500, label='Initial Guess', color='black', linestyle=':')\n",
    "\n",
    "#######\n",
    "# You can also plot the data here.\n",
    "\n",
    "#######\n",
    "\n",
    "plt.show()"
   ]
  },
  {
   "cell_type": "markdown",
   "id": "7f66193f-e28f-4e8c-9545-bc7f3a4544b4",
   "metadata": {},
   "source": [
    "### Find best-fitting FSPL model"
   ]
  },
  {
   "cell_type": "code",
   "execution_count": null,
   "id": "4f52c4f2-84e0-49dc-8912-4cf527430e2a",
   "metadata": {},
   "outputs": [],
   "source": [
    "# Define the mulens model with the FSPL model like in the example shown before\n",
    "OB170002 = []\n",
    "\n",
    "print('Initial Parameter Guess:\\n{0}'.format(OB170002.model.parameters))\n",
    "print('chi^2 = %.2f'%(chi2_fun(Theta0FSPL, labelsFSPL, OB170002)))"
   ]
  },
  {
   "cell_type": "code",
   "execution_count": null,
   "id": "45e4b6d5-1f97-412f-b9ba-7adcc493b922",
   "metadata": {},
   "outputs": [],
   "source": [
    "# Now find the best-fitting model similarly like above\n",
    "\n",
    "\n"
   ]
  },
  {
   "cell_type": "code",
   "execution_count": null,
   "id": "6077b2a1-28d0-4731-a9c2-cd5e0bd90a04",
   "metadata": {},
   "outputs": [],
   "source": [
    "# Plot your results! We already put the initial guess model\n",
    "plt.figure()\n",
    "\n",
    "chi20 = chi2_fun(Theta0FSPL, labelsFSPL, OB170002)  # initial guess chi2\n",
    "\n",
    "init_model = mm.Model({'t_0': t0, 'u_0': u0, 't_E': tE})\n",
    "init_fit = mm.FitData(dataset=OB170002_data[0], model=init_model)\n",
    "init_fit.fit_fluxes()\n",
    "\n",
    "init_model.plot_lc(\n",
    "    source_flux=init_fit.source_flux, blend_flux=init_fit.blend_flux,\n",
    "    label='Initial Guess $\\chi^2$=%1.3f'%chi20, color='red', linestyle=':')\n",
    "\n",
    "### If you're feeling adventurous, you can also try plotting the best-fitting PSPL model\n",
    "\n",
    "\n",
    "#### Put the code for plotting the best-fitting FSPL model\n",
    "\n",
    "\n",
    "\n"
   ]
  },
  {
   "cell_type": "markdown",
   "id": "8e382917-1c08-4dca-9038-342b6da70405",
   "metadata": {},
   "source": [
    "## Add parallax effect"
   ]
  },
  {
   "cell_type": "markdown",
   "id": "a1f2032b-2533-4f94-90f0-394179bb64ae",
   "metadata": {},
   "source": [
    "We will now show you how to add the parallax effect to your event. For this, however, we will need a different event. For the previous event, the parallax effect would be hard to catch because it was short, and all observatories were located on Earth. If we were lucky and had a highly magnified event observed densely, we might catch terrestial parallax like in the case of [**OGLE-2007-BLG-224 event**](https://ui.adsabs.harvard.edu/abs/2009ApJ...698L.147G/abstract).\n",
    "\n",
    "The parallax effect can (and should) be included, however, in the case of longer events or events which were observed by both Earth- and space-based observatories.\n",
    "\n",
    "For this exercise, we will use event OGLE-2014-BLG-0939, which was published in [**Yee et al. 2015**](https://ui.adsabs.harvard.edu/abs/2015ApJ...802...76Y/abstract). Both OGLE and Spitzer Space Telescope observed this event. We adapted [**Example 12 for MulensModel**](https://github.com/rpoleski/MulensModel/blob/master/examples/example_12_fit_satellite_parallax_EMCEE.py)."
   ]
  },
  {
   "cell_type": "markdown",
   "id": "a64f0606-4868-4425-a601-c2b5cb4d5067",
   "metadata": {},
   "source": [
    "### Load data"
   ]
  },
  {
   "cell_type": "code",
   "execution_count": null,
   "id": "e767e791-e4d5-4705-8559-47f8489a511c",
   "metadata": {},
   "outputs": [],
   "source": [
    "# Data directory\n",
    "data_dir = os.path.abspath('./data/events/OB140939/')\n",
    "\n",
    "data = read_data(data_dir)"
   ]
  },
  {
   "cell_type": "markdown",
   "id": "cc439413-7330-4e7c-93a4-92402022e5ee",
   "metadata": {},
   "source": [
    "We add OGLE data like in the examples before."
   ]
  },
  {
   "cell_type": "code",
   "execution_count": null,
   "id": "01e7a6d2-090f-42ca-b390-c9553a0e7a98",
   "metadata": {},
   "outputs": [],
   "source": [
    "OB140939_OGLE_data  = mm.MulensData(data_list = data['OGLE'],\n",
    "                                            plot_properties={'color':'thistle', 'label':'OGLE', 'marker':'x', 'markersize':2}, \n",
    "                                            phot_fmt='flux', \n",
    "                                            bandpass='I')"
   ]
  },
  {
   "cell_type": "markdown",
   "id": "4721992d-2eba-467e-b2ef-93dad436a03e",
   "metadata": {},
   "source": [
    "For Spitzer, we have to account for the observatory being located in space. This will also be relevant for any Roman events you might work on in the future.\n",
    "\n",
    "To make this work, you have to know the position of the satellite in the Solar system. You can do that by getting its ephemeris from [**the JPL Horizons system**](https://ssd.jpl.nasa.gov/horizons/). You may be familiar with this system from classes about Solar System Objects. JPL Horizons provides ephemerides not only for astronomical objects in the Solar System but also for a myriad of satellites sent by humans (202 according to [**this website**](https://ssd.jpl.nasa.gov/horizons/manual.html)), which we checked on April 9th 2025).\n",
    "\n",
    "For this exercise, we pre-downloaded the Spitzer ephemeris, but we encourage you to do this by yourself, following this [**wonderful tutorial by Radek Poleski**](https://github.com/rpoleski/MulensModel/blob/master/documents/Horizons_manual.md)."
   ]
  },
  {
   "cell_type": "code",
   "execution_count": null,
   "id": "cf6769e6-9e68-4951-88ba-2e598f9e3a99",
   "metadata": {},
   "outputs": [],
   "source": [
    "ephem_path = os.path.abspath('./data/events/OB140939/spitzer_horizons_results.ephem')\n",
    "\n",
    "OB140939_spitzer_data = mm.MulensData(data_list = data['Spitzer'], ephemerides_file=ephem_path,\n",
    "    plot_properties={'color':'firebrick', 'label':'Spitzer', 'marker':'o', 'markersize':2}, \n",
    "                                            phot_fmt='flux')\n",
    "\n",
    "OB140939_data = [OB140939_OGLE_data, OB140939_spitzer_data]"
   ]
  },
  {
   "cell_type": "markdown",
   "id": "2aee6ab9-337f-4891-8d13-908eb87ca59a",
   "metadata": {},
   "source": [
    "Let's have a look at the data."
   ]
  },
  {
   "cell_type": "code",
   "execution_count": null,
   "id": "ef23fc6d-de83-42ff-bdb8-42b068a9d0be",
   "metadata": {},
   "outputs": [],
   "source": [
    "plt.figure()\n",
    "# MulensModel has a very handy method for MulensData class\n",
    "OB140939_OGLE_data.plot()\n",
    "OB140939_spitzer_data.plot()\n",
    "\n",
    "plt.legend()\n",
    "plt.title('OB140939')\n",
    "plt.ylabel('Flux')\n",
    "plt.xlabel('JD-2450000')\n",
    "plt.show()"
   ]
  },
  {
   "cell_type": "markdown",
   "id": "16906ebe-e166-4fb9-8c9a-d07d82fad5d6",
   "metadata": {},
   "source": [
    "### Define PSPL model with parallax effect"
   ]
  },
  {
   "cell_type": "markdown",
   "id": "d2c0f2c7-ec0c-41e2-b1af-c8f21f13a90d",
   "metadata": {},
   "source": [
    "When modelling events with parallax effect, it is important to know the coordinates of the event. \n",
    "\n",
    "You also have to specify the parameter reference time $t_{0,par}$. \n",
    "Following [**Skowron et al. 2011, Appendix A**](https://ui.adsabs.harvard.edu/abs/2011ApJ...738...87S/abstract): The parameters of an event with parallax are customarily measured in a geocentric frame ([**An et al. 2002**](https://ui.adsabs.harvard.edu/abs/2002ApJ...572..521A/abstract), [**Gould 2004**](https://ui.adsabs.harvard.edu/abs/2004ApJ...614..404G/abstract)). In this frame, \"all parameters are measured in the instantaneous frame that is at rest with respect to the Earth at a specifically adopted time\", $t_{0,par}$. This parameter is **not** be fitted.\n",
    "\n",
    "The choice of $t_{0,par}$ is not random. In general, it is a good practice to set it at the time of peak, or at time of the planetary anomaly. "
   ]
  },
  {
   "cell_type": "code",
   "execution_count": null,
   "id": "98859517-06cb-4350-9758-a198a87edf35",
   "metadata": {},
   "outputs": [],
   "source": [
    "coords = '17:47:12.25 -21:22:58.7' # coordinates passed in hh:mm:ss and dd:mm:ss format\n",
    "\n",
    "# You can guess the parameters here\n",
    "t0, u0, tE = 2456837., 0.5, 30 # you can guess the parameters here\n",
    "piEN, piEE = 0., 0. # let's assume for now that the parallax vector has length 0.\n",
    "t0par = 2456837. # we set t_{0,par} at the peak\n",
    "\n",
    "# We will define the starting parameters a bit differently\n",
    "# Starting parameters:\n",
    "start_params = {\n",
    "    't_0': t0, 'u_0': u0, 't_E': tE,\n",
    "    'pi_E_N': piEN, 'pi_E_E': piEE,\n",
    "    't_0_par': t0par}\n",
    "Theta0_par = [t0, u0, tE, piEN, piEE]\n",
    "# Which parameters we want to fit?\n",
    "labels_to_fit = [\"t_0\", \"u_0\", \"t_E\", \"pi_E_N\", \"pi_E_E\"]\n",
    "\n",
    "OB140939_pspl_par = mm.Model(start_params, coords=coords)"
   ]
  },
  {
   "cell_type": "markdown",
   "id": "ddcd2fc9-9821-40ba-ac8e-973815d09c39",
   "metadata": {},
   "source": [
    "Let's see how this looks."
   ]
  },
  {
   "cell_type": "code",
   "execution_count": null,
   "id": "564c239d-0558-4e66-bb17-ef619887d86b",
   "metadata": {},
   "outputs": [],
   "source": [
    "plt.figure()\n",
    "\n",
    "t = np.linspace(2456000, 2457000, 2000)  # time range\n",
    "A0 = OB140939_pspl_par.get_magnification(t)  # initial guess magnification curve\n",
    "plt.plot(t, A0*110000, label='Initial Guess', color='black', linestyle=':')\n",
    "\n",
    "OB140939_OGLE_data.plot()\n",
    "OB140939_spitzer_data.plot()\n",
    "\n",
    "plt.legend()\n",
    "plt.title('OB140939')\n",
    "plt.ylabel('Flux')\n",
    "plt.xlabel('JD-2450000')\n",
    "plt.show()"
   ]
  },
  {
   "cell_type": "markdown",
   "id": "54a9776c-e4ba-48d7-8f81-3d7a56e19ed3",
   "metadata": {},
   "source": [
    "### Find best-fitting PSPL model with parallax effect"
   ]
  },
  {
   "cell_type": "code",
   "execution_count": null,
   "id": "d0a4b1b6-1b3f-495e-8a4a-b70d84544bfd",
   "metadata": {},
   "outputs": [],
   "source": [
    "# Define the mulens event\n",
    "OB140939 = mm.Event(datasets=OB140939_data, model=OB140939_pspl_par)\n",
    "\n",
    "print('Initial Parameter Guess:\\n{0}'.format(OB140939.model.parameters))\n",
    "print('chi^2 = %.2f'%(chi2_fun(Theta0_par, labels_to_fit, OB140939)))"
   ]
  },
  {
   "cell_type": "code",
   "execution_count": null,
   "id": "3982b0e6-756c-414a-b114-eb805bb92bfc",
   "metadata": {},
   "outputs": [],
   "source": [
    "# Find the best-fit parameters\n",
    "# We'll do this exactly the same way as in previous examples,\n",
    "# so you know how to do it!\n"
   ]
  },
  {
   "cell_type": "code",
   "execution_count": null,
   "id": "c0aacaad-4a38-48a2-a2d4-d245e42a09b3",
   "metadata": {},
   "outputs": [],
   "source": [
    "# Plot your results! We already put the initial guess model\n",
    "plt.figure()\n",
    "\n",
    "chi20 = chi2_fun(Theta0_par, labels, OB140939)  # initial guess chi2\n",
    "\n",
    "init_model = mm.Model(start_params, coords=coords)\n",
    "init_fit = mm.FitData(dataset=OB140939_data[0], model=init_model)\n",
    "init_fit.fit_fluxes()\n",
    "\n",
    "init_model.plot_lc(\n",
    "    source_flux=init_fit.source_flux, blend_flux=init_fit.blend_flux,\n",
    "    label='Initial Guess\\n$\\chi^2$=%.2f'%chi20, color='red', linestyle=':')\n",
    "\n",
    "### If you're feeling adventurous, you can also try plotting the best-fitting PSPL model\n",
    "### Without parallax effect\n",
    "\n",
    "\n",
    "#### Put the code for plotting the best-fitting PSPL model with parallax\n",
    "\n"
   ]
  }
 ],
 "metadata": {
  "kernelspec": {
   "display_name": "Python 3 (ipykernel)",
   "language": "python",
   "name": "python3"
  },
  "language_info": {
   "codemirror_mode": {
    "name": "ipython",
    "version": 3
   },
   "file_extension": ".py",
   "mimetype": "text/x-python",
   "name": "python",
   "nbconvert_exporter": "python",
   "pygments_lexer": "ipython3",
   "version": "3.11.12"
  }
 },
 "nbformat": 4,
 "nbformat_minor": 5
}
