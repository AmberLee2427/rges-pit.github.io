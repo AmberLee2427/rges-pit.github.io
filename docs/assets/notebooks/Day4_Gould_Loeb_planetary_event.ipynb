{
 "cells": [
  {
   "cell_type": "markdown",
   "id": "c5c1bede-2fd4-4723-a3f7-ad92644270d2",
   "metadata": {},
   "source": [
    "# Estimating stellar and planetary parameters based on visual inspection"
   ]
  },
  {
   "cell_type": "markdown",
   "id": "29c07dc9-8d69-4acb-8012-62a2d4649695",
   "metadata": {},
   "source": [
    "This exercise was adapted into a Jupyter Notebook from the exercise from Sagan Summer Exoplanet Workshop 2017, made by Jennifer Yee. See Tuesday's hands-on materials and accompanying worksheet available here: [**link**](https://nexsci.caltech.edu/workshop/2017/handson.shtml)"
   ]
  },
  {
   "cell_type": "markdown",
   "id": "36caa0fe-c240-436f-89be-c74649690ed2",
   "metadata": {},
   "source": [
    "We will analyze one of the simplest cases of a microlensing event with a planetary anomaly, which was described in [**Gould & Loeb, 1992**](https://ui.adsabs.harvard.edu/abs/1992ApJ...396..104G/abstract).\n",
    "\n",
    "We make a couple of assumptions here. We are trying to analyze a Gould & Loeb planetary event with a caustic crossing perturbation. In such an event, we assume that there is **no parallax** and **no blending**."
   ]
  },
  {
   "cell_type": "markdown",
   "id": "c983f028-bcb0-4ca3-a225-667f32929ce1",
   "metadata": {},
   "source": [
    "## Load packages"
   ]
  },
  {
   "cell_type": "code",
   "execution_count": null,
   "id": "5739fa16-c2e4-413b-b6ae-547b041f8f0a",
   "metadata": {},
   "outputs": [],
   "source": [
    "import numpy as np\n",
    "import matplotlib.pyplot as plt\n",
    "\n",
    "%matplotlib widget"
   ]
  },
  {
   "cell_type": "markdown",
   "id": "8982aa9f-51f6-4d2a-88aa-fd3e4a8ad4d4",
   "metadata": {},
   "source": [
    "## Load the data and display the event"
   ]
  },
  {
   "cell_type": "markdown",
   "id": "0b48f1c6-1684-4675-9aed-da5bd64ac4e4",
   "metadata": {},
   "source": [
    "Please select a number from 1 to 17. This will load one of the events. If possible, let each person select a different number."
   ]
  },
  {
   "cell_type": "code",
   "execution_count": null,
   "id": "5c28a981-22f8-49dd-b468-a67711705529",
   "metadata": {},
   "outputs": [],
   "source": [
    "##########################\n",
    "# Put in your number here\n",
    "my_number = 1\n",
    "##########################\n",
    "data = np.loadtxt('data/roman_w146_%02d.dat'%my_number)"
   ]
  },
  {
   "cell_type": "markdown",
   "id": "8c9e5750-ae33-4bc6-b81b-5ddf94e4c900",
   "metadata": {},
   "source": [
    "Go ahead and zoom in at the features of the event."
   ]
  },
  {
   "cell_type": "code",
   "execution_count": null,
   "id": "712e1fb2-0d43-4c6e-8def-5653d50b5ce2",
   "metadata": {},
   "outputs": [],
   "source": [
    "fig = plt.figure()\n",
    "plt.errorbar(data[:,0], data[:,1], yerr=data[:,2], marker='o', color='black', ls='');\n",
    "plt.gca().invert_yaxis();\n",
    "plt.xlabel('JD');\n",
    "plt.ylabel('F146 [mag]');"
   ]
  },
  {
   "cell_type": "markdown",
   "id": "e7db445f-371e-4d10-9184-5a81ed3eb1a3",
   "metadata": {},
   "source": [
    "## Parameters that we will estimate"
   ]
  },
  {
   "cell_type": "markdown",
   "id": "c715bb68-c756-4592-b185-7f79b8d8a558",
   "metadata": {},
   "source": [
    "Let's have a quick reminder about the main parameters that characterize a microlensing event. We will use this plot from [**Khakpash et al. 2019**](https://ui.adsabs.harvard.edu/abs/2019AJ....158....9K/abstract):\n",
    "\n",
    "<center><img src=\"images/Khakpash_2019_parameters.png\" width=\"500\"/></center>\n",
    "<center>Plot from Khakpash et al. 2019, Figure 1.</center>\n",
    "\n",
    "This plot's y-axis is in **magnification**, instead of magnitudes or fluxes. Then the event's amplitude will be the maximum magnification, $A_\\text{max}$. Time of peak $t_0$, or time of closest approach, will be the time when magnification reaches $A_\\text{max}$. Then, the time of planetary anomaly $t_\\text{p}$ will be the time when the anomaly is occuring. The timescale of the anomaly, $t_\\text{E,p}$, is half of the time of the duration of the planetary anomaly, while the Einstein timescale $t_\\text{E}$ will be half of the duration of when the event's magnification is larger than $A=1.34$."
   ]
  },
  {
   "cell_type": "markdown",
   "id": "9674fcd2-6d38-48ad-818b-736357688401",
   "metadata": {},
   "source": [
    "Now let's talk about the other event parameters. You should be familiar with the source radius scaled in Einstein radii, $\\rho$, from the Chapter 3 lecture on the finite source effect. Below, we present an illustration of parameters connected to the binary lens model: planet-star separation $s$ and the angle of the source trajectory $\\alpha$.\n",
    "\n",
    "<center><img src=\"images/Yee_sagan_planet_params.png\" width=\"500\"/></center>\n",
    "<center>Plot from Jennifer Yee's presentation during the Sagan Exoplanet Workshop 2017 for this exercise.</center>\n",
    "\n",
    "The final parameter connected to the binary lens we will need to define is the mass ratio $q$, which is defined as:\n",
    "\n",
    "$q = \\frac{M_\\text{planet}}{M_\\text{source}}$"
   ]
  },
  {
   "cell_type": "markdown",
   "id": "c570ab5c-feb3-4f6c-9061-6e8ed08834d7",
   "metadata": {},
   "source": [
    "## Parameters of the stellar event"
   ]
  },
  {
   "cell_type": "markdown",
   "id": "19571761-a084-4412-8d21-8fece7fc2acd",
   "metadata": {},
   "source": [
    "First, we will determine the parameters of the stellar events, ignoring the planetary anomaly."
   ]
  },
  {
   "cell_type": "code",
   "execution_count": null,
   "id": "36cd8a90-1ec9-49be-8ee6-27ac2ebea41d",
   "metadata": {},
   "outputs": [],
   "source": [
    "fig = plt.figure()\n",
    "plt.errorbar(data[:,0], data[:,1], yerr=data[:,2], marker='o', color='black', ls='');\n",
    "plt.gca().invert_yaxis();\n",
    "plt.xlabel('JD');\n",
    "plt.ylabel('mag');\n",
    "\n",
    "## You can use the vertical and horizontal lines to find the values of the parameter\n",
    "plt.axvline(x=2460000.);\n",
    "plt.axhline(y=20.9);"
   ]
  },
  {
   "cell_type": "markdown",
   "id": "bbfc3597-ac14-405b-9c5b-d3db9a967cbf",
   "metadata": {},
   "source": [
    "We have to determine several parameters: \n",
    "- t_0 is the time of the peak of the main event,\n",
    "- mag_0 is the magnitude of the event at baseline,\n",
    "- delta_mag_max is the amplitude between the baseline and the main event's peak,\n",
    "- A_max is the amplification at the peak of the main event,\n",
    "- u_0 is the impact parameter at the peak of the main event.\n",
    "\n",
    "Use the plot above to find those values. You can help yourself with the vertical and horizontal lines, by editing their positions."
   ]
  },
  {
   "cell_type": "code",
   "execution_count": null,
   "id": "4b8b2aee-59fa-4d6d-9ce1-2fd668f9292b",
   "metadata": {},
   "outputs": [],
   "source": [
    "# Time of the peak of the event\n",
    "t_0 = \n",
    "\n",
    "# Baseline magnitude \n",
    "mag_0 = \n",
    "\n",
    "# Change in magnitude\n",
    "delta_mag_max = \n",
    "\n",
    "# Maximum magnification\n",
    "A_max = \n",
    "\n",
    "# Impact parameter\n",
    "u_0 = "
   ]
  },
  {
   "cell_type": "markdown",
   "id": "f7ae8d7e-719d-4084-b1f8-8c64a654cbc5",
   "metadata": {},
   "source": [
    "Now, we'd like to determine the Einstein timescale, t_E.\n",
    "\n",
    "First, you have to find what the amplitude is when the amplification A is equal to 1.34. That is when the source is at the Einstein radius $\\theta_E$. \n",
    "\n",
    "Once you found the amplitude delta_mag at $A=1.34$, you can use the plot above to find the time when this amplitude is reached. Then, you can subtract that value from the time of peak and get the Einstein timescale, t_E."
   ]
  },
  {
   "cell_type": "code",
   "execution_count": null,
   "id": "31411d9b-86e1-431d-812e-28efc1d6577c",
   "metadata": {},
   "outputs": [],
   "source": [
    "# Change in magnitude for A = 1.34\n",
    "delta_mag = \n",
    "# Time at delta_mag\n",
    "t = \n",
    "# Einstein timescale\n",
    "t_E = np.abs(t_0 - t)"
   ]
  },
  {
   "cell_type": "markdown",
   "id": "419898c1-1155-409e-8d31-f3bfa1f76aab",
   "metadata": {},
   "source": [
    "## Parameters of the planet"
   ]
  },
  {
   "cell_type": "markdown",
   "id": "9763e9c5-dc22-4d0a-b516-926f7beae3e2",
   "metadata": {},
   "source": [
    "Now we will focus on the planetary anomaly. "
   ]
  },
  {
   "cell_type": "code",
   "execution_count": null,
   "id": "cf4cbef8-1d17-4086-957a-d4d03b60ff90",
   "metadata": {},
   "outputs": [],
   "source": [
    "fig = plt.figure()\n",
    "plt.errorbar(data[:,0], data[:,1], yerr=data[:,2], marker='o', color='black', ls='');\n",
    "plt.gca().invert_yaxis();\n",
    "plt.xlabel('JD');\n",
    "plt.ylabel('mag');\n",
    "\n",
    "## You can use the vertical and horizontal lines to find the values of the parameter\n",
    "plt.axvline(x=2460900.);\n",
    "plt.axhline(y=20.5);"
   ]
  },
  {
   "cell_type": "markdown",
   "id": "73657e4f-11eb-4a55-8b8e-5c5c3aa359a6",
   "metadata": {},
   "source": [
    "### Where is the planet?"
   ]
  },
  {
   "cell_type": "markdown",
   "id": "582e32a6-742a-40c2-b0af-637c4ecd7c7c",
   "metadata": {},
   "source": [
    "First we have to find t_planet, the time when the planetary anomaly occurs. Use the plot above to determine that."
   ]
  },
  {
   "cell_type": "code",
   "execution_count": null,
   "id": "f309d67e-9191-41b4-bcd6-591d91a72c42",
   "metadata": {},
   "outputs": [],
   "source": [
    "# Time of the planet perturbation\n",
    "t_planet = "
   ]
  },
  {
   "cell_type": "markdown",
   "id": "eef3e70a-c069-4c94-9c37-26551e6c3736",
   "metadata": {},
   "source": [
    "Now, based on the information gained above we can find the position of the images."
   ]
  },
  {
   "cell_type": "code",
   "execution_count": null,
   "id": "8c243193-a009-44e5-8bc8-7e63df7278fe",
   "metadata": {},
   "outputs": [],
   "source": [
    "# Time scaled to the Einsein timescale\n",
    "tau = np.abs(t_planet - t_0) / t_E\n",
    "\n",
    "# source-lens separation\n",
    "u = np.sqrt(u_0**2 + tau**2)\n",
    "\n",
    "# Position of the images\n",
    "y_plus = 0.5 * np.sqrt(u**2 + 4.) + u\n",
    "y_minus = 0.5 * np.sqrt(u**2 + 4.) - u"
   ]
  },
  {
   "cell_type": "markdown",
   "id": "f347f728-f707-4e1b-af3e-09f75f811adc",
   "metadata": {},
   "source": [
    "### Find planet-star separation and the angle of the source trajectory"
   ]
  },
  {
   "cell_type": "markdown",
   "id": "a1e1ebab-9d17-4879-b8fd-1dea6629eb27",
   "metadata": {},
   "source": [
    "To find the planet-star separation, we have to determine whether minor or major images are perturbed. "
   ]
  },
  {
   "cell_type": "markdown",
   "id": "57cb7cf6-81bf-4121-941d-6b45de70d9d3",
   "metadata": {},
   "source": [
    "- Minor image perturbation occurs when there is a dip in the light curve during a planetary anomaly.\n",
    "\n",
    "If the minor image is perturbed: $s = y_-$.\n",
    "\n",
    "<center><img src=\"images/Yee_sagan_minor_pert.png\" width=\"500\"/></center>\n",
    "<center>Minor image perturbation light curve, plot from Jennifer Yee's presentation during the Sagan Exoplanet Workshop 2017 for this exercise.</center>"
   ]
  },
  {
   "cell_type": "markdown",
   "id": "f68b5aa8-aff2-454c-843d-8a5d33d303bf",
   "metadata": {},
   "source": [
    "- Major image perturbation occurs when there is a bump in the light curve during a planetary anomaly.\n",
    "\n",
    "If the major image is perturbed: $s = y_+$\n",
    "\n",
    "<center><img src=\"images/Yee_sagan_major_pert.png\" width=\"500\"/></center>\n",
    "<center>Major image perturbation light curve, plot from Jennifer Yee's presentation during the Sagan Exoplanet Workshop 2017 for this exercise.</center>\n",
    "\n"
   ]
  },
  {
   "cell_type": "markdown",
   "id": "39735413-b99d-46a0-b114-725d5acac9a0",
   "metadata": {},
   "source": [
    "⚠️ If your bump has a little dip that doesn't go back to the level of the main event, it would still be a major image perturbation rather than a minor image perturbation. The dip between two peaks can occur when the source is travelling inside the major image caustic."
   ]
  },
  {
   "cell_type": "code",
   "execution_count": null,
   "id": "2d8afd1e-dd7e-4e8e-bf65-ca41a8309ab2",
   "metadata": {},
   "outputs": [],
   "source": [
    "# planet-star separation\n",
    "s = "
   ]
  },
  {
   "cell_type": "markdown",
   "id": "742634d6-b647-4d95-bca7-bdfb6eecd3c3",
   "metadata": {},
   "source": [
    "Now we can find the value of the angle of the source trajectory, alpha, using values we determined earlier. Due to different geometric conventions, the correct value might be $\\frac{\\pi}{2}$ or $\\pi$ away from the value you calculated."
   ]
  },
  {
   "cell_type": "code",
   "execution_count": null,
   "id": "b8ebde08-9b37-41fd-a07d-aff6901ba5e4",
   "metadata": {},
   "outputs": [],
   "source": [
    "# angle between trajectory and binary axis\n",
    "alpha = np.atan(u_0 / tau)"
   ]
  },
  {
   "cell_type": "markdown",
   "id": "4ea288c5-7cc7-4166-b4e8-74be6720a112",
   "metadata": {},
   "source": [
    "### Find  source radius and planet-star mass ratio"
   ]
  },
  {
   "cell_type": "markdown",
   "id": "4bfa738d-a23b-4e4a-9f64-22d527a0fcef",
   "metadata": {},
   "source": [
    "Finding the planet-mass ratio and source radius depends on the event regime. First, you have to identify to which regime your event belongs. \n",
    "\n",
    "If your event has a minor image perturbation, move to the [**Minor**](####-Minor-image,-rho-<-caustic) section.\n",
    "\n",
    "If your event has a major image perturbation, you have to determine whether the source radius is larger or smaller than the caustic.\n",
    "- If there are two distinct peaks, move to the [**Major, $\\rho$< caustic**](####-Major-image,-rho-<-caustic) section.\n",
    "- If there are no dips and the peaks are merged, move to the [**Major, $\\rho$> caustic**](####-Major-image,-rho->-caustic) section."
   ]
  },
  {
   "cell_type": "markdown",
   "id": "465b90b6-3c7c-4c1e-a30f-8c063d826acd",
   "metadata": {},
   "source": [
    "<center><img src=\"images/Yee_sagan_regimes.png\" width=\"500\"/></center>\n",
    "<center>Three regimes, this figure comes from Jennifer Yee's presentation for this exercise at the Sagan Summer Exoplanet Workshop 2017.</center>"
   ]
  },
  {
   "cell_type": "markdown",
   "id": "d42d926d-9811-441b-9815-443d57f0f93b",
   "metadata": {},
   "source": [
    "#### Minor image, rho < caustic"
   ]
  },
  {
   "cell_type": "markdown",
   "id": "fe8ffdc0-ac54-4d02-9a53-ba8c5b3c564c",
   "metadata": {},
   "source": [
    "In this case, there is a dip in your light curve. $\\rho$ is smaller than the caustic.\n",
    "We will follow [**Han, 2006**](https://ui.adsabs.harvard.edu/abs/2006ApJ...638.1080H/abstract).\n",
    "Look at Figure 2 from this paper. This is how the caustics look in your case.\n",
    "\n",
    "<center><img src=\"images/Han_2006_minor.png\" width=\"500\"/></center>\n",
    "<center>Minor image perturbation caustics, Han, 2006, Figure 2.</center>\n",
    "\n",
    "The minor image caustic is shaped like two triangles. \n",
    "\n",
    "You will have to now estimate the path of the source through the caustic(s). Use the alpha angle you determined earlier and the features in the light curve. \n",
    "- How many caustic crossings are there? They manifest as sharp spikes in magnitude.\n",
    "- Where is the dip? How long does it last?"
   ]
  },
  {
   "cell_type": "markdown",
   "id": "c6ad9d4c-81f7-4c46-acec-0d1c368166c3",
   "metadata": {},
   "source": [
    "First, we will find the source radius in Einstein radii. \n",
    "We have to estimate the duration of the caustic crossing feature in the light curve. \n",
    "If there's more than one, focus on one of them."
   ]
  },
  {
   "cell_type": "code",
   "execution_count": null,
   "id": "8bdd8048-12f2-4e2f-8069-ddb169281bfa",
   "metadata": {},
   "outputs": [],
   "source": [
    "fig = plt.figure()\n",
    "plt.errorbar(data[:,0], data[:,1], yerr=data[:,2], marker='o', color='black', ls='');\n",
    "plt.gca().invert_yaxis();\n",
    "plt.xlabel('JD');\n",
    "plt.ylabel('mag');\n",
    "\n",
    "## You can use vertical lines to find the values of the parameter\n",
    "plt.axvline(x=2460000.);\n",
    "plt.axvline(x=2460050.);"
   ]
  },
  {
   "cell_type": "code",
   "execution_count": null,
   "id": "6e8fb470-6d91-441d-83a2-c44abfb47946",
   "metadata": {},
   "outputs": [],
   "source": [
    "# length of one caustic feature\n",
    "delta_t_caustic = 0. # Time it takes the source to cross the caustic\n",
    "t_star = delta_t_caustic / 2.\n",
    "\n",
    "# Now we can determine rho\n",
    "rho = t_star / t_E"
   ]
  },
  {
   "cell_type": "markdown",
   "id": "70848aa8-20cf-47f1-8c18-3f3abc99987b",
   "metadata": {},
   "source": [
    "Now we will find the planet-star mass ratio, q. We will use the simplified equation (equation number 4 from the [**Handy equations**](###-Handy-equations) section).\n",
    "\n",
    "Have a look at the length of the anomaly in the light curve. It occurs when the source is travelling between the two caustic triangles."
   ]
  },
  {
   "cell_type": "code",
   "execution_count": null,
   "id": "44cd7f54-44b8-452d-8f76-867cc6b18d71",
   "metadata": {},
   "outputs": [],
   "source": [
    "fig = plt.figure()\n",
    "plt.errorbar(data[:,0], data[:,1], yerr=data[:,2], marker='o', color='black', ls='');\n",
    "plt.gca().invert_yaxis();\n",
    "plt.xlabel('JD');\n",
    "plt.ylabel('mag');\n",
    "\n",
    "## You can use vertical lines to find the values of the parameter\n",
    "plt.axvline(x=2460000.);\n",
    "plt.axvline(x=2460050.);"
   ]
  },
  {
   "cell_type": "code",
   "execution_count": null,
   "id": "2701351f-5e43-4cc1-827a-03e0822fa4a4",
   "metadata": {},
   "outputs": [],
   "source": [
    "# Length of the anomaly\n",
    "delta_tau = \n",
    "\n",
    "# You will have to transform the equations provided a little bit. Put the calculations below.\n",
    "\n",
    "\n",
    "\n",
    "# Finally, mass ratio q is:\n",
    "q = "
   ]
  },
  {
   "cell_type": "markdown",
   "id": "94c6db82-259a-4c06-a951-e8ea551371ab",
   "metadata": {},
   "source": [
    "#### Major image, $\\rho$ < caustic"
   ]
  },
  {
   "cell_type": "markdown",
   "id": "ef9458a4-55f4-41e3-aee4-82abe1d9f0ef",
   "metadata": {},
   "source": [
    "In this case, there are distinct peaks in your light curve. $\\rho$ is smaller than the caustic.\n",
    "We will follow [**Han, 2006**](https://ui.adsabs.harvard.edu/abs/2006ApJ...638.1080H/abstract).\n",
    "Look at Figure 1 from this paper. This is how the caustic looks in your case.\n",
    "\n",
    "<center><img src=\"images/Han_2006_major.png\" width=\"500\"/></center>\n",
    "<center>Major image perturbation caustics, Han, 2006, Figure 1.</center>\n",
    "\n",
    "The major image caustic is shaped like a diamond. \n",
    "\n",
    "You will have to now estimate the path of the source through the caustic. Use the alpha angle you determined earlier, as well as the features in the light curve. \n",
    "- How many caustic crossings are there? They manifest as sharp spikes in magnitude."
   ]
  },
  {
   "cell_type": "markdown",
   "id": "c27cefca-b5f7-4b70-ad44-9185d6fd5f72",
   "metadata": {},
   "source": [
    "First, we will find the source radius in Einstein radii. \n",
    "We have to estimate the duration of the caustic crossing feature in the light curve. \n",
    "If there's more than one, focus on one of them."
   ]
  },
  {
   "cell_type": "code",
   "execution_count": null,
   "id": "f5419038-7fcc-47d7-b75a-471c47577725",
   "metadata": {},
   "outputs": [],
   "source": [
    "fig = plt.figure()\n",
    "plt.errorbar(data[:,0], data[:,1], yerr=data[:,2], marker='o', color='black', ls='');\n",
    "plt.gca().invert_yaxis();\n",
    "plt.xlabel('JD');\n",
    "plt.ylabel('mag');\n",
    "\n",
    "## You can use vertical lines to find the values of the parameter\n",
    "plt.axvline(x=2460000.);\n",
    "plt.axvline(x=2460050.);"
   ]
  },
  {
   "cell_type": "code",
   "execution_count": null,
   "id": "ccc3fe89-204a-4acd-ac0b-108d0bcc8aca",
   "metadata": {},
   "outputs": [],
   "source": [
    "# Length of one caustic feature\n",
    "# Time it takes the source to cross the caustic\n",
    "delta_t_caustic =  \n",
    "\n",
    "t_star = delta_t_caustic / 2.\n",
    "\n",
    "# Now we can determine rho\n",
    "rho = t_star / t_E"
   ]
  },
  {
   "cell_type": "markdown",
   "id": "365953cc-44f2-4487-a1ea-05c0b18e440e",
   "metadata": {},
   "source": [
    "Now we will find the planet-star mass ratio, q. We will use the simplified equation (equation number 4 from the [**Handy equations**](###-Handy-equations) section).\n",
    "\n",
    "Have a look at the length of the anomaly in the light curve. It occurs when the source is travelling through the inside of the diamond."
   ]
  },
  {
   "cell_type": "code",
   "execution_count": null,
   "id": "38198651-f167-4c61-b636-c34aacc28d41",
   "metadata": {},
   "outputs": [],
   "source": [
    "fig = plt.figure()\n",
    "plt.errorbar(data[:,0], data[:,1], yerr=data[:,2], marker='o', color='black', ls='');\n",
    "plt.gca().invert_yaxis();\n",
    "plt.xlabel('JD');\n",
    "plt.ylabel('mag');\n",
    "\n",
    "## You can use vertical lines to find the values of the parameter\n",
    "plt.axvline(x=2460000.);\n",
    "plt.axvline(x=2460050.);"
   ]
  },
  {
   "cell_type": "code",
   "execution_count": null,
   "id": "831199cf-d934-4b16-bb0c-237117aa4821",
   "metadata": {},
   "outputs": [],
   "source": [
    "# Length of the anomaly\n",
    "delta_tau = \n",
    "\n",
    "# You will have to transform the equations provided a little bit. Put the calculations below.\n",
    "\n",
    "\n",
    "\n",
    "# Finally, mass ratio q is:\n",
    "q = "
   ]
  },
  {
   "cell_type": "markdown",
   "id": "c9dbd3c3-4f4a-4a06-991a-303e9bbad383",
   "metadata": {},
   "source": [
    "#### Major image, $\\rho$ > caustic"
   ]
  },
  {
   "cell_type": "markdown",
   "id": "dc341586-ade7-44fe-bf6c-7a4a73cee72e",
   "metadata": {},
   "source": [
    "In this case, the peaks are merged in your light curve, and there are no dips. $\\rho$ is larger than the caustic.\n",
    "We will follow [**Gould & Gaucherel, 1997**](https://ui.adsabs.harvard.edu/abs/1997ApJ...477..580G/abstract).\n",
    "Look at Figure 1 from this paper. This is how the caustic looks in your case.\n",
    "\n",
    "![Major image perturbation caustic](images/Gould_Gaucherel_1997.png \"Figure 1 from Gould & Gaucherel, 1997\")\n",
    "\n",
    "The major image caustic is shaped like a diamond, but the source is large compared to it, and caustic entry and exit peaks merge.\n",
    "\n",
    "You will have to now estimate the change in the magnitude for the caustic, delta_mag_c. This is the \"height\" of the bump in the light curve in magnitudes. You count the \"height\" from the main event light curve."
   ]
  },
  {
   "cell_type": "code",
   "execution_count": null,
   "id": "a4ccc890-5417-4fec-b5d2-bf5776eae037",
   "metadata": {},
   "outputs": [],
   "source": [
    "# Change in the magnitude for the caustic\n",
    "delta_mag_c = "
   ]
  },
  {
   "cell_type": "markdown",
   "id": "ca34ac70-ac2f-4a43-8b7d-ed58c8db17a9",
   "metadata": {},
   "source": [
    "Based on delta_mag_c you can now find the amplification during the planetary anomaly, A_p."
   ]
  },
  {
   "cell_type": "code",
   "execution_count": null,
   "id": "fb426370-6cb6-4840-8ee4-5ac1e8f1fbb6",
   "metadata": {},
   "outputs": [],
   "source": [
    "# Insert the formula for magnification\n",
    "A_p = "
   ]
  },
  {
   "cell_type": "markdown",
   "id": "ec2de3bd-e347-46ee-be6c-6a9c2338cee7",
   "metadata": {},
   "source": [
    "Finally, we can use this equation from [**Gould & Gaucherel, 1997**](https://ui.adsabs.harvard.edu/abs/1997ApJ...477..580G/abstract) to determine the mass ratio q:\n",
    "\n",
    "$A_p = \\frac{2q}{\\rho^2}$"
   ]
  },
  {
   "cell_type": "code",
   "execution_count": null,
   "id": "e73e1a26-6865-4e8d-9a5f-ceb9d9cd8f51",
   "metadata": {},
   "outputs": [],
   "source": [
    "# Insert formula for mass ratio q\n",
    "q = "
   ]
  },
  {
   "cell_type": "markdown",
   "id": "eacb6cce-b3a0-4dbc-a6fc-3535f46b897b",
   "metadata": {},
   "source": [
    "## Summary"
   ]
  },
  {
   "cell_type": "markdown",
   "id": "97555e67-183a-4624-90a0-1428c95402ac",
   "metadata": {},
   "source": [
    "Let's display all the found parameters. We will show some of them in logarithmic form since this is a notation you can encounter in many papers.\n",
    "\n",
    "Some of parameters, such as Einstein timescale $t_E$, source radius $\\rho$, separation $s$ and mass ratio $q$ are easier to probe in log space, so have that in mind when you'll be tackling some of the events in the future."
   ]
  },
  {
   "cell_type": "code",
   "execution_count": null,
   "id": "c7498387-e50e-4426-9480-00c10f7fd749",
   "metadata": {},
   "outputs": [],
   "source": [
    "params = [t_0, u_0, t_E, rho, s, q, alpha]\n",
    "params_labels = ['t_0', 'u_0', 't_E',\n",
    "                 'rho', 's', 'q', 'alpha']\n",
    "log_params = [t_0, u_0, np.log10(t_E), np.log10(rho), np.log10(s), np.log10(q), alpha]\n",
    "log_params_labels = ['t_0', 'u_0', 'log_{10}(t_E)',\n",
    "                     'log_{10}(rho)', 'log_{10}(s)', 'log_{10}(q)', 'alpha']\n",
    "\n",
    "\n",
    "print('Your event parameters:')\n",
    "for i in range(len(params)):\n",
    "    print('%s = %.3f'%(params_labels[i], params[i]))\n",
    "\n",
    "print('\\nYour event parameters (log-space):')\n",
    "for i in range(len(params)):\n",
    "    print('%s = %.3f'%(log_params_labels[i], log_params[i]))"
   ]
  },
  {
   "cell_type": "markdown",
   "id": "2130e681-e17e-41f6-8ac4-ffe75f375274",
   "metadata": {},
   "source": [
    "## Handy equations"
   ]
  },
  {
   "cell_type": "markdown",
   "id": "878b5815-a0cf-4b4d-8f54-43391a5cb72a",
   "metadata": {},
   "source": [
    "### 1. Magnitude and amplification \n",
    "\n",
    "$m_1 - m_2 = -2.5 log_{10}(\\frac{f_1}{f_2}) \\approx -2.5 log_{10}(A)$"
   ]
  },
  {
   "cell_type": "markdown",
   "id": "11e2ee67-f170-45a8-8c35-dd245cd86414",
   "metadata": {},
   "source": [
    "### 2. Amplification and impact parameter\n",
    "\n",
    "$A = \\frac{u^2 + 2}{u\\sqrt{u^2 + 4}} \\approx \\frac{1}{u}$\n",
    "\n",
    "Approximation assumes $u << 1$."
   ]
  },
  {
   "cell_type": "markdown",
   "id": "354d12c7-5429-4a1d-8ba5-cf84e9c69f0d",
   "metadata": {},
   "source": [
    "### 3. Impact parameter at any given time\n",
    "\n",
    "$u = \\sqrt{(\\frac{t-t_0}{t_E})^2 + u_0^2}$"
   ]
  },
  {
   "cell_type": "markdown",
   "id": "cc233592-2dac-494c-bb57-45ac8ad8af4a",
   "metadata": {},
   "source": [
    "### 4. Time of planetary anomaly and mass ratio\n",
    "\n",
    "$t_\\text{E, planet} = t_\\text{E}\\sqrt{\\rho^2 + q^2}$, \n",
    "\n",
    "$t_\\text{E, planet} = \\frac{1}{2}\\Delta t_\\text{planet}$ "
   ]
  },
  {
   "cell_type": "code",
   "execution_count": null,
   "id": "08cb9b40-5245-401f-8014-df771cc131d5",
   "metadata": {},
   "outputs": [],
   "source": []
  }
 ],
 "metadata": {
  "kernelspec": {
   "display_name": "Python 3 (ipykernel)",
   "language": "python",
   "name": "python3"
  },
  "language_info": {
   "codemirror_mode": {
    "name": "ipython",
    "version": 3
   },
   "file_extension": ".py",
   "mimetype": "text/x-python",
   "name": "python",
   "nbconvert_exporter": "python",
   "pygments_lexer": "ipython3",
   "version": "3.11.12"
  }
 },
 "nbformat": 4,
 "nbformat_minor": 5
}
