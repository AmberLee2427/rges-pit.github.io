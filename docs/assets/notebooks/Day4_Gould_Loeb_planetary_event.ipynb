{
  "cells": [
    {
      "cell_type": "markdown",
      "source": [
        "<a href=\"https://colab.research.google.com/github/rges-pit/minicourses/blob/main/chapter4/Day4_Gould_Loeb_planetary_event.ipynb\" target=\"_parent\"><img src=\"https://colab.research.google.com/assets/colab-badge.svg\" alt=\"Open In Colab\"/></a>"
      ],
      "metadata": {
        "id": "xFKUlmu3o62M"
      },
      "id": "xFKUlmu3o62M"
    },
    {
      "cell_type": "markdown",
      "source": [
        "# <font face=\"Helvetica\" size=\"7\">Chapter 4: Estimating stellar and planetary parameters based on visual inspection </font>  \n",
        "\n",
        "<hr style=\"border: 1.5pt solid #a859e4; width: 100%; margin-top: -10px;\">\n",
        "\n",
        "<i> Authors: Katarzyna Kruszyńska, Amber Malpas, Etienne Bachelet, Somayeh Khakpash, Ali Crisp </i>\n",
        "\n",
        "<br>\n",
        "\n",
        "If you would like an introduction to python notebooks, please read this tutorial: https://medium.com/codingthesmartway-com-blog/getting-started-with-jupyter-notebook-for-python-4e7082bd5d46\n",
        "\n",
        "Please note, you must **save this notebook in a space owned by you** (a GitHub repo, gist, to Google Drive, or locally) if you want to come back to it later without losing your progress. You can edit and run this notebook on Colab, but it **will not auto save** for you."
      ],
      "metadata": {
        "id": "27JwyOHZ_nLq"
      },
      "id": "27JwyOHZ_nLq"
    },
    {
      "cell_type": "markdown",
      "source": [
        "### <font face=\"Helvetica\" size=\"5\"> Running locally and local runtimes </font>\n",
        "\n",
        "*Ignore this section if you already did these steps for another notebook.*\n",
        "\n",
        "If you choose to use lcoal resources your notebook will use your local packages, so you should install a virtual environment with the following packages. Run the cell below to create a downloadable `.yml` file, to automate the package install process (provided you are using anaconda). Failing that, you can download it from the [git repository](https://github.com/rges-pit/minicourses.git)."
      ],
      "metadata": {
        "id": "TFLRu6Wy_7fr"
      },
      "id": "TFLRu6Wy_7fr"
    },
    {
      "cell_type": "code",
      "source": [
        "# @title `.yml`\n",
        "yaml = '''name: minicourse\n",
        "channels:\n",
        "  - conda-forge\n",
        "dependencies:\n",
        "  - python=3.11\n",
        "  - numpy\n",
        "  - matplotlib\n",
        "  - pandas\n",
        "  - scipy\n",
        "  - jupyter\n",
        "  - ipython\n",
        "  - astropy\n",
        "  - beautifulsoup4\n",
        "  - lxml              # required parser for bs4\n",
        "  - pip\n",
        "  - pip:\n",
        "      - pathos\n",
        "      - MulensModel\n",
        "      - pyLIMA'''\n",
        "\n",
        "# save the yaml\n",
        "with open('environment.yml', 'w') as f:\n",
        "    f.write(yaml)"
      ],
      "metadata": {
        "cellView": "form",
        "id": "xHz-Uuo7AAeG"
      },
      "id": "xHz-Uuo7AAeG",
      "execution_count": null,
      "outputs": []
    },
    {
      "cell_type": "markdown",
      "source": [
        "Click the folder button on the side bar to open the file explorer. The file `environment.yml` should be in there now. Just click the triple dots on the side and then `Download` to download the `.yml` file.\n",
        "\n",
        "```bash\n",
        "conda env create -f environment.yml\n",
        "```\n",
        "\n",
        "Running the above line in a terminal (Anaconda Prompt on Windows) will create a virtual conda environment called `minicourse`, which has the required packages installed.\n",
        "\n",
        "You can activate the environment with:\n",
        "\n",
        "```bash\n",
        "conda activate minicourse\n",
        "```\n",
        "\n",
        "From here you have two options\n",
        "\n",
        "1. You can open the notebook running\n",
        "```bash\n",
        "jupyter notebook\n",
        "```\n",
        "from a parent folder to your locally saved version of this notebook and navigating to the notebook in your browser. You may need to select `minicourse` as your kernel before running the notebook.\n",
        "\n",
        "2. Alternatly, you can create a local \"Runtime\" and for your Colab notebook by following [these instructions](https://www.google.com/url?q=https%3A%2F%2Fresearch.google.com%2Fcolaboratory%2Flocal-runtimes.html).\n",
        "```bash\n",
        "jupyter notebook --NotebookApp.allow_origin='https://colab.research.google.com' --port=8888 --no-browser\n",
        "```\n",
        "\n",
        "  ⚠️ We don't generally recommend that you do this with notebooks that you didn't write as it give them access to your local machine"
      ],
      "metadata": {
        "id": "hE7jicVSAQOc"
      },
      "id": "hE7jicVSAQOc"
    },
    {
      "cell_type": "markdown",
      "source": [
        "<!-- -->"
      ],
      "metadata": {
        "id": "JE3y8M3zBbrP"
      },
      "id": "JE3y8M3zBbrP"
    },
    {
      "cell_type": "markdown",
      "source": [
        "### <font face=\"Helvetica\" size=\"5\"> Clone the rges-pit/minicourses repo </font>\n",
        "\n",
        "Do this weather you are running locally or on the cloud, if you do not already have the repo cloned. It has necessary data."
      ],
      "metadata": {
        "id": "-HMkG6xsBihN"
      },
      "id": "-HMkG6xsBihN"
    },
    {
      "cell_type": "code",
      "source": [
        "# #@title Clone the rges-pit/minicourses repo\n",
        "!git clone https://github.com/rges-pit/minicourses.git"
      ],
      "metadata": {
        "colab": {
          "base_uri": "https://localhost:8080/"
        },
        "id": "pRlGHioBhTob",
        "outputId": "905aae15-abcb-4c4a-8732-2551114e1492"
      },
      "id": "pRlGHioBhTob",
      "execution_count": null,
      "outputs": [
        {
          "output_type": "stream",
          "name": "stdout",
          "text": [
            "Cloning into 'minicourses'...\n",
            "remote: Enumerating objects: 554, done.\u001b[K\n",
            "remote: Counting objects: 100% (71/71), done.\u001b[K\n",
            "remote: Compressing objects: 100% (12/12), done.\u001b[K\n",
            "remote: Total 554 (delta 62), reused 59 (delta 59), pack-reused 483 (from 2)\u001b[K\n",
            "Receiving objects: 100% (554/554), 100.78 MiB | 10.91 MiB/s, done.\n",
            "Resolving deltas: 100% (202/202), done.\n",
            "Updating files: 100% (183/183), done.\n"
          ]
        }
      ]
    },
    {
      "cell_type": "code",
      "source": [
        "!ls -a ./minicourses/\n",
        "%cd minicourses/\n",
        "!git status"
      ],
      "metadata": {
        "colab": {
          "base_uri": "https://localhost:8080/"
        },
        "id": "zAYU8p3ahT2y",
        "outputId": "f240b73f-ac9a-497f-f038-a008e320f9eb"
      },
      "id": "zAYU8p3ahT2y",
      "execution_count": null,
      "outputs": [
        {
          "output_type": "stream",
          "name": "stdout",
          "text": [
            ".   chapter1  chapter3\tchapter5  .gitignore  README.md\n",
            "..  chapter2  chapter4\t.git\t  LICENSE     trials\n",
            "/content/minicourses\n",
            "On branch main\n",
            "Your branch is up to date with 'origin/main'.\n",
            "\n",
            "nothing to commit, working tree clean\n"
          ]
        }
      ]
    },
    {
      "cell_type": "code",
      "source": [
        "!git pull\n",
        "!git status"
      ],
      "metadata": {
        "colab": {
          "base_uri": "https://localhost:8080/"
        },
        "id": "VwAlcxgjhT9l",
        "outputId": "105bdeb8-e42c-4c5b-d723-3745ffb27e94"
      },
      "id": "VwAlcxgjhT9l",
      "execution_count": null,
      "outputs": [
        {
          "output_type": "stream",
          "name": "stdout",
          "text": [
            "Already up to date.\n",
            "On branch main\n",
            "Your branch is up to date with 'origin/main'.\n",
            "\n",
            "nothing to commit, working tree clean\n"
          ]
        }
      ]
    },
    {
      "cell_type": "markdown",
      "id": "c5c1bede-2fd4-4723-a3f7-ad92644270d2",
      "metadata": {
        "id": "c5c1bede-2fd4-4723-a3f7-ad92644270d2"
      },
      "source": [
        "## <font face=\"Helvetica\" size=\"6\"> 1. Introduction </font>\n",
        "\n",
        "<hr style=\"border: 1.5pt solid #a859e4; width: 100%; margin-top: -10px;\">\n",
        "\n",
        "Weolcome to **Chapter 4: Estimating stellar and planetary parameters based on visual inspection**\n",
        "\n",
        "\n"
      ]
    },
    {
      "cell_type": "markdown",
      "id": "29c07dc9-8d69-4acb-8012-62a2d4649695",
      "metadata": {
        "id": "29c07dc9-8d69-4acb-8012-62a2d4649695"
      },
      "source": [
        "This exercise was adapted into a Jupyter Notebook from the exercise from Sagan Summer Exoplanet Workshop 2017, made by Jennifer Yee. See Tuesday's hands-on materials and accompanying worksheet available here: [**link**](https://nexsci.caltech.edu/workshop/2017/handson.shtml)"
      ]
    },
    {
      "cell_type": "markdown",
      "id": "36caa0fe-c240-436f-89be-c74649690ed2",
      "metadata": {
        "id": "36caa0fe-c240-436f-89be-c74649690ed2"
      },
      "source": [
        "We will analyze one of the simplest cases of a microlensing event with a planetary anomaly, which was described in [**Gould & Loeb, 1992**](https://ui.adsabs.harvard.edu/abs/1992ApJ...396..104G/abstract).\n",
        "\n",
        "We make a couple of assumptions here. We are trying to analyze a Gould & Loeb planetary event with a caustic crossing perturbation. In such an event, we assume that there is **no parallax** and **no blending**."
      ]
    },
    {
      "cell_type": "markdown",
      "id": "c983f028-bcb0-4ca3-a225-667f32929ce1",
      "metadata": {
        "id": "c983f028-bcb0-4ca3-a225-667f32929ce1"
      },
      "source": [
        "## <font face=\"Helvetica\" size=\"6\"> 2. Set-up </font>\n",
        "\n",
        "<hr style=\"border: 1.5pt solid #a859e4; width: 100%; margin-top: -10px;\">"
      ]
    },
    {
      "cell_type": "markdown",
      "source": [
        "### <font face=\"Helvetica\" size=\"5\"> 2.1 Load the packages </font>\n",
        "\n",
        "We will start be getting out runtime/kernel set up with all the necessary packages"
      ],
      "metadata": {
        "id": "emODNQa4D_YX"
      },
      "id": "emODNQa4D_YX"
    },
    {
      "cell_type": "code",
      "execution_count": null,
      "id": "5739fa16-c2e4-413b-b6ae-547b041f8f0a",
      "metadata": {
        "id": "5739fa16-c2e4-413b-b6ae-547b041f8f0a"
      },
      "outputs": [],
      "source": [
        "import numpy as np\n",
        "import matplotlib.pyplot as plt\n",
        "\n",
        "# matplitlib widget unfortunately doesn't work with Google Collab :(\n",
        "# %matplotlib widget"
      ]
    },
    {
      "cell_type": "markdown",
      "id": "8982aa9f-51f6-4d2a-88aa-fd3e4a8ad4d4",
      "metadata": {
        "id": "8982aa9f-51f6-4d2a-88aa-fd3e4a8ad4d4"
      },
      "source": [
        "### <font face=\"Helvetica\" size=\"5\"> 2.2 Load the data and display the event </font>"
      ]
    },
    {
      "cell_type": "markdown",
      "id": "0b48f1c6-1684-4675-9aed-da5bd64ac4e4",
      "metadata": {
        "id": "0b48f1c6-1684-4675-9aed-da5bd64ac4e4"
      },
      "source": [
        "Please select a number from 1 to 17. This will load one of the events. If possible, let each person select a different number."
      ]
    },
    {
      "cell_type": "code",
      "execution_count": null,
      "id": "5c28a981-22f8-49dd-b468-a67711705529",
      "metadata": {
        "id": "5c28a981-22f8-49dd-b468-a67711705529"
      },
      "outputs": [],
      "source": [
        "##########################\n",
        "# Put in your number here\n",
        "my_number = 1\n",
        "##########################\n",
        "data = np.loadtxt('chapter4/data/roman_w146_%02d.dat'%my_number)"
      ]
    },
    {
      "cell_type": "markdown",
      "id": "8c9e5750-ae33-4bc6-b81b-5ddf94e4c900",
      "metadata": {
        "id": "8c9e5750-ae33-4bc6-b81b-5ddf94e4c900"
      },
      "source": [
        "Go ahead and zoom in at the features of the event."
      ]
    },
    {
      "cell_type": "code",
      "execution_count": null,
      "id": "712e1fb2-0d43-4c6e-8def-5653d50b5ce2",
      "metadata": {
        "id": "712e1fb2-0d43-4c6e-8def-5653d50b5ce2"
      },
      "outputs": [],
      "source": [
        "#@title Plot the event\n",
        "\n",
        "fig = plt.figure()\n",
        "plt.errorbar(data[:,0], data[:,1], yerr=data[:,2], marker='o', color='black', ls='');\n",
        "plt.gca().invert_yaxis();\n",
        "plt.xlabel('JD');\n",
        "plt.ylabel('F146 [mag]');"
      ]
    },
    {
      "cell_type": "markdown",
      "id": "e7db445f-371e-4d10-9184-5a81ed3eb1a3",
      "metadata": {
        "id": "e7db445f-371e-4d10-9184-5a81ed3eb1a3"
      },
      "source": [
        "## <font face=\"Helvetica\" size=\"6\"> 3. Parameters that we will estimate </font>\n",
        "\n",
        "<hr style=\"border: 1.5pt solid #a859e4; width: 100%; margin-top: -10px;\">"
      ]
    },
    {
      "cell_type": "markdown",
      "id": "c715bb68-c756-4592-b185-7f79b8d8a558",
      "metadata": {
        "id": "c715bb68-c756-4592-b185-7f79b8d8a558"
      },
      "source": [
        "Let's have a quick reminder about the main parameters that characterize a microlensing event. We will use this plot from [**Khakpash et al. 2019**](https://ui.adsabs.harvard.edu/abs/2019AJ....158....9K/abstract):\n",
        "\n",
        "<center><img src=\"https://github.com/rges-pit/minicourses/blob/main/chapter4/images/Khakpash_2019_parameters.png?raw=true\" width=\"500\"/></center>\n",
        "<center>Plot from Khakpash et al. 2019, Figure 1.</center>\n",
        "\n",
        "This plot's y-axis is in **magnification**, instead of magnitudes or fluxes. Then the event's amplitude will be the maximum magnification, $A_\\text{max}$. Time of peak $t_0$, or time of closest approach, will be the time when magnification reaches $A_\\text{max}$. Then, the time of planetary anomaly $t_\\text{p}$ will be the time when the anomaly is occuring. The timescale of the anomaly, $t_\\text{E,p}$, is half of the time of the duration of the planetary anomaly, while the Einstein timescale $t_\\text{E}$ will be half of the duration of when the event's magnification is larger than $A=1.34$."
      ]
    },
    {
      "cell_type": "markdown",
      "id": "9674fcd2-6d38-48ad-818b-736357688401",
      "metadata": {
        "id": "9674fcd2-6d38-48ad-818b-736357688401"
      },
      "source": [
        "Now let's talk about the other event parameters. You should be familiar with the source radius scaled in Einstein radii, $\\rho$, from the Chapter 3 lecture on the finite source effect. Below, we present an illustration of parameters connected to the binary lens model: planet-star separation $s$ and the angle of the source trajectory $\\alpha$.\n",
        "\n",
        "<center><img src=\"https://github.com/rges-pit/minicourses/blob/main/chapter4/images/Yee_sagan_planet_params.png?raw=true\" width=\"500\"/></center>\n",
        "<center>Plot from Jennifer Yee's presentation during the Sagan Exoplanet Workshop 2017 for this exercise.</center>\n",
        "\n",
        "The final parameter connected to the binary lens we will need to define is the mass ratio $q$, which is defined as:\n",
        "\n",
        "$q = \\frac{M_\\text{planet}}{M_\\text{source}}$"
      ]
    },
    {
      "cell_type": "markdown",
      "id": "c570ab5c-feb3-4f6c-9061-6e8ed08834d7",
      "metadata": {
        "id": "c570ab5c-feb3-4f6c-9061-6e8ed08834d7"
      },
      "source": [
        "## <font face=\"Helvetica\" size=\"6\"> 4. Parameters of the stellar event </font>\n",
        "\n",
        "<hr style=\"border: 1.5pt solid #a859e4; width: 100%; margin-top: -10px;\">"
      ]
    },
    {
      "cell_type": "markdown",
      "id": "19571761-a084-4412-8d21-8fece7fc2acd",
      "metadata": {
        "id": "19571761-a084-4412-8d21-8fece7fc2acd"
      },
      "source": [
        "First, we will determine the parameters of the stellar events, ignoring the planetary anomaly."
      ]
    },
    {
      "cell_type": "code",
      "execution_count": null,
      "id": "36cd8a90-1ec9-49be-8ee6-27ac2ebea41d",
      "metadata": {
        "id": "36cd8a90-1ec9-49be-8ee6-27ac2ebea41d"
      },
      "outputs": [],
      "source": [
        "fig = plt.figure()\n",
        "plt.errorbar(data[:,0], data[:,1], yerr=data[:,2], marker='o', color='black', ls='');\n",
        "plt.gca().invert_yaxis();\n",
        "plt.xlabel('JD');\n",
        "plt.ylabel('mag');\n",
        "\n",
        "## You can use the vertical and horizontal lines to find the values of the parameter\n",
        "plt.axvline(x=2460000.);\n",
        "plt.axhline(y=20.9);"
      ]
    },
    {
      "cell_type": "markdown",
      "id": "bbfc3597-ac14-405b-9c5b-d3db9a967cbf",
      "metadata": {
        "id": "bbfc3597-ac14-405b-9c5b-d3db9a967cbf"
      },
      "source": [
        "We have to determine several parameters:\n",
        "- t_0 is the time of the peak of the main event,\n",
        "- mag_0 is the magnitude of the event at baseline,\n",
        "- delta_mag_max is the amplitude between the baseline and the main event's peak,\n",
        "- A_max is the amplification at the peak of the main event,\n",
        "- u_0 is the impact parameter at the peak of the main event.\n",
        "\n",
        "Use the plot above to find those values. You can help yourself with the vertical and horizontal lines, by editing their positions."
      ]
    },
    {
      "cell_type": "code",
      "execution_count": null,
      "id": "4b8b2aee-59fa-4d6d-9ce1-2fd668f9292b",
      "metadata": {
        "id": "4b8b2aee-59fa-4d6d-9ce1-2fd668f9292b"
      },
      "outputs": [],
      "source": [
        "# Time of the peak of the event\n",
        "t_0 =\n",
        "\n",
        "# Baseline magnitude\n",
        "mag_0 =\n",
        "\n",
        "# Change in magnitude\n",
        "delta_mag_max =\n",
        "\n",
        "# Maximum magnification\n",
        "A_max =\n",
        "\n",
        "# Impact parameter\n",
        "u_0 ="
      ]
    },
    {
      "cell_type": "markdown",
      "id": "f7ae8d7e-719d-4084-b1f8-8c64a654cbc5",
      "metadata": {
        "id": "f7ae8d7e-719d-4084-b1f8-8c64a654cbc5"
      },
      "source": [
        "Now, we'd like to determine the Einstein timescale, t_E.\n",
        "\n",
        "First, you have to find what the amplitude is when the amplification A is equal to 1.34. That is when the source is at the Einstein radius $\\theta_E$.\n",
        "\n",
        "Once you found the amplitude delta_mag at $A=1.34$, you can use the plot above to find the time when this amplitude is reached. Then, you can subtract that value from the time of peak and get the Einstein timescale, t_E."
      ]
    },
    {
      "cell_type": "code",
      "execution_count": null,
      "id": "31411d9b-86e1-431d-812e-28efc1d6577c",
      "metadata": {
        "id": "31411d9b-86e1-431d-812e-28efc1d6577c"
      },
      "outputs": [],
      "source": [
        "# Change in magnitude for A = 1.34\n",
        "delta_mag =\n",
        "# Time at delta_mag\n",
        "t =\n",
        "# Einstein timescale\n",
        "t_E = np.abs(t_0 - t)"
      ]
    },
    {
      "cell_type": "markdown",
      "id": "419898c1-1155-409e-8d31-f3bfa1f76aab",
      "metadata": {
        "id": "419898c1-1155-409e-8d31-f3bfa1f76aab"
      },
      "source": [
        "## <font face=\"Helvetica\" size=\"6\"> 5. Parameters of the planet </font>\n",
        "\n",
        "<hr style=\"border: 1.5pt solid #a859e4; width: 100%; margin-top: -10px;\">  "
      ]
    },
    {
      "cell_type": "markdown",
      "id": "9763e9c5-dc22-4d0a-b516-926f7beae3e2",
      "metadata": {
        "id": "9763e9c5-dc22-4d0a-b516-926f7beae3e2"
      },
      "source": [
        "Now we will focus on the planetary anomaly."
      ]
    },
    {
      "cell_type": "code",
      "execution_count": null,
      "id": "cf4cbef8-1d17-4086-957a-d4d03b60ff90",
      "metadata": {
        "id": "cf4cbef8-1d17-4086-957a-d4d03b60ff90"
      },
      "outputs": [],
      "source": [
        "fig = plt.figure()\n",
        "plt.errorbar(data[:,0], data[:,1], yerr=data[:,2], marker='o', color='black', ls='');\n",
        "plt.gca().invert_yaxis();\n",
        "plt.xlabel('JD');\n",
        "plt.ylabel('mag');\n",
        "\n",
        "## You can use the vertical and horizontal lines to find the values of the parameter\n",
        "plt.axvline(x=2460900.);\n",
        "plt.axhline(y=20.5);"
      ]
    },
    {
      "cell_type": "markdown",
      "id": "73657e4f-11eb-4a55-8b8e-5c5c3aa359a6",
      "metadata": {
        "id": "73657e4f-11eb-4a55-8b8e-5c5c3aa359a6"
      },
      "source": [
        "### <font face=\"Helvetica\" size=\"5\"> 5.1 Where is the planet? </font>"
      ]
    },
    {
      "cell_type": "markdown",
      "id": "582e32a6-742a-40c2-b0af-637c4ecd7c7c",
      "metadata": {
        "id": "582e32a6-742a-40c2-b0af-637c4ecd7c7c"
      },
      "source": [
        "First we have to find t_planet, the time when the planetary anomaly occurs. Use the plot above to determine that."
      ]
    },
    {
      "cell_type": "code",
      "execution_count": null,
      "id": "f309d67e-9191-41b4-bcd6-591d91a72c42",
      "metadata": {
        "id": "f309d67e-9191-41b4-bcd6-591d91a72c42"
      },
      "outputs": [],
      "source": [
        "# Time of the planet perturbation\n",
        "t_planet ="
      ]
    },
    {
      "cell_type": "markdown",
      "id": "eef3e70a-c069-4c94-9c37-26551e6c3736",
      "metadata": {
        "id": "eef3e70a-c069-4c94-9c37-26551e6c3736"
      },
      "source": [
        "Now, based on the information gained above we can find the position of the images."
      ]
    },
    {
      "cell_type": "code",
      "execution_count": null,
      "id": "8c243193-a009-44e5-8bc8-7e63df7278fe",
      "metadata": {
        "id": "8c243193-a009-44e5-8bc8-7e63df7278fe"
      },
      "outputs": [],
      "source": [
        "# Time scaled to the Einsein timescale\n",
        "tau = np.abs(t_planet - t_0) / t_E\n",
        "\n",
        "# source-lens separation\n",
        "u = np.sqrt(u_0**2 + tau**2)\n",
        "\n",
        "# Position of the images\n",
        "y_plus = 0.5 * np.sqrt(u**2 + 4.) + u\n",
        "y_minus = 0.5 * np.sqrt(u**2 + 4.) - u"
      ]
    },
    {
      "cell_type": "markdown",
      "id": "f347f728-f707-4e1b-af3e-09f75f811adc",
      "metadata": {
        "id": "f347f728-f707-4e1b-af3e-09f75f811adc"
      },
      "source": [
        "### <font face=\"Helvetica\" size=\"5\"> 5.2 Find planet-star separation and the angle of the source trajectory </font>"
      ]
    },
    {
      "cell_type": "markdown",
      "id": "a1e1ebab-9d17-4879-b8fd-1dea6629eb27",
      "metadata": {
        "id": "a1e1ebab-9d17-4879-b8fd-1dea6629eb27"
      },
      "source": [
        "To find the planet-star separation, we have to determine whether minor or major images are perturbed."
      ]
    },
    {
      "cell_type": "markdown",
      "id": "57cb7cf6-81bf-4121-941d-6b45de70d9d3",
      "metadata": {
        "id": "57cb7cf6-81bf-4121-941d-6b45de70d9d3"
      },
      "source": [
        "- Minor image perturbation occurs when there is a dip in the light curve during a planetary anomaly.\n",
        "\n",
        "If the minor image is perturbed: $s = y_-$.\n",
        "\n",
        "<center><img src=\"https://github.com/rges-pit/minicourses/blob/main//chapter4/images/Yee_sagan_minor_pert.png?raw=true\" width=\"500\"/></center>\n",
        "<center>Minor image perturbation light curve, plot from Jennifer Yee's presentation during the Sagan Exoplanet Workshop 2017 for this exercise.</center>"
      ]
    },
    {
      "cell_type": "markdown",
      "id": "f68b5aa8-aff2-454c-843d-8a5d33d303bf",
      "metadata": {
        "id": "f68b5aa8-aff2-454c-843d-8a5d33d303bf"
      },
      "source": [
        "- Major image perturbation occurs when there is a bump in the light curve during a planetary anomaly.\n",
        "\n",
        "If the major image is perturbed: $s = y_+$\n",
        "\n",
        "<center><img src=\"https://github.com/rges-pit/minicourses/blob/main/chapter4/images/Yee_sagan_major_pert.png?raw=true\" width=\"500\"/></center>\n",
        "<center>Major image perturbation light curve, plot from Jennifer Yee's presentation during the Sagan Exoplanet Workshop 2017 for this exercise.</center>\n",
        "\n"
      ]
    },
    {
      "cell_type": "markdown",
      "id": "39735413-b99d-46a0-b114-725d5acac9a0",
      "metadata": {
        "id": "39735413-b99d-46a0-b114-725d5acac9a0"
      },
      "source": [
        "⚠️ If your bump has a little dip that doesn't go back to the level of the main event, it would still be a major image perturbation rather than a minor image perturbation. The dip between two peaks can occur when the source is travelling inside the major image caustic."
      ]
    },
    {
      "cell_type": "code",
      "execution_count": null,
      "id": "2d8afd1e-dd7e-4e8e-bf65-ca41a8309ab2",
      "metadata": {
        "id": "2d8afd1e-dd7e-4e8e-bf65-ca41a8309ab2"
      },
      "outputs": [],
      "source": [
        "# planet-star separation\n",
        "s ="
      ]
    },
    {
      "cell_type": "markdown",
      "id": "742634d6-b647-4d95-bca7-bdfb6eecd3c3",
      "metadata": {
        "id": "742634d6-b647-4d95-bca7-bdfb6eecd3c3"
      },
      "source": [
        "Now we can find the value of the angle of the source trajectory, alpha, using values we determined earlier. Due to different geometric conventions, the correct value might be $\\frac{\\pi}{2}$ or $\\pi$ away from the value you calculated."
      ]
    },
    {
      "cell_type": "code",
      "execution_count": null,
      "id": "b8ebde08-9b37-41fd-a07d-aff6901ba5e4",
      "metadata": {
        "id": "b8ebde08-9b37-41fd-a07d-aff6901ba5e4"
      },
      "outputs": [],
      "source": [
        "# angle between trajectory and binary axis\n",
        "alpha = np.atan(u_0 / tau)"
      ]
    },
    {
      "cell_type": "markdown",
      "id": "4ea288c5-7cc7-4166-b4e8-74be6720a112",
      "metadata": {
        "id": "4ea288c5-7cc7-4166-b4e8-74be6720a112"
      },
      "source": [
        "### <font face=\"Helvetica\" size=\"5\"> 5.3 Find  source radius and planet-star mass ratio </font>"
      ]
    },
    {
      "cell_type": "markdown",
      "id": "4bfa738d-a23b-4e4a-9f64-22d527a0fcef",
      "metadata": {
        "id": "4bfa738d-a23b-4e4a-9f64-22d527a0fcef"
      },
      "source": [
        "Finding the planet-mass ratio and source radius depends on the event regime. First, you have to identify to which regime your event belongs.\n",
        "\n",
        "If your event has a minor image perturbation, move to the [**Minor**](####-Minor-image,-rho-<-caustic) section.\n",
        "\n",
        "If your event has a major image perturbation, you have to determine whether the source radius is larger or smaller than the caustic.\n",
        "- If there are two distinct peaks, move to the [**Major, $\\rho$< caustic**](####-Major-image,-rho-<-caustic) section.\n",
        "- If there are no dips and the peaks are merged, move to the [**Major, $\\rho$> caustic**](####-Major-image,-rho->-caustic) section."
      ]
    },
    {
      "cell_type": "markdown",
      "id": "465b90b6-3c7c-4c1e-a30f-8c063d826acd",
      "metadata": {
        "id": "465b90b6-3c7c-4c1e-a30f-8c063d826acd"
      },
      "source": [
        "<center><img src=\"https://github.com/rges-pit/minicourses/blob/main/chapter4/images/Yee_sagan_regimes.png?raw=true\" width=\"500\"/></center>\n",
        "<center>Three regimes, this figure comes from Jennifer Yee's presentation for this exercise at the Sagan Summer Exoplanet Workshop 2017.</center>"
      ]
    },
    {
      "cell_type": "markdown",
      "id": "d42d926d-9811-441b-9815-443d57f0f93b",
      "metadata": {
        "id": "d42d926d-9811-441b-9815-443d57f0f93b"
      },
      "source": [
        "#### <font face=\"Helvetica\" size=\"4\"> Minor image, $\\rho$ < caustic </font>"
      ]
    },
    {
      "cell_type": "markdown",
      "id": "fe8ffdc0-ac54-4d02-9a53-ba8c5b3c564c",
      "metadata": {
        "id": "fe8ffdc0-ac54-4d02-9a53-ba8c5b3c564c"
      },
      "source": [
        "In this case, there is a dip in your light curve. $\\rho$ is smaller than the caustic.\n",
        "We will follow [**Han, 2006**](https://ui.adsabs.harvard.edu/abs/2006ApJ...638.1080H/abstract).\n",
        "Look at Figure 2 from this paper. This is how the caustics look in your case.\n",
        "\n",
        "<center><img src=\"https://github.com/rges-pit/minicourses/blob/main/chapter4/images/Han_2006_minor.png?raw=true\" width=\"500\"/></center>\n",
        "<center>Minor image perturbation caustics, Han, 2006, Figure 2.</center>\n",
        "\n",
        "The minor image caustic is shaped like two triangles.\n",
        "\n",
        "You will have to now estimate the path of the source through the caustic(s). Use the alpha angle you determined earlier and the features in the light curve.\n",
        "- How many caustic crossings are there? They manifest as sharp spikes in magnitude.\n",
        "- Where is the dip? How long does it last?"
      ]
    },
    {
      "cell_type": "markdown",
      "id": "c6ad9d4c-81f7-4c46-acec-0d1c368166c3",
      "metadata": {
        "id": "c6ad9d4c-81f7-4c46-acec-0d1c368166c3"
      },
      "source": [
        "First, we will find the source radius in Einstein radii.\n",
        "We have to estimate the duration of the caustic crossing feature in the light curve.\n",
        "If there's more than one, focus on one of them."
      ]
    },
    {
      "cell_type": "code",
      "execution_count": null,
      "id": "8bdd8048-12f2-4e2f-8069-ddb169281bfa",
      "metadata": {
        "id": "8bdd8048-12f2-4e2f-8069-ddb169281bfa"
      },
      "outputs": [],
      "source": [
        "fig = plt.figure()\n",
        "plt.errorbar(data[:,0], data[:,1], yerr=data[:,2], marker='o', color='black', ls='');\n",
        "plt.gca().invert_yaxis();\n",
        "plt.xlabel('JD');\n",
        "plt.ylabel('mag');\n",
        "\n",
        "## You can use vertical lines to find the values of the parameter\n",
        "plt.axvline(x=2460000.);\n",
        "plt.axvline(x=2460050.);"
      ]
    },
    {
      "cell_type": "code",
      "execution_count": null,
      "id": "6e8fb470-6d91-441d-83a2-c44abfb47946",
      "metadata": {
        "id": "6e8fb470-6d91-441d-83a2-c44abfb47946"
      },
      "outputs": [],
      "source": [
        "# length of one caustic feature\n",
        "delta_t_caustic = 0. # Time it takes the source to cross the caustic\n",
        "t_star = delta_t_caustic / 2.\n",
        "\n",
        "# Now we can determine rho\n",
        "rho = t_star / t_E"
      ]
    },
    {
      "cell_type": "markdown",
      "id": "70848aa8-20cf-47f1-8c18-3f3abc99987b",
      "metadata": {
        "id": "70848aa8-20cf-47f1-8c18-3f3abc99987b"
      },
      "source": [
        "Now we will find the planet-star mass ratio, q. We will use the simplified equation (equation number 4 from the [**Handy equations**](###-Handy-equations) section).\n",
        "\n",
        "Have a look at the length of the anomaly in the light curve. It occurs when the source is travelling between the two caustic triangles."
      ]
    },
    {
      "cell_type": "code",
      "execution_count": null,
      "id": "44cd7f54-44b8-452d-8f76-867cc6b18d71",
      "metadata": {
        "id": "44cd7f54-44b8-452d-8f76-867cc6b18d71"
      },
      "outputs": [],
      "source": [
        "fig = plt.figure()\n",
        "plt.errorbar(data[:,0], data[:,1], yerr=data[:,2], marker='o', color='black', ls='');\n",
        "plt.gca().invert_yaxis();\n",
        "plt.xlabel('JD');\n",
        "plt.ylabel('mag');\n",
        "\n",
        "## You can use vertical lines to find the values of the parameter\n",
        "plt.axvline(x=2460000.);\n",
        "plt.axvline(x=2460050.);"
      ]
    },
    {
      "cell_type": "code",
      "execution_count": null,
      "id": "2701351f-5e43-4cc1-827a-03e0822fa4a4",
      "metadata": {
        "id": "2701351f-5e43-4cc1-827a-03e0822fa4a4"
      },
      "outputs": [],
      "source": [
        "# Length of the anomaly\n",
        "delta_tau =\n",
        "\n",
        "# You will have to transform the equations provided a little bit. Put the calculations below.\n",
        "\n",
        "\n",
        "\n",
        "# Finally, mass ratio q is:\n",
        "q ="
      ]
    },
    {
      "cell_type": "markdown",
      "id": "94c6db82-259a-4c06-a951-e8ea551371ab",
      "metadata": {
        "id": "94c6db82-259a-4c06-a951-e8ea551371ab"
      },
      "source": [
        "#### <font face=\"Helvetica\" size=\"4\"> Major image, $\\rho$ < caustic </font>"
      ]
    },
    {
      "cell_type": "markdown",
      "id": "ef9458a4-55f4-41e3-aee4-82abe1d9f0ef",
      "metadata": {
        "id": "ef9458a4-55f4-41e3-aee4-82abe1d9f0ef"
      },
      "source": [
        "In this case, there are distinct peaks in your light curve. $\\rho$ is smaller than the caustic.\n",
        "We will follow [**Han, 2006**](https://ui.adsabs.harvard.edu/abs/2006ApJ...638.1080H/abstract).\n",
        "Look at Figure 1 from this paper. This is how the caustic looks in your case.\n",
        "\n",
        "<center><img src=\"https://github.com/rges-pit/minicourses/blob/main/chapter4/images/Han_2006_major.png?raw=true\" width=\"500\"/></center>\n",
        "<center>Major image perturbation caustics, Han, 2006, Figure 1.</center>\n",
        "\n",
        "The major image caustic is shaped like a diamond.\n",
        "\n",
        "You will have to now estimate the path of the source through the caustic. Use the alpha angle you determined earlier, as well as the features in the light curve.\n",
        "- How many caustic crossings are there? They manifest as sharp spikes in magnitude."
      ]
    },
    {
      "cell_type": "markdown",
      "id": "c27cefca-b5f7-4b70-ad44-9185d6fd5f72",
      "metadata": {
        "id": "c27cefca-b5f7-4b70-ad44-9185d6fd5f72"
      },
      "source": [
        "First, we will find the source radius in Einstein radii.\n",
        "We have to estimate the duration of the caustic crossing feature in the light curve.\n",
        "If there's more than one, focus on one of them."
      ]
    },
    {
      "cell_type": "code",
      "execution_count": null,
      "id": "f5419038-7fcc-47d7-b75a-471c47577725",
      "metadata": {
        "id": "f5419038-7fcc-47d7-b75a-471c47577725"
      },
      "outputs": [],
      "source": [
        "fig = plt.figure()\n",
        "plt.errorbar(data[:,0], data[:,1], yerr=data[:,2], marker='o', color='black', ls='');\n",
        "plt.gca().invert_yaxis();\n",
        "plt.xlabel('JD');\n",
        "plt.ylabel('mag');\n",
        "\n",
        "## You can use vertical lines to find the values of the parameter\n",
        "plt.axvline(x=2460000.);\n",
        "plt.axvline(x=2460050.);"
      ]
    },
    {
      "cell_type": "code",
      "execution_count": null,
      "id": "ccc3fe89-204a-4acd-ac0b-108d0bcc8aca",
      "metadata": {
        "id": "ccc3fe89-204a-4acd-ac0b-108d0bcc8aca"
      },
      "outputs": [],
      "source": [
        "# Length of one caustic feature\n",
        "# Time it takes the source to cross the caustic\n",
        "delta_t_caustic =\n",
        "\n",
        "t_star = delta_t_caustic / 2.\n",
        "\n",
        "# Now we can determine rho\n",
        "rho = t_star / t_E"
      ]
    },
    {
      "cell_type": "markdown",
      "id": "365953cc-44f2-4487-a1ea-05c0b18e440e",
      "metadata": {
        "id": "365953cc-44f2-4487-a1ea-05c0b18e440e"
      },
      "source": [
        "Now we will find the planet-star mass ratio, q. We will use the simplified equation (equation number 4 from the [**Handy equations**](###-Handy-equations) section).\n",
        "\n",
        "Have a look at the length of the anomaly in the light curve. It occurs when the source is travelling through the inside of the diamond."
      ]
    },
    {
      "cell_type": "code",
      "execution_count": null,
      "id": "38198651-f167-4c61-b636-c34aacc28d41",
      "metadata": {
        "id": "38198651-f167-4c61-b636-c34aacc28d41"
      },
      "outputs": [],
      "source": [
        "fig = plt.figure()\n",
        "plt.errorbar(data[:,0], data[:,1], yerr=data[:,2], marker='o', color='black', ls='');\n",
        "plt.gca().invert_yaxis();\n",
        "plt.xlabel('JD');\n",
        "plt.ylabel('mag');\n",
        "\n",
        "## You can use vertical lines to find the values of the parameter\n",
        "plt.axvline(x=2460000.);\n",
        "plt.axvline(x=2460050.);"
      ]
    },
    {
      "cell_type": "code",
      "execution_count": null,
      "id": "831199cf-d934-4b16-bb0c-237117aa4821",
      "metadata": {
        "id": "831199cf-d934-4b16-bb0c-237117aa4821"
      },
      "outputs": [],
      "source": [
        "# Length of the anomaly\n",
        "delta_tau =\n",
        "\n",
        "# You will have to transform the equations provided a little bit. Put the calculations below.\n",
        "\n",
        "\n",
        "\n",
        "# Finally, mass ratio q is:\n",
        "q ="
      ]
    },
    {
      "cell_type": "markdown",
      "id": "c9dbd3c3-4f4a-4a06-991a-303e9bbad383",
      "metadata": {
        "id": "c9dbd3c3-4f4a-4a06-991a-303e9bbad383"
      },
      "source": [
        "#### <font face=\"Helvetica\" size=\"5\"> Major image, $\\rho$ > caustic </font>"
      ]
    },
    {
      "cell_type": "markdown",
      "id": "dc341586-ade7-44fe-bf6c-7a4a73cee72e",
      "metadata": {
        "id": "dc341586-ade7-44fe-bf6c-7a4a73cee72e"
      },
      "source": [
        "In this case, the peaks are merged in your light curve, and there are no dips. $\\rho$ is larger than the caustic.\n",
        "We will follow [**Gould & Gaucherel, 1997**](https://ui.adsabs.harvard.edu/abs/1997ApJ...477..580G/abstract).\n",
        "Look at Figure 1 from this paper. This is how the caustic looks in your case.\n",
        "\n",
        "<center><img src=\"https://github.com/rges-pit/minicourses/blob/main/chapter4/images/Gould_Gaucherel_1997.png?raw=true\" width=\"500\"/></center>\n",
        "<center>Major image perturbation caustic, Gould & Gaucherel, 1997, Figure 1.</center>\n",
        "\n",
        "The major image caustic is shaped like a diamond, but the source is large compared to it, and caustic entry and exit peaks merge.\n",
        "\n",
        "You will have to now estimate the change in the magnitude for the caustic, delta_mag_c. This is the \"height\" of the bump in the light curve in magnitudes. You count the \"height\" from the main event light curve."
      ]
    },
    {
      "cell_type": "code",
      "execution_count": null,
      "id": "a4ccc890-5417-4fec-b5d2-bf5776eae037",
      "metadata": {
        "id": "a4ccc890-5417-4fec-b5d2-bf5776eae037"
      },
      "outputs": [],
      "source": [
        "# Change in the magnitude for the caustic\n",
        "delta_mag_c ="
      ]
    },
    {
      "cell_type": "markdown",
      "id": "ca34ac70-ac2f-4a43-8b7d-ed58c8db17a9",
      "metadata": {
        "id": "ca34ac70-ac2f-4a43-8b7d-ed58c8db17a9"
      },
      "source": [
        "Based on delta_mag_c you can now find the amplification during the planetary anomaly, A_p."
      ]
    },
    {
      "cell_type": "code",
      "execution_count": null,
      "id": "fb426370-6cb6-4840-8ee4-5ac1e8f1fbb6",
      "metadata": {
        "id": "fb426370-6cb6-4840-8ee4-5ac1e8f1fbb6"
      },
      "outputs": [],
      "source": [
        "# Insert the formula for magnification\n",
        "A_p ="
      ]
    },
    {
      "cell_type": "markdown",
      "id": "ec2de3bd-e347-46ee-be6c-6a9c2338cee7",
      "metadata": {
        "id": "ec2de3bd-e347-46ee-be6c-6a9c2338cee7"
      },
      "source": [
        "Finally, we can use this equation from [**Gould & Gaucherel, 1997**](https://ui.adsabs.harvard.edu/abs/1997ApJ...477..580G/abstract) to determine the mass ratio q:\n",
        "\n",
        "$A_p = \\frac{2q}{\\rho^2}$"
      ]
    },
    {
      "cell_type": "code",
      "execution_count": null,
      "id": "e73e1a26-6865-4e8d-9a5f-ceb9d9cd8f51",
      "metadata": {
        "id": "e73e1a26-6865-4e8d-9a5f-ceb9d9cd8f51"
      },
      "outputs": [],
      "source": [
        "# Insert formula for mass ratio q\n",
        "q ="
      ]
    },
    {
      "cell_type": "markdown",
      "id": "eacb6cce-b3a0-4dbc-a6fc-3535f46b897b",
      "metadata": {
        "id": "eacb6cce-b3a0-4dbc-a6fc-3535f46b897b"
      },
      "source": [
        "## <font face=\"Helvetica\" size=\"6\"> 6. Summary </font>\n",
        "\n",
        "<hr style=\"border: 1.5pt solid #a859e4; width: 100%; margin-top: -10px;\">"
      ]
    },
    {
      "cell_type": "markdown",
      "id": "97555e67-183a-4624-90a0-1428c95402ac",
      "metadata": {
        "id": "97555e67-183a-4624-90a0-1428c95402ac"
      },
      "source": [
        "Let's display all the found parameters. We will show some of them in logarithmic form since this is a notation you can encounter in many papers.\n",
        "\n",
        "Some of parameters, such as Einstein timescale $t_E$, source radius $\\rho$, separation $s$ and mass ratio $q$ are easier to probe in log space, so have that in mind when you'll be tackling some of the events in the future."
      ]
    },
    {
      "cell_type": "code",
      "execution_count": null,
      "id": "c7498387-e50e-4426-9480-00c10f7fd749",
      "metadata": {
        "id": "c7498387-e50e-4426-9480-00c10f7fd749"
      },
      "outputs": [],
      "source": [
        "params = [t_0, u_0, t_E, rho, s, q, alpha]\n",
        "params_labels = ['t_0', 'u_0', 't_E',\n",
        "                 'rho', 's', 'q', 'alpha']\n",
        "log_params = [t_0, u_0, np.log10(t_E), np.log10(rho), np.log10(s), np.log10(q), alpha]\n",
        "log_params_labels = ['t_0', 'u_0', 'log_{10}(t_E)',\n",
        "                     'log_{10}(rho)', 'log_{10}(s)', 'log_{10}(q)', 'alpha']\n",
        "\n",
        "\n",
        "print('Your event parameters:')\n",
        "for i in range(len(params)):\n",
        "    print('%s = %.3f'%(params_labels[i], params[i]))\n",
        "\n",
        "print('\\nYour event parameters (log-space):')\n",
        "for i in range(len(params)):\n",
        "    print('%s = %.3f'%(log_params_labels[i], log_params[i]))"
      ]
    },
    {
      "cell_type": "markdown",
      "id": "2130e681-e17e-41f6-8ac4-ffe75f375274",
      "metadata": {
        "id": "2130e681-e17e-41f6-8ac4-ffe75f375274"
      },
      "source": [
        "## <font face=\"Helvetica\" size=\"6\"> A. Handy equations </font>\n",
        "\n",
        "<hr style=\"border: 1.5pt solid #a859e4; width: 100%; margin-top: -10px;\">"
      ]
    },
    {
      "cell_type": "markdown",
      "id": "878b5815-a0cf-4b4d-8f54-43391a5cb72a",
      "metadata": {
        "id": "878b5815-a0cf-4b4d-8f54-43391a5cb72a"
      },
      "source": [
        "### 1. Magnitude and amplification\n",
        "\n",
        "$m_1 - m_2 = -2.5 log_{10}(\\frac{f_1}{f_2}) \\approx -2.5 log_{10}(A)$"
      ]
    },
    {
      "cell_type": "markdown",
      "id": "11e2ee67-f170-45a8-8c35-dd245cd86414",
      "metadata": {
        "id": "11e2ee67-f170-45a8-8c35-dd245cd86414"
      },
      "source": [
        "### 2. Amplification and impact parameter\n",
        "\n",
        "$A = \\frac{u^2 + 2}{u\\sqrt{u^2 + 4}} \\approx \\frac{1}{u}$\n",
        "\n",
        "Approximation assumes $u << 1$."
      ]
    },
    {
      "cell_type": "markdown",
      "id": "354d12c7-5429-4a1d-8ba5-cf84e9c69f0d",
      "metadata": {
        "id": "354d12c7-5429-4a1d-8ba5-cf84e9c69f0d"
      },
      "source": [
        "### 3. Impact parameter at any given time\n",
        "\n",
        "$u = \\sqrt{(\\frac{t-t_0}{t_E})^2 + u_0^2}$"
      ]
    },
    {
      "cell_type": "markdown",
      "id": "cc233592-2dac-494c-bb57-45ac8ad8af4a",
      "metadata": {
        "id": "cc233592-2dac-494c-bb57-45ac8ad8af4a"
      },
      "source": [
        "### 4. Time of planetary anomaly and mass ratio\n",
        "\n",
        "$t_\\text{E, planet} = t_\\text{E}\\sqrt{\\rho^2 + q^2}$,\n",
        "\n",
        "$t_\\text{E, planet} = \\frac{1}{2}\\Delta t_\\text{planet}$"
      ]
    },
    {
      "cell_type": "code",
      "execution_count": null,
      "id": "08cb9b40-5245-401f-8014-df771cc131d5",
      "metadata": {
        "id": "08cb9b40-5245-401f-8014-df771cc131d5"
      },
      "outputs": [],
      "source": []
    }
  ],
  "metadata": {
    "kernelspec": {
      "display_name": "Python 3 (ipykernel)",
      "language": "python",
      "name": "python3"
    },
    "language_info": {
      "codemirror_mode": {
        "name": "ipython",
        "version": 3
      },
      "file_extension": ".py",
      "mimetype": "text/x-python",
      "name": "python",
      "nbconvert_exporter": "python",
      "pygments_lexer": "ipython3",
      "version": "3.11.12"
    },
    "colab": {
      "provenance": [],
      "toc_visible": true
    }
  },
  "nbformat": 4,
  "nbformat_minor": 5
}