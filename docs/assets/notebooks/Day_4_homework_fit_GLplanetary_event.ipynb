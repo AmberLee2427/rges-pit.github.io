{
  "cells": [
    {
      "cell_type": "markdown",
      "source": [
        "<a href=\"https://colab.research.google.com/github/rges-pit/minicourses/blob/main/chapter4/extra_material/Day_4_homework_fit_GLplanetary_event.ipynb\" target=\"_parent\"><img src=\"https://colab.research.google.com/assets/colab-badge.svg\" alt=\"Open In Colab\"/></a>"
      ],
      "metadata": {
        "id": "P4LClqsQocV8"
      },
      "id": "P4LClqsQocV8"
    },
    {
      "cell_type": "markdown",
      "source": [
        "# <font face=\"Helvetica\" size=\"7\"> Chapter 4: Binary-lens fitting </font>  \n",
        "\n",
        "<hr style=\"border: 1.5pt solid #a859e4; width: 100%; margin-top: -10px;\">\n",
        "\n",
        "<i> Authors: Katarzyna Kruszyńska, Amber Malpas, Etienne Bachelet, Somayeh Khakpash, Ali Crisp </i>\n",
        "\n",
        "<br>\n",
        "\n",
        "> <font face=\"Helvetica\" size=\"5\"> **!! WARNING !!**\n",
        ">\n",
        "> Work in progress! This notebook doesn't function as intended at the time of writing this comment!\n",
        "\n",
        "<br>\n",
        "\n",
        "If you would like an introduction to python notebooks, please read this tutorial: https://medium.com/codingthesmartway-com-blog/getting-started-with-jupyter-notebook-for-python-4e7082bd5d46\n",
        "\n",
        "Please note, you must **save this notebook in a space owned by you** (a GitHub repo, gist, to Google Drive, or locally) if you want to come back to it later without losing your progress. You can edit and run this notebook on Colab, but it **will not auto save** for you."
      ],
      "metadata": {
        "id": "usM69JMdGliQ"
      },
      "id": "usM69JMdGliQ"
    },
    {
      "cell_type": "markdown",
      "source": [
        "### <font face=\"Helvetica\" size=\"5\"> Running locally and local runtimes </font>\n",
        "\n",
        "*Ignore this section if you already did these steps for another notebook.*\n",
        "\n",
        "If you choose to use lcoal resources your notebook will use your local packages, so you should install a virtual environment with the following packages. Run the cell below to create a downloadable `.yml` file, to automate the package install process (provided you are using anaconda). Failing that, you can download it from the [git repository](https://github.com/rges-pit/minicourses.git)."
      ],
      "metadata": {
        "id": "9U0ZPGLVHADo"
      },
      "id": "9U0ZPGLVHADo"
    },
    {
      "cell_type": "code",
      "source": [
        "# @title `.yml`\n",
        "yaml = '''name: minicourse\n",
        "channels:\n",
        "  - conda-forge\n",
        "dependencies:\n",
        "  - python=3.11\n",
        "  - numpy\n",
        "  - matplotlib\n",
        "  - pandas\n",
        "  - scipy\n",
        "  - jupyter\n",
        "  - ipython\n",
        "  - astropy\n",
        "  - beautifulsoup4\n",
        "  - lxml              # required parser for bs4\n",
        "  - pip\n",
        "  - pip:\n",
        "      - pathos\n",
        "      - MulensModel\n",
        "      - pyLIMA'''\n",
        "\n",
        "# save the yaml\n",
        "with open('environment.yml', 'w') as f:\n",
        "    f.write(yaml)"
      ],
      "metadata": {
        "cellView": "form",
        "id": "dX7gLxQKHM1l"
      },
      "id": "dX7gLxQKHM1l",
      "execution_count": null,
      "outputs": []
    },
    {
      "cell_type": "markdown",
      "source": [
        "Click the folder button on the side bar to open the file explorer. The file `environment.yml` should be in there now. Just click the triple dots on the side and then `Download` to download the `.yml` file.\n",
        "\n",
        "```bash\n",
        "conda env create -f environment.yml\n",
        "```\n",
        "\n",
        "Running the above line in a terminal (Anaconda Prompt on Windows) will create a virtual conda environment called `minicourse`, which has the required packages installed.\n",
        "\n",
        "You can activate the environment with:\n",
        "\n",
        "```bash\n",
        "conda activate minicourse\n",
        "```\n",
        "\n",
        "From here you have two options\n",
        "\n",
        "1. You can open the notebook running\n",
        "```bash\n",
        "jupyter notebook\n",
        "```\n",
        "from a parent folder to your locally saved version of this notebook and navigating to the notebook in your browser. You may need to select `minicourse` as your kernel before running the notebook.\n",
        "\n",
        "2. Alternatly, you can create a local \"Runtime\" and for your Colab notebook by following [these instructions](https://www.google.com/url?q=https%3A%2F%2Fresearch.google.com%2Fcolaboratory%2Flocal-runtimes.html).\n",
        "```bash\n",
        "jupyter notebook --NotebookApp.allow_origin='https://colab.research.google.com' --port=8888 --no-browser\n",
        "```\n",
        "\n",
        "  ⚠️ We don't generally recommend that you do this with notebooks that you didn't write as it give them access to your local machine"
      ],
      "metadata": {
        "id": "GY0byvA3HQmf"
      },
      "id": "GY0byvA3HQmf"
    },
    {
      "cell_type": "markdown",
      "source": [
        "### <font face=\"Helvetica\" size=\"5\"> Clone the rges-pit/minicourses repo </font>\n",
        "\n",
        "Do this weather you are running locally or on the cloud, if you do not already have the repo cloned. It has necessary data."
      ],
      "metadata": {
        "id": "HYz3zJdvHU-r"
      },
      "id": "HYz3zJdvHU-r"
    },
    {
      "cell_type": "code",
      "execution_count": null,
      "id": "eoi6kin48iQ6",
      "metadata": {
        "colab": {
          "base_uri": "https://localhost:8080/"
        },
        "id": "eoi6kin48iQ6",
        "outputId": "e0bbbabb-7dcc-44be-d615-519ac1e603c1"
      },
      "outputs": [
        {
          "name": "stdout",
          "output_type": "stream",
          "text": [
            "Cloning into 'minicourses'...\n",
            "remote: Enumerating objects: 522, done.\u001b[K\n",
            "remote: Counting objects: 100% (95/95), done.\u001b[K\n",
            "remote: Compressing objects: 100% (30/30), done.\u001b[K\n",
            "remote: Total 522 (delta 72), reused 76 (delta 65), pack-reused 427 (from 1)\u001b[K\n",
            "Receiving objects: 100% (522/522), 82.11 MiB | 10.08 MiB/s, done.\n",
            "Resolving deltas: 100% (188/188), done.\n",
            "Updating files: 100% (173/173), done.\n"
          ]
        }
      ],
      "source": [
        "# #@title Clone the rges-pit/minicourses repo\n",
        "!git clone https://github.com/rges-pit/minicourses"
      ]
    },
    {
      "cell_type": "code",
      "execution_count": null,
      "id": "_iDOfZtXlxvf",
      "metadata": {
        "colab": {
          "base_uri": "https://localhost:8080/"
        },
        "id": "_iDOfZtXlxvf",
        "outputId": "7c7eae08-674f-4ac6-dc94-974fe35ae3fd"
      },
      "outputs": [
        {
          "name": "stdout",
          "output_type": "stream",
          "text": [
            ".   chapter1  chapter3\tchapter5  .gitignore  README.md\n",
            "..  chapter2  chapter4\t.git\t  LICENSE     trials\n",
            "/content/minicourses\n",
            "On branch main\n",
            "Your branch is up to date with 'origin/main'.\n",
            "\n",
            "nothing to commit, working tree clean\n"
          ]
        }
      ],
      "source": [
        "!ls -a ./minicourses/\n",
        "%cd minicourses/\n",
        "!git status"
      ]
    },
    {
      "cell_type": "code",
      "execution_count": null,
      "id": "Z8rzlagYl10P",
      "metadata": {
        "colab": {
          "base_uri": "https://localhost:8080/"
        },
        "id": "Z8rzlagYl10P",
        "outputId": "6cdb8a23-ca93-4c12-8366-c2c0f2d49c24"
      },
      "outputs": [
        {
          "name": "stdout",
          "output_type": "stream",
          "text": [
            "Already up to date.\n",
            "On branch main\n",
            "Your branch is up to date with 'origin/main'.\n",
            "\n",
            "nothing to commit, working tree clean\n"
          ]
        }
      ],
      "source": [
        "!git pull\n",
        "!git status"
      ]
    },
    {
      "cell_type": "markdown",
      "id": "7d6f5295-5e45-4b71-852e-bc838615fad5",
      "metadata": {
        "id": "7d6f5295-5e45-4b71-852e-bc838615fad5"
      },
      "source": [
        "## <font face=\"Helvetica\" size=\"5\"> 1. Introduction </font>  \n",
        "\n",
        "<hr style=\"border: 1.5pt solid #a859e4; width: 100%; margin-top: -10px;\">\n",
        "\n",
        "Welcome to **Chapter 4: Extra material - Binary-lens fitting**.\n",
        "\n",
        "In this notebook, we will show you how to fit a binary model to a planetary event using your event from Day 4 class."
      ]
    },
    {
      "cell_type": "markdown",
      "source": [
        "### <font face=\"Helvetica\" size=\"4\"> 1.1 Load Packages </font>\n",
        "\n"
      ],
      "metadata": {
        "id": "bA_0I6x3IUFf"
      },
      "id": "bA_0I6x3IUFf"
    },
    {
      "cell_type": "code",
      "execution_count": null,
      "id": "rBI1WmZbmFwz",
      "metadata": {
        "colab": {
          "base_uri": "https://localhost:8080/"
        },
        "id": "rBI1WmZbmFwz",
        "outputId": "da6714f1-9a06-4ed0-fcc1-b69d202030bd",
        "collapsed": true,
        "cellView": "form"
      },
      "outputs": [
        {
          "name": "stdout",
          "output_type": "stream",
          "text": [
            "Collecting pyLIMA\n",
            "  Downloading pylima-1.9.8-py3-none-any.whl.metadata (4.9 kB)\n",
            "Requirement already satisfied: astropy in /usr/local/lib/python3.11/dist-packages (from pyLIMA) (7.0.2)\n",
            "Collecting astroquery (from pyLIMA)\n",
            "  Downloading astroquery-0.4.10-py3-none-any.whl.metadata (6.3 kB)\n",
            "Requirement already satisfied: bokeh in /usr/local/lib/python3.11/dist-packages (from pyLIMA) (3.7.3)\n",
            "Collecting emcee (from pyLIMA)\n",
            "  Downloading emcee-3.1.6-py2.py3-none-any.whl.metadata (3.0 kB)\n",
            "Requirement already satisfied: importlib-metadata in /usr/local/lib/python3.11/dist-packages (from pyLIMA) (8.7.0)\n",
            "Collecting kepler.py (from pyLIMA)\n",
            "  Downloading kepler.py-0.0.7.tar.gz (10 kB)\n",
            "  Installing build dependencies ... \u001b[?25l\u001b[?25hdone\n",
            "  Getting requirements to build wheel ... \u001b[?25l\u001b[?25hdone\n",
            "  Preparing metadata (pyproject.toml) ... \u001b[?25l\u001b[?25hdone\n",
            "Requirement already satisfied: numpy>=1.7 in /usr/local/lib/python3.11/dist-packages (from pyLIMA) (2.0.2)\n",
            "Collecting pygtc (from pyLIMA)\n",
            "  Downloading pyGTC-0.5.0-py2.py3-none-any.whl.metadata (3.6 kB)\n",
            "Collecting pymoo (from pyLIMA)\n",
            "  Downloading pymoo-0.6.1.3-cp311-cp311-manylinux_2_17_x86_64.manylinux2014_x86_64.whl.metadata (5.0 kB)\n",
            "Requirement already satisfied: scipy>=1.0 in /usr/local/lib/python3.11/dist-packages (from pyLIMA) (1.15.3)\n",
            "Requirement already satisfied: tqdm>=4.0 in /usr/local/lib/python3.11/dist-packages (from pyLIMA) (4.67.1)\n",
            "Collecting VBMicrolensing (from pyLIMA)\n",
            "  Downloading vbmicrolensing-5.0.1-cp311-cp311-manylinux_2_17_x86_64.manylinux2014_x86_64.whl.metadata (5.1 kB)\n",
            "Collecting speclite (from pyLIMA)\n",
            "  Downloading speclite-0.20-py3-none-any.whl.metadata (589 bytes)\n",
            "Requirement already satisfied: scikit-learn in /usr/local/lib/python3.11/dist-packages (from pyLIMA) (1.6.1)\n",
            "Collecting iminuit (from pyLIMA)\n",
            "  Downloading iminuit-2.31.1-cp311-cp311-manylinux_2_17_x86_64.manylinux2014_x86_64.whl.metadata (10 kB)\n",
            "Requirement already satisfied: pyerfa>=2.0.1.1 in /usr/local/lib/python3.11/dist-packages (from astropy->pyLIMA) (2.0.1.5)\n",
            "Requirement already satisfied: astropy-iers-data>=0.2025.4.28.0.37.27 in /usr/local/lib/python3.11/dist-packages (from astropy->pyLIMA) (0.2025.5.12.0.38.29)\n",
            "Requirement already satisfied: PyYAML>=6.0.0 in /usr/local/lib/python3.11/dist-packages (from astropy->pyLIMA) (6.0.2)\n",
            "Requirement already satisfied: packaging>=22.0.0 in /usr/local/lib/python3.11/dist-packages (from astropy->pyLIMA) (24.2)\n",
            "Requirement already satisfied: requests>=2.19 in /usr/local/lib/python3.11/dist-packages (from astroquery->pyLIMA) (2.32.3)\n",
            "Requirement already satisfied: beautifulsoup4>=4.8 in /usr/local/lib/python3.11/dist-packages (from astroquery->pyLIMA) (4.13.4)\n",
            "Requirement already satisfied: html5lib>=0.999 in /usr/local/lib/python3.11/dist-packages (from astroquery->pyLIMA) (1.1)\n",
            "Requirement already satisfied: keyring>=15.0 in /usr/local/lib/python3.11/dist-packages (from astroquery->pyLIMA) (25.6.0)\n",
            "Collecting pyvo>=1.5 (from astroquery->pyLIMA)\n",
            "  Downloading pyvo-1.6.2-py3-none-any.whl.metadata (4.7 kB)\n",
            "Requirement already satisfied: Jinja2>=2.9 in /usr/local/lib/python3.11/dist-packages (from bokeh->pyLIMA) (3.1.6)\n",
            "Requirement already satisfied: contourpy>=1.2 in /usr/local/lib/python3.11/dist-packages (from bokeh->pyLIMA) (1.3.2)\n",
            "Requirement already satisfied: narwhals>=1.13 in /usr/local/lib/python3.11/dist-packages (from bokeh->pyLIMA) (1.39.0)\n",
            "Requirement already satisfied: pandas>=1.2 in /usr/local/lib/python3.11/dist-packages (from bokeh->pyLIMA) (2.2.2)\n",
            "Requirement already satisfied: pillow>=7.1.0 in /usr/local/lib/python3.11/dist-packages (from bokeh->pyLIMA) (11.2.1)\n",
            "Requirement already satisfied: tornado>=6.2 in /usr/local/lib/python3.11/dist-packages (from bokeh->pyLIMA) (6.4.2)\n",
            "Requirement already satisfied: xyzservices>=2021.09.1 in /usr/local/lib/python3.11/dist-packages (from bokeh->pyLIMA) (2025.4.0)\n",
            "Requirement already satisfied: zipp>=3.20 in /usr/local/lib/python3.11/dist-packages (from importlib-metadata->pyLIMA) (3.21.0)\n",
            "Requirement already satisfied: matplotlib>=2.2 in /usr/local/lib/python3.11/dist-packages (from pygtc->pyLIMA) (3.10.0)\n",
            "Requirement already satisfied: autograd>=1.4 in /usr/local/lib/python3.11/dist-packages (from pymoo->pyLIMA) (1.8.0)\n",
            "Collecting cma==3.2.2 (from pymoo->pyLIMA)\n",
            "  Downloading cma-3.2.2-py2.py3-none-any.whl.metadata (8.0 kB)\n",
            "Collecting alive-progress (from pymoo->pyLIMA)\n",
            "  Downloading alive_progress-3.2.0-py3-none-any.whl.metadata (70 kB)\n",
            "\u001b[2K     \u001b[90m━━━━━━━━━━━━━━━━━━━━━━━━━━━━━━━━━━━━━━━━\u001b[0m \u001b[32m70.6/70.6 kB\u001b[0m \u001b[31m3.9 MB/s\u001b[0m eta \u001b[36m0:00:00\u001b[0m\n",
            "\u001b[?25hRequirement already satisfied: dill in /usr/local/lib/python3.11/dist-packages (from pymoo->pyLIMA) (0.3.7)\n",
            "Collecting Deprecated (from pymoo->pyLIMA)\n",
            "  Downloading Deprecated-1.2.18-py2.py3-none-any.whl.metadata (5.7 kB)\n",
            "Requirement already satisfied: joblib>=1.2.0 in /usr/local/lib/python3.11/dist-packages (from scikit-learn->pyLIMA) (1.5.0)\n",
            "Requirement already satisfied: threadpoolctl>=3.1.0 in /usr/local/lib/python3.11/dist-packages (from scikit-learn->pyLIMA) (3.6.0)\n",
            "Requirement already satisfied: pytest in /usr/local/lib/python3.11/dist-packages (from VBMicrolensing->pyLIMA) (8.3.5)\n",
            "Requirement already satisfied: soupsieve>1.2 in /usr/local/lib/python3.11/dist-packages (from beautifulsoup4>=4.8->astroquery->pyLIMA) (2.7)\n",
            "Requirement already satisfied: typing-extensions>=4.0.0 in /usr/local/lib/python3.11/dist-packages (from beautifulsoup4>=4.8->astroquery->pyLIMA) (4.13.2)\n",
            "Requirement already satisfied: six>=1.9 in /usr/local/lib/python3.11/dist-packages (from html5lib>=0.999->astroquery->pyLIMA) (1.17.0)\n",
            "Requirement already satisfied: webencodings in /usr/local/lib/python3.11/dist-packages (from html5lib>=0.999->astroquery->pyLIMA) (0.5.1)\n",
            "Requirement already satisfied: MarkupSafe>=2.0 in /usr/local/lib/python3.11/dist-packages (from Jinja2>=2.9->bokeh->pyLIMA) (3.0.2)\n",
            "Requirement already satisfied: SecretStorage>=3.2 in /usr/local/lib/python3.11/dist-packages (from keyring>=15.0->astroquery->pyLIMA) (3.3.3)\n",
            "Requirement already satisfied: jeepney>=0.4.2 in /usr/local/lib/python3.11/dist-packages (from keyring>=15.0->astroquery->pyLIMA) (0.9.0)\n",
            "Requirement already satisfied: jaraco.classes in /usr/local/lib/python3.11/dist-packages (from keyring>=15.0->astroquery->pyLIMA) (3.4.0)\n",
            "Requirement already satisfied: jaraco.functools in /usr/local/lib/python3.11/dist-packages (from keyring>=15.0->astroquery->pyLIMA) (4.1.0)\n",
            "Requirement already satisfied: jaraco.context in /usr/local/lib/python3.11/dist-packages (from keyring>=15.0->astroquery->pyLIMA) (6.0.1)\n",
            "Requirement already satisfied: cycler>=0.10 in /usr/local/lib/python3.11/dist-packages (from matplotlib>=2.2->pygtc->pyLIMA) (0.12.1)\n",
            "Requirement already satisfied: fonttools>=4.22.0 in /usr/local/lib/python3.11/dist-packages (from matplotlib>=2.2->pygtc->pyLIMA) (4.58.0)\n",
            "Requirement already satisfied: kiwisolver>=1.3.1 in /usr/local/lib/python3.11/dist-packages (from matplotlib>=2.2->pygtc->pyLIMA) (1.4.8)\n",
            "Requirement already satisfied: pyparsing>=2.3.1 in /usr/local/lib/python3.11/dist-packages (from matplotlib>=2.2->pygtc->pyLIMA) (3.2.3)\n",
            "Requirement already satisfied: python-dateutil>=2.7 in /usr/local/lib/python3.11/dist-packages (from matplotlib>=2.2->pygtc->pyLIMA) (2.9.0.post0)\n",
            "Requirement already satisfied: pytz>=2020.1 in /usr/local/lib/python3.11/dist-packages (from pandas>=1.2->bokeh->pyLIMA) (2025.2)\n",
            "Requirement already satisfied: tzdata>=2022.7 in /usr/local/lib/python3.11/dist-packages (from pandas>=1.2->bokeh->pyLIMA) (2025.2)\n",
            "Requirement already satisfied: charset-normalizer<4,>=2 in /usr/local/lib/python3.11/dist-packages (from requests>=2.19->astroquery->pyLIMA) (3.4.2)\n",
            "Requirement already satisfied: idna<4,>=2.5 in /usr/local/lib/python3.11/dist-packages (from requests>=2.19->astroquery->pyLIMA) (3.10)\n",
            "Requirement already satisfied: urllib3<3,>=1.21.1 in /usr/local/lib/python3.11/dist-packages (from requests>=2.19->astroquery->pyLIMA) (2.4.0)\n",
            "Requirement already satisfied: certifi>=2017.4.17 in /usr/local/lib/python3.11/dist-packages (from requests>=2.19->astroquery->pyLIMA) (2025.4.26)\n",
            "Collecting about-time==4.2.1 (from alive-progress->pymoo->pyLIMA)\n",
            "  Downloading about_time-4.2.1-py3-none-any.whl.metadata (13 kB)\n",
            "Collecting grapheme==0.6.0 (from alive-progress->pymoo->pyLIMA)\n",
            "  Downloading grapheme-0.6.0.tar.gz (207 kB)\n",
            "\u001b[2K     \u001b[90m━━━━━━━━━━━━━━━━━━━━━━━━━━━━━━━━━━━━━━\u001b[0m \u001b[32m207.3/207.3 kB\u001b[0m \u001b[31m10.7 MB/s\u001b[0m eta \u001b[36m0:00:00\u001b[0m\n",
            "\u001b[?25h  Preparing metadata (setup.py) ... \u001b[?25l\u001b[?25hdone\n",
            "Requirement already satisfied: wrapt<2,>=1.10 in /usr/local/lib/python3.11/dist-packages (from Deprecated->pymoo->pyLIMA) (1.17.2)\n",
            "Requirement already satisfied: iniconfig in /usr/local/lib/python3.11/dist-packages (from pytest->VBMicrolensing->pyLIMA) (2.1.0)\n",
            "Requirement already satisfied: pluggy<2,>=1.5 in /usr/local/lib/python3.11/dist-packages (from pytest->VBMicrolensing->pyLIMA) (1.5.0)\n",
            "Requirement already satisfied: cryptography>=2.0 in /usr/local/lib/python3.11/dist-packages (from SecretStorage>=3.2->keyring>=15.0->astroquery->pyLIMA) (43.0.3)\n",
            "Requirement already satisfied: more-itertools in /usr/local/lib/python3.11/dist-packages (from jaraco.classes->keyring>=15.0->astroquery->pyLIMA) (10.7.0)\n",
            "Requirement already satisfied: backports.tarfile in /usr/local/lib/python3.11/dist-packages (from jaraco.context->keyring>=15.0->astroquery->pyLIMA) (1.2.0)\n",
            "Requirement already satisfied: cffi>=1.12 in /usr/local/lib/python3.11/dist-packages (from cryptography>=2.0->SecretStorage>=3.2->keyring>=15.0->astroquery->pyLIMA) (1.17.1)\n",
            "Requirement already satisfied: pycparser in /usr/local/lib/python3.11/dist-packages (from cffi>=1.12->cryptography>=2.0->SecretStorage>=3.2->keyring>=15.0->astroquery->pyLIMA) (2.22)\n",
            "Downloading pylima-1.9.8-py3-none-any.whl (19.6 MB)\n",
            "\u001b[2K   \u001b[90m━━━━━━━━━━━━━━━━━━━━━━━━━━━━━━━━━━━━━━━━\u001b[0m \u001b[32m19.6/19.6 MB\u001b[0m \u001b[31m89.8 MB/s\u001b[0m eta \u001b[36m0:00:00\u001b[0m\n",
            "\u001b[?25hDownloading astroquery-0.4.10-py3-none-any.whl (11.1 MB)\n",
            "\u001b[2K   \u001b[90m━━━━━━━━━━━━━━━━━━━━━━━━━━━━━━━━━━━━━━━━\u001b[0m \u001b[32m11.1/11.1 MB\u001b[0m \u001b[31m104.1 MB/s\u001b[0m eta \u001b[36m0:00:00\u001b[0m\n",
            "\u001b[?25hDownloading emcee-3.1.6-py2.py3-none-any.whl (47 kB)\n",
            "\u001b[2K   \u001b[90m━━━━━━━━━━━━━━━━━━━━━━━━━━━━━━━━━━━━━━━━\u001b[0m \u001b[32m47.4/47.4 kB\u001b[0m \u001b[31m3.1 MB/s\u001b[0m eta \u001b[36m0:00:00\u001b[0m\n",
            "\u001b[?25hDownloading iminuit-2.31.1-cp311-cp311-manylinux_2_17_x86_64.manylinux2014_x86_64.whl (444 kB)\n",
            "\u001b[2K   \u001b[90m━━━━━━━━━━━━━━━━━━━━━━━━━━━━━━━━━━━━━━━━\u001b[0m \u001b[32m444.4/444.4 kB\u001b[0m \u001b[31m32.2 MB/s\u001b[0m eta \u001b[36m0:00:00\u001b[0m\n",
            "\u001b[?25hDownloading pyGTC-0.5.0-py2.py3-none-any.whl (3.2 MB)\n",
            "\u001b[2K   \u001b[90m━━━━━━━━━━━━━━━━━━━━━━━━━━━━━━━━━━━━━━━━\u001b[0m \u001b[32m3.2/3.2 MB\u001b[0m \u001b[31m81.6 MB/s\u001b[0m eta \u001b[36m0:00:00\u001b[0m\n",
            "\u001b[?25hDownloading pymoo-0.6.1.3-cp311-cp311-manylinux_2_17_x86_64.manylinux2014_x86_64.whl (4.4 MB)\n",
            "\u001b[2K   \u001b[90m━━━━━━━━━━━━━━━━━━━━━━━━━━━━━━━━━━━━━━━━\u001b[0m \u001b[32m4.4/4.4 MB\u001b[0m \u001b[31m65.1 MB/s\u001b[0m eta \u001b[36m0:00:00\u001b[0m\n",
            "\u001b[?25hDownloading cma-3.2.2-py2.py3-none-any.whl (249 kB)\n",
            "\u001b[2K   \u001b[90m━━━━━━━━━━━━━━━━━━━━━━━━━━━━━━━━━━━━━━━━\u001b[0m \u001b[32m249.1/249.1 kB\u001b[0m \u001b[31m17.8 MB/s\u001b[0m eta \u001b[36m0:00:00\u001b[0m\n",
            "\u001b[?25hDownloading speclite-0.20-py3-none-any.whl (1.1 MB)\n",
            "\u001b[2K   \u001b[90m━━━━━━━━━━━━━━━━━━━━━━━━━━━━━━━━━━━━━━━━\u001b[0m \u001b[32m1.1/1.1 MB\u001b[0m \u001b[31m53.9 MB/s\u001b[0m eta \u001b[36m0:00:00\u001b[0m\n",
            "\u001b[?25hDownloading vbmicrolensing-5.0.1-cp311-cp311-manylinux_2_17_x86_64.manylinux2014_x86_64.whl (822 kB)\n",
            "\u001b[2K   \u001b[90m━━━━━━━━━━━━━━━━━━━━━━━━━━━━━━━━━━━━━━━━\u001b[0m \u001b[32m822.6/822.6 kB\u001b[0m \u001b[31m5.7 MB/s\u001b[0m eta \u001b[36m0:00:00\u001b[0m\n",
            "\u001b[?25hDownloading pyvo-1.6.2-py3-none-any.whl (999 kB)\n",
            "\u001b[2K   \u001b[90m━━━━━━━━━━━━━━━━━━━━━━━━━━━━━━━━━━━━━━━━\u001b[0m \u001b[32m999.4/999.4 kB\u001b[0m \u001b[31m54.7 MB/s\u001b[0m eta \u001b[36m0:00:00\u001b[0m\n",
            "\u001b[?25hDownloading alive_progress-3.2.0-py3-none-any.whl (77 kB)\n",
            "\u001b[2K   \u001b[90m━━━━━━━━━━━━━━━━━━━━━━━━━━━━━━━━━━━━━━━━\u001b[0m \u001b[32m77.1/77.1 kB\u001b[0m \u001b[31m5.8 MB/s\u001b[0m eta \u001b[36m0:00:00\u001b[0m\n",
            "\u001b[?25hDownloading about_time-4.2.1-py3-none-any.whl (13 kB)\n",
            "Downloading Deprecated-1.2.18-py2.py3-none-any.whl (10.0 kB)\n",
            "Building wheels for collected packages: kepler.py, grapheme\n",
            "  Building wheel for kepler.py (pyproject.toml) ... \u001b[?25l\u001b[?25hdone\n",
            "  Created wheel for kepler.py: filename=kepler_py-0.0.7-cp311-cp311-linux_x86_64.whl size=67745 sha256=5f752b9d75fbcb4cefd7ef2c6489745584baac0990e50c209b3b2d8a9466d366\n",
            "  Stored in directory: /root/.cache/pip/wheels/98/5b/2c/5f7f312c5bebaacbcb69acdcd34bbfca7675ac27e029f8bcf0\n",
            "  Building wheel for grapheme (setup.py) ... \u001b[?25l\u001b[?25hdone\n",
            "  Created wheel for grapheme: filename=grapheme-0.6.0-py3-none-any.whl size=210082 sha256=c356641a864fedb9331e09621d26633b3c4b50d55708db7fae10749bdada2fbe\n",
            "  Stored in directory: /root/.cache/pip/wheels/ee/3b/0b/1b865800e916d671a24028d884698674138632a83fdfad4926\n",
            "Successfully built kepler.py grapheme\n",
            "Installing collected packages: grapheme, kepler.py, iminuit, emcee, Deprecated, cma, about-time, VBMicrolensing, alive-progress, speclite, pyvo, pymoo, pygtc, astroquery, pyLIMA\n",
            "Successfully installed Deprecated-1.2.18 VBMicrolensing-5.0.1 about-time-4.2.1 alive-progress-3.2.0 astroquery-0.4.10 cma-3.2.2 emcee-3.1.6 grapheme-0.6.0 iminuit-2.31.1 kepler.py-0.0.7 pyLIMA-1.9.8 pygtc-0.5.0 pymoo-0.6.1.3 pyvo-1.6.2 speclite-0.20\n"
          ]
        }
      ],
      "source": [
        "#@title Install `pyLIMA`\n",
        "\n",
        "# you need to run this cell if you are using a cloud runtime on colab\n",
        "!pip install --default-timeout=100 pyLIMA"
      ]
    },
    {
      "cell_type": "code",
      "execution_count": null,
      "id": "28c183b3-ce55-4141-8bd8-627cc1526df8",
      "metadata": {
        "id": "28c183b3-ce55-4141-8bd8-627cc1526df8"
      },
      "outputs": [],
      "source": [
        "import os,sys\n",
        "import sys\n",
        "import numpy as np\n",
        "import matplotlib.pyplot as plt\n",
        "import matplotlib\n",
        "from matplotlib import gridspec\n",
        "\n",
        "from pyLIMA import event\n",
        "from pyLIMA import telescopes\n",
        "from pyLIMA.parallax import parallax\n",
        "\n",
        "from pyLIMA.fits import LM_fit\n",
        "from pyLIMA.models import PSPL_model, USBL_model\n",
        "from pyLIMA.models import pyLIMA_fancy_parameters\n",
        "\n",
        "from pyLIMA.outputs import pyLIMA_plots\n",
        "\n",
        "import multiprocessing as mul\n",
        "\n",
        "# matplotlib widged doesn't work in Google Collab :(\n",
        "# uncomment this if you aren't on colab\n",
        "#%matplotlib widget"
      ]
    },
    {
      "cell_type": "markdown",
      "id": "3582f6b6-ef4d-4476-b624-a1b4f5319b00",
      "metadata": {
        "id": "3582f6b6-ef4d-4476-b624-a1b4f5319b00"
      },
      "source": [
        "### <font face=\"Helvetica\" size=\"4\"> 1.2 `pyLIMA` vs `MulensModel` </font>"
      ]
    },
    {
      "cell_type": "markdown",
      "id": "54a44125-1290-46b8-8cb6-2d5afb7586de",
      "metadata": {
        "id": "54a44125-1290-46b8-8cb6-2d5afb7586de"
      },
      "source": [
        "In this excersise, you will learn how to use the [**`pyLIMA` package**](https://github.com/ebachelet/pyLIMA) to fit a binary microlensing event.\n",
        "\n",
        "First let's load the data."
      ]
    },
    {
      "cell_type": "markdown",
      "id": "132ab076-7756-46ca-be10-7cdefcd2672b",
      "metadata": {
        "id": "132ab076-7756-46ca-be10-7cdefcd2672b"
      },
      "source": [
        "## <font face=\"Helvetica\" size=\"5\"> 2. Load data </font>\n",
        "\n",
        "<hr style=\"border: 1.5pt solid #a859e4; width: 100%; margin-top: -10px;\">\n",
        "\n",
        "Use the same event (number) you have used during the class."
      ]
    },
    {
      "cell_type": "code",
      "execution_count": null,
      "id": "6192ca98-fb17-4241-94b0-ea8a95a234e5",
      "metadata": {
        "id": "6192ca98-fb17-4241-94b0-ea8a95a234e5"
      },
      "outputs": [],
      "source": [
        "##########################\n",
        "# Put in your number here\n",
        "my_number = 1\n",
        "##########################\n",
        "data = np.loadtxt('chapter4/data/roman_w146_%02d.dat'%my_number)"
      ]
    },
    {
      "cell_type": "code",
      "execution_count": null,
      "id": "da786ecf-68a2-49fc-a02f-7b88254d83ac",
      "metadata": {
        "colab": {
          "base_uri": "https://localhost:8080/",
          "height": 469
        },
        "id": "da786ecf-68a2-49fc-a02f-7b88254d83ac",
        "outputId": "2bf52a48-d965-459e-c4b1-81ac6dc833d5"
      },
      "outputs": [
        {
          "data": {
            "text/plain": [
              "(2459860.0, 2459880.0)"
            ]
          },
          "execution_count": 17,
          "metadata": {},
          "output_type": "execute_result"
        },
        {
          "data": {
            "image/png": "[encoded data removed]",
            "text/plain": [
              "<Figure size 640x480 with 1 Axes>"
            ]
          },
          "metadata": {},
          "output_type": "display_data"
        }
      ],
      "source": [
        "## Lets have a look at the data\n",
        "fig = plt.figure()\n",
        "plt.errorbar(data[:,0], data[:,1], yerr=data[:,2], marker='o', color='black', ls='');\n",
        "plt.gca().invert_yaxis();\n",
        "plt.xlabel('JD');\n",
        "plt.ylabel('F146 [mag]');\n",
        "#plt.xlim(2459860, 2459880)"
      ]
    },
    {
      "cell_type": "markdown",
      "id": "592a03a7-cbcf-4104-82c7-fb46fbb7abec",
      "metadata": {
        "id": "592a03a7-cbcf-4104-82c7-fb46fbb7abec"
      },
      "source": [
        "## <font face=\"Helvetica\" size=\"5\"> 3. Set-up the `Event` object </font>\n",
        "\n",
        "<hr style=\"border: 1.5pt solid #a859e4; width: 100%; margin-top: -10px;\">\n",
        "\n",
        "First we will set up the event.\n",
        "\n",
        "This is similar to `MulensModel`. If we would like to fit with the parallax model, we would also have to specify the coordinates of the event when we define it like this:\n",
        "\n",
        "`my_event = event.Event(ra=Right Ascension of the event, dec=Declination of the event)`.\n",
        "\n",
        "In our case, however, we will not fit parallax."
      ]
    },
    {
      "cell_type": "code",
      "execution_count": null,
      "id": "10d37fdd-a67b-4c7d-9058-49bf22f7d491",
      "metadata": {
        "id": "10d37fdd-a67b-4c7d-9058-49bf22f7d491"
      },
      "outputs": [],
      "source": [
        "my_event = event.Event(ra=0.1, dec=0.1)\n",
        "my_event.name = 'Simulated_Roman_event_%02d'%my_number"
      ]
    },
    {
      "cell_type": "markdown",
      "id": "725028ed-d068-4ea4-961a-12e32185e8c0",
      "metadata": {
        "id": "725028ed-d068-4ea4-961a-12e32185e8c0"
      },
      "source": [
        "### <font face=\"Helvetica\" size=\"4\"> 3.1 Add the data </font>\n",
        "\n",
        "Then we will add the data\n",
        "\n",
        "We will use the `telescope` class to do that. We will not include the parallax effect, but if you'd like, we explain how to specify if your observatory is on Earth or in Space.\n",
        "\n",
        "If you have a mix of ground- and space based observatories and include parallax , you can specify the observatory's location by the `location` key word. The Roman observatory is located in space (hence `Space` value for that key word). The `space_craft` name would indicate the spacecraft's name that **`pyLIMA`** recognizes and knows how to translate to the [**JPL Horizon**](https://ssd.jpl.nasa.gov/)'s spacecraft code. In this case, however, the code for Roman doesn't exist yet. We will therfore use the L2 point as the best proxy."
      ]
    },
    {
      "cell_type": "code",
      "execution_count": null,
      "id": "a0b3c548-883b-40a3-b9a5-26b09f6876ae",
      "metadata": {
        "id": "a0b3c548-883b-40a3-b9a5-26b09f6876ae"
      },
      "outputs": [],
      "source": [
        "telescope = telescopes.Telescope(name='Roman',\n",
        "                                 lightcurve=data,\n",
        "                                 lightcurve_names=['time','mag','err_mag'],\n",
        "                                 lightcurve_units=['JD','mag','mag'],\n",
        "                                #  location = 'Space', spacecraft_name = 'L2'\n",
        "                                 )\n",
        "\n",
        "my_event.telescopes.append(telescope)"
      ]
    },
    {
      "cell_type": "markdown",
      "id": "2d448ca7-dcbc-473b-b59f-ae51be63b65f",
      "metadata": {
        "id": "2d448ca7-dcbc-473b-b59f-ae51be63b65f"
      },
      "source": [
        "### <font face=\"Helvetica\" size=\"4\"> 3.2 Initial guess from your parameter estimates </font>\n",
        "\n",
        "Before we set up the model, lets put in the parameters you found using the analytical equations."
      ]
    },
    {
      "cell_type": "code",
      "execution_count": null,
      "id": "d76f0eb8-0c63-44ac-8a64-55c3db12d281",
      "metadata": {
        "id": "d76f0eb8-0c63-44ac-8a64-55c3db12d281"
      },
      "outputs": [],
      "source": [
        "t_0 = 2459871.5\n",
        "u_0 = 0.8\n",
        "t_E = 4.\n",
        "rho = 0.01\n",
        "s = 1\n",
        "q = 0.001\n",
        "alpha = 1.67\n",
        "\n",
        "# We will also need some parameters in log_10, because\n",
        "# it's easier to probe their parameter space that way\n",
        "log_t_E = np.log10(t_E)\n",
        "log_rho = np.log10(rho)\n",
        "log_s = np.log10(s)\n",
        "log_q = np.log10(q)"
      ]
    },
    {
      "cell_type": "markdown",
      "id": "0f497ebd-d76e-4a36-bd6f-9f9c5fa5d10c",
      "metadata": {
        "id": "0f497ebd-d76e-4a36-bd6f-9f9c5fa5d10c"
      },
      "source": [
        "## <font face=\"Helvetica\" size=\"5\"> 4. Set-up the model object </font>\n",
        "\n",
        "<hr style=\"border: 1.5pt solid #a859e4; width: 100%; margin-top: -10px;\">\n",
        "\n",
        "Now we will set up the model. We will probe the time scale $t_E$, source radius $\\rho$, separation $s$, and mass ratio $q$ in log space. This way, we will be able to probe the parameter space more efficiently. To do that in **`pyLIMA`**, we will use the `pyLIMA_fancy_parameters` function."
      ]
    },
    {
      "cell_type": "code",
      "execution_count": null,
      "id": "edfdc4ce-9cf7-4d6b-bce6-efeca7fedda4",
      "metadata": {
        "id": "edfdc4ce-9cf7-4d6b-bce6-efeca7fedda4"
      },
      "outputs": [],
      "source": [
        "fancy = pyLIMA_fancy_parameters.StandardFancyParameters()"
      ]
    },
    {
      "cell_type": "markdown",
      "id": "56e557d5-3bd3-426c-bde6-2a09f437dc70",
      "metadata": {
        "id": "56e557d5-3bd3-426c-bde6-2a09f437dc70"
      },
      "source": [
        "We can now set up the model. We will use the uniform source-binary lens model (USBL), and we will force **`pyLIMA`** to not fit parallax. To do that, we will specify the `parallax` keyword. The first one relates to the type of parallax effect we want to fit: in our case, it's `None`. Other options are Full, `Annual`, or `Terrestrial`, when dealing with space-based (first one), or ground-based observatories only (last two). When fitting parallax, we also have to specify the $t_{0,\\text{par}}$ parameter, like in **`MulensModel`**. In our case, we will set it to 0. In case you'd like to fit parallax, you should choose one close to the time of closest approach, $t_0$."
      ]
    },
    {
      "cell_type": "code",
      "execution_count": null,
      "id": "cd3d8d74-0461-4335-bf05-91ccbceb2697",
      "metadata": {
        "id": "cd3d8d74-0461-4335-bf05-91ccbceb2697"
      },
      "outputs": [],
      "source": [
        "usbl = USBL_model.USBLmodel(my_event, fancy_parameters=fancy, parallax=['None', 0.], blend_flux_parameter='noblend')"
      ]
    },
    {
      "cell_type": "markdown",
      "id": "493427fd-de6f-4ade-a309-48a61bd9a011",
      "metadata": {
        "id": "493427fd-de6f-4ade-a309-48a61bd9a011"
      },
      "source": [
        "## <font face=\"Helvetica\" size=\"5\"> 5. Fitting with `pyLIMA` </font>\n",
        "\n",
        "<hr style=\"border: 1.5pt solid #a859e4; width: 100%; margin-top: -10px;\">\n",
        "\n",
        "Finally, we can set up our fitting method. `pyLIMA` ofers several different methods. We will use one of the fastest ones, `LM_fit` which is an implementation of [**Levenberg-Marquardt algorithm**](https://en.wikipedia.org/wiki/Levenberg%E2%80%93Marquardt_algorithm).\n",
        "\n",
        "Other options you could use are:\n",
        "- `TRF_fit` - [**Trust Region**](https://en.wikipedia.org/wiki/Trust_region) Reflective algorithm;\n",
        "- `DE_fit` - a [**Differential Evolution**](https://en.wikipedia.org/wiki/Differential_evolution) algorithm to optimize our parameters (here more about [**the implementation in scipy**](https://docs.scipy.org/doc/scipy/reference/generated/scipy.optimize.differential_evolution.html), which **`pyLIMA`** uses);\n",
        "- `MCMC_fit` - a [**Markov chain Monte Carlo**](https://en.wikipedia.org/wiki/Markov_chain_Monte_Carlo) method, using [**`emcee` package**](https://emcee.readthedocs.io/en/stable/).\n",
        "\n",
        "Words of caution: `DE_fit` and `MCMC_fit` probe the parameter space, and will take consideribly longer than `LM_fit` and `TRF_fit`."
      ]
    },
    {
      "cell_type": "code",
      "execution_count": null,
      "id": "d1601ed3-8d06-47e0-adf7-fdb8e0b31a69",
      "metadata": {
        "id": "d1601ed3-8d06-47e0-adf7-fdb8e0b31a69"
      },
      "outputs": [],
      "source": [
        "lm_fit = LM_fit.LMfit(usbl)"
      ]
    },
    {
      "cell_type": "markdown",
      "id": "566fb3b6-43dd-4555-a101-b15be7d1e80e",
      "metadata": {
        "id": "566fb3b6-43dd-4555-a101-b15be7d1e80e"
      },
      "source": [
        "We will also use the fruits of your hard work! Instead of starting with a set of random parameters, we will use parameters that you found earlier to start our search."
      ]
    },
    {
      "cell_type": "code",
      "execution_count": null,
      "id": "46488f5e-4013-439e-a834-d97af5ce87b4",
      "metadata": {
        "id": "46488f5e-4013-439e-a834-d97af5ce87b4"
      },
      "outputs": [],
      "source": [
        "# parameters: t_0, u_0, log(t_E), log(rho), log(s), log(q), alpha, pi_EN, pi_EE,\n",
        "lm_fit.model_parameters_guess = [t_0, u_0, log_t_E,\n",
        "                                 log_rho, log_s, log_q,\n",
        "                                 alpha\n",
        "                                 ]"
      ]
    },
    {
      "cell_type": "markdown",
      "id": "32873666-a9c9-4a9d-a118-7de1917eb39f",
      "metadata": {
        "id": "32873666-a9c9-4a9d-a118-7de1917eb39f"
      },
      "source": [
        "We also need to set up boundries for our parameter space. For now, edit the `t_start` and `t_end` parameters to reflect the time when the events are happening. You can leave the other parameter bounries as is."
      ]
    },
    {
      "cell_type": "code",
      "execution_count": null,
      "id": "58ba2b72-f38a-41b9-9ce3-375995d9c6c3",
      "metadata": {
        "id": "58ba2b72-f38a-41b9-9ce3-375995d9c6c3"
      },
      "outputs": [],
      "source": [
        "t_start = 2459800.\n",
        "t_end = 2459880.\n",
        "\n",
        "#Boundries\n",
        "lm_fit.fit_parameters['t0'][1] = [t_start, t_end]\n",
        "lm_fit.fit_parameters['u0'][1] = [0., 1.]\n",
        "lm_fit.fit_parameters['log_tE'][1] = [-1., 3.]\n",
        "lm_fit.fit_parameters['log_rho'][1] = [-4., 1.]\n",
        "lm_fit.fit_parameters['log_separation'][1] = [-3., 1.]\n",
        "lm_fit.fit_parameters['log_mass_ratio'][1] = [-5., 1.]\n",
        "lm_fit.fit_parameters['alpha'][1] = [0.0, 2.*np.pi]\n",
        "\n",
        "lm_fit.priors_parameters['t0'][1] = [t_start, t_end]\n",
        "lm_fit.priors_parameters['u0'][1] = [0., 1.]\n",
        "lm_fit.priors_parameters['log_tE'][1] = [-1., 3.]\n",
        "lm_fit.priors_parameters['log_rho'][1] = [-4., 1.]\n",
        "lm_fit.priors_parameters['log_separation'][1] = [-3., 1.]\n",
        "lm_fit.priors_parameters['log_mass_ratio'][1] = [-5., 1.]\n",
        "lm_fit.priors_parameters['alpha'][1] = [0.0, 2.*np.pi]"
      ]
    },
    {
      "cell_type": "markdown",
      "id": "adb468e5-3005-457c-9967-bf487bd9e9b4",
      "metadata": {
        "id": "adb468e5-3005-457c-9967-bf487bd9e9b4"
      },
      "source": [
        "Finally, we can run our optimizer. This will take a while!\n",
        "\n",
        "If it takes too long, try to change the boundries for other parameters."
      ]
    },
    {
      "cell_type": "code",
      "execution_count": null,
      "id": "22c8d1b1-52c7-411c-9259-2eb09b26533d",
      "metadata": {
        "colab": {
          "base_uri": "https://localhost:8080/"
        },
        "id": "22c8d1b1-52c7-411c-9259-2eb09b26533d",
        "outputId": "39e38c20-f5a6-4345-b3a6-8e32c55ff6d1"
      },
      "outputs": [
        {
          "metadata": {
            "tags": null
          },
          "name": "stdout",
          "output_type": "stream",
          "text": [
            "initial_guess  : Initial parameters guess SUCCESS\n",
            "Using guess:  [2459871.5, 0.8, 0.6020599913279624, -2.0, 0.0, -3.0, 1.67, 411.2728294275437]\n"
          ]
        },
        {
          "metadata": {
            "tags": null
          },
          "name": "stderr",
          "output_type": "stream",
          "text": [
            "/usr/local/lib/python3.11/dist-packages/pyLIMA/fits/LM_fit.py:99: RuntimeWarning: divide by zero encountered in log10\n",
            "  scaling = 10 ** np.floor(np.log10(np.abs(self.guess))) + 1\n",
            "/usr/local/lib/python3.11/dist-packages/pyLIMA/models/pyLIMA_fancy_parameters.py:25: RuntimeWarning: overflow encountered in scalar power\n",
            "  return 10 **fancy_params['log_rho']\n"
          ]
        }
      ],
      "source": [
        "lm_fit.fit()"
      ]
    },
    {
      "cell_type": "markdown",
      "id": "583b5cec-acfc-4222-be0e-7d9cc1106c36",
      "metadata": {
        "id": "583b5cec-acfc-4222-be0e-7d9cc1106c36"
      },
      "source": [
        "## <font face=\"Helvetica\" size=\"5\"> 6. Fit results </font>\n",
        "\n",
        "<hr style=\"border: 1.5pt solid #a859e4; width: 100%; margin-top: -10px;\">\n",
        "\n",
        "Let's display our output. You will also see a couple of files appearing in the directory, which contain the results of your fit, that you can use for an analysis!\n",
        "\n",
        "Does the model fit well?"
      ]
    },
    {
      "cell_type": "code",
      "execution_count": null,
      "id": "3e95bec3-72a5-4b61-b72e-68db8635b161",
      "metadata": {
        "id": "3e95bec3-72a5-4b61-b72e-68db8635b161"
      },
      "outputs": [],
      "source": [
        "lm_fit.fit_outputs(bokeh_plot=True)"
      ]
    },
    {
      "cell_type": "code",
      "execution_count": null,
      "id": "ef697312-81ba-4b61-a69b-70f9402c9f17",
      "metadata": {
        "id": "ef697312-81ba-4b61-a69b-70f9402c9f17"
      },
      "outputs": [],
      "source": []
    }
  ],
  "metadata": {
    "colab": {
      "provenance": [],
      "toc_visible": true
    },
    "kernelspec": {
      "display_name": "Python 3 (ipykernel)",
      "language": "python",
      "name": "python3"
    },
    "language_info": {
      "codemirror_mode": {
        "name": "ipython",
        "version": 3
      },
      "file_extension": ".py",
      "mimetype": "text/x-python",
      "name": "python",
      "nbconvert_exporter": "python",
      "pygments_lexer": "ipython3",
      "version": "3.11.12"
    }
  },
  "nbformat": 4,
  "nbformat_minor": 5
}