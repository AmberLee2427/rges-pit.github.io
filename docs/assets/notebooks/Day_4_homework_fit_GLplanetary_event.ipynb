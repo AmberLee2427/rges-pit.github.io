{
 "cells": [
  {
   "cell_type": "markdown",
   "id": "7d6f5295-5e45-4b71-852e-bc838615fad5",
   "metadata": {},
   "source": [
    "# Fit a binary model to your event from Day 4 class"
   ]
  },
  {
   "cell_type": "markdown",
   "id": "15acef23-64a6-45b0-a794-f06b792ad6fd",
   "metadata": {},
   "source": [
    "Here we will show you how to fit a binary model to your planetary event."
   ]
  },
  {
   "cell_type": "markdown",
   "id": "b1668d7a-fcda-492c-a05c-fc3e4e1fc98c",
   "metadata": {},
   "source": [
    "## Load packages"
   ]
  },
  {
   "cell_type": "code",
   "execution_count": null,
   "id": "28c183b3-ce55-4141-8bd8-627cc1526df8",
   "metadata": {},
   "outputs": [],
   "source": [
    "import os,sys\n",
    "import sys\n",
    "import  numpy as np\n",
    "import matplotlib.pyplot as plt\n",
    "import matplotlib\n",
    "from matplotlib import gridspec\n",
    "\n",
    "from pyLIMA import event\n",
    "from pyLIMA import telescopes\n",
    "from pyLIMA.parallax import parallax\n",
    "\n",
    "from pyLIMA.fits import DE_fit, LM_fit, MCMC_fit\n",
    "from pyLIMA.models import PSPL_model, USBL_model\n",
    "from pyLIMA.models import pyLIMA_fancy_parameters\n",
    "\n",
    "from pyLIMA.outputs import pyLIMA_plots\n",
    "\n",
    "import multiprocessing as mul\n",
    "\n",
    "%matplotlib widget"
   ]
  },
  {
   "cell_type": "markdown",
   "id": "3582f6b6-ef4d-4476-b624-a1b4f5319b00",
   "metadata": {},
   "source": [
    "## pyLIMA vs MulensModel"
   ]
  },
  {
   "cell_type": "markdown",
   "id": "54a44125-1290-46b8-8cb6-2d5afb7586de",
   "metadata": {},
   "source": [
    "In this excersise, you will learn how to use the [**pyLIMA package**](https://github.com/ebachelet/pyLIMA) to fit a binary microlensing event. \n",
    "\n",
    "First let's load the data."
   ]
  },
  {
   "cell_type": "markdown",
   "id": "132ab076-7756-46ca-be10-7cdefcd2672b",
   "metadata": {},
   "source": [
    "## Load data"
   ]
  },
  {
   "cell_type": "markdown",
   "id": "17a3c508-1966-47c7-bfb3-7f3d9fe14e90",
   "metadata": {},
   "source": [
    "Use the same event (number) you have used during the class."
   ]
  },
  {
   "cell_type": "code",
   "execution_count": null,
   "id": "6192ca98-fb17-4241-94b0-ea8a95a234e5",
   "metadata": {},
   "outputs": [],
   "source": [
    "##########################\n",
    "# Put in your number here\n",
    "my_number = 1\n",
    "##########################\n",
    "data = np.loadtxt('data/roman_w146_%02d.dat'%my_number)"
   ]
  },
  {
   "cell_type": "code",
   "execution_count": null,
   "id": "da786ecf-68a2-49fc-a02f-7b88254d83ac",
   "metadata": {},
   "outputs": [],
   "source": [
    "## Lets have a look at the data\n",
    "fig = plt.figure()\n",
    "plt.errorbar(data[:,0], data[:,1], yerr=data[:,2], marker='o', color='black', ls='');\n",
    "plt.gca().invert_yaxis();\n",
    "plt.xlabel('JD');\n",
    "plt.ylabel('F146 [mag]');"
   ]
  },
  {
   "cell_type": "markdown",
   "id": "592a03a7-cbcf-4104-82c7-fb46fbb7abec",
   "metadata": {},
   "source": [
    "## First we will set up the event\n",
    "\n",
    "This is similar to MulensModel. If we would like to fit with the parallax model, we would also have to specify the coordinates of the event when we define it like this: \n",
    "\n",
    "`my_event = event.Event(ra=Right Ascension of the event, dec=Declination of the event)`. \n",
    "\n",
    "In our case, however, we will not fit parallax."
   ]
  },
  {
   "cell_type": "code",
   "execution_count": null,
   "id": "10d37fdd-a67b-4c7d-9058-49bf22f7d491",
   "metadata": {},
   "outputs": [],
   "source": [
    "my_event = event.Event()\n",
    "my_event.name = 'Simulated_Roman_event_%02d'%my_number"
   ]
  },
  {
   "cell_type": "markdown",
   "id": "725028ed-d068-4ea4-961a-12e32185e8c0",
   "metadata": {},
   "source": [
    "## Then we will add the data\n",
    "\n",
    "We will use the `telescope` class to do that. You can specify the observatory's location by the `location` key word. In our case, the Roman observatory is located in space (hence `Space` value for that key word). The `space_craft` name would indicate the spacecraft's name that **`pyLIMA`** recognizes and knows how to translate to the [**JPL Horizon**](https://ssd.jpl.nasa.gov/)'s spacecraft code. In this case, however, the code for Roman doesn't exist yet. We will therfore use the L2 point as the best proxy. "
   ]
  },
  {
   "cell_type": "code",
   "execution_count": null,
   "id": "a0b3c548-883b-40a3-b9a5-26b09f6876ae",
   "metadata": {},
   "outputs": [],
   "source": [
    "telescope = telescopes.Telescope(name='Roman',\n",
    "                                 lightcurve=data,\n",
    "                                 lightcurve_names=['time','mag','err_mag'],\n",
    "                                 lightcurve_units=['JD','mag','mag'],\n",
    "                                 location = 'Space', spacecraft_name = 'L2')\n",
    "\n",
    "my_event.telescopes.append(telescope) "
   ]
  },
  {
   "cell_type": "markdown",
   "id": "2d448ca7-dcbc-473b-b59f-ae51be63b65f",
   "metadata": {},
   "source": [
    "Before we set up the model, lets put in the parameters you found using the analytical equations."
   ]
  },
  {
   "cell_type": "code",
   "execution_count": null,
   "id": "d76f0eb8-0c63-44ac-8a64-55c3db12d281",
   "metadata": {},
   "outputs": [],
   "source": [
    "t_0 = 2460000\n",
    "u_0 = 0.1\n",
    "t_E = 10.\n",
    "rho = 0.1\n",
    "s = 0.1\n",
    "q = 0.1\n",
    "alpha = 67.\n",
    "\n",
    "# We will also need some parameters in log_10, because \n",
    "# it's easier to probe their parameter space that way\n",
    "log_t_E = np.log10(t_E)\n",
    "log_rho = np.log10(rho)\n",
    "log_s = np.log10(s)\n",
    "log_q = np.log10(q)"
   ]
  },
  {
   "cell_type": "markdown",
   "id": "0f497ebd-d76e-4a36-bd6f-9f9c5fa5d10c",
   "metadata": {},
   "source": [
    "Now we will set up the model. We will probe the time scale $t_E$, source radius $\\rho$, separation $s$, and mass ratio $q$ in log space. This way, we will be able to probe the parameter space more efficiently. To do that in **`pyLIMA`**, we will use the `pyLIMA_fancy_parameters` function."
   ]
  },
  {
   "cell_type": "code",
   "execution_count": null,
   "id": "edfdc4ce-9cf7-4d6b-bce6-efeca7fedda4",
   "metadata": {},
   "outputs": [],
   "source": [
    "fancy = pyLIMA_fancy_parameters.StandardFancyParameters()"
   ]
  },
  {
   "cell_type": "markdown",
   "id": "56e557d5-3bd3-426c-bde6-2a09f437dc70",
   "metadata": {},
   "source": [
    "We can now set up the model. We will use the uniform source-binary lens model (USBL), and we will force **`pyLIMA`** to not fit parallax. To do that, we will specify the `parallax` keyword. The first one relates to the type of parallax effect we want to fit: in our case, it's `None`. Other options are Full, `Annual`, or `Terrestrial`, when dealing with space-based (first one), or ground-based observatories only (last two). When fitting parallax, we also have to specify the $t_{0,\\text{par}}$ parameter, like in **`MulensModel`**. In our case, we will set it to 0. In case you'd like to fit parallax, you should choose one close to the time of closest approach, $t_0$."
   ]
  },
  {
   "cell_type": "code",
   "execution_count": null,
   "id": "cd3d8d74-0461-4335-bf05-91ccbceb2697",
   "metadata": {},
   "outputs": [],
   "source": [
    "usbl = USBL_model.USBLmodel(my_event, fancy_parameters=fancy, parallax=['None', 0.])"
   ]
  },
  {
   "cell_type": "markdown",
   "id": "493427fd-de6f-4ade-a309-48a61bd9a011",
   "metadata": {},
   "source": [
    "Finally, we can set up our fitting method. We will a [**Differential Evolution**](https://en.wikipedia.org/wiki/Differential_evolution) algorithm to optimize our parameters (here more about [**the implementation in scipy**](https://docs.scipy.org/doc/scipy/reference/generated/scipy.optimize.differential_evolution.html), which **`pyLIMA`** uses)."
   ]
  },
  {
   "cell_type": "code",
   "execution_count": null,
   "id": "d1601ed3-8d06-47e0-adf7-fdb8e0b31a69",
   "metadata": {},
   "outputs": [],
   "source": [
    "de_fit = DE_fit.DEfit(usbl, display_progress=True)"
   ]
  },
  {
   "cell_type": "markdown",
   "id": "566fb3b6-43dd-4555-a101-b15be7d1e80e",
   "metadata": {},
   "source": [
    "We will also use the fruits of your hard work! Instead of starting with a set of random parameters, we will use parameters that you found earlier to start our search."
   ]
  },
  {
   "cell_type": "code",
   "execution_count": null,
   "id": "46488f5e-4013-439e-a834-d97af5ce87b4",
   "metadata": {},
   "outputs": [],
   "source": [
    "# parameters: t_0, u_0, log(t_E), log(rho), log(s), log(q), alpha, pi_EN, pi_EE,\n",
    "de_fit.model_parameters_guess = [t_0, u_0, log_t_E,\n",
    "                                 log_rho, log_s, log_q,\n",
    "                                 0.1, 0.1\n",
    "                                 ]"
   ]
  },
  {
   "cell_type": "markdown",
   "id": "32873666-a9c9-4a9d-a118-7de1917eb39f",
   "metadata": {},
   "source": [
    "We also need to set up boundries for our parameter space. For now, edit the `t_start` and `t_end` parameters to reflect the time when the events are happening."
   ]
  },
  {
   "cell_type": "code",
   "execution_count": null,
   "id": "58ba2b72-f38a-41b9-9ce3-375995d9c6c3",
   "metadata": {},
   "outputs": [],
   "source": [
    "t_start = 2458000.\n",
    "t_end = 2461000.\n",
    "\n",
    "#Boundries\n",
    "de_fit.fit_parameters['t0'][1] = [t_start, t_end]\n",
    "de_fit.fit_parameters['u0'][1] = [0., 1.]\n",
    "de_fit.fit_parameters['log_tE'][1] = [-1., 3.]\n",
    "de_fit.fit_parameters['log_rho'][1] = [-4., 1.]\n",
    "de_fit.fit_parameters['log_separation'][1] = [-3., 1.]\n",
    "de_fit.fit_parameters['log_mass_ratio'][1] = [-5., 1.]\n",
    "de_fit.fit_parameters['alpha'][1] = [0.0, 2.*np.pi]\n",
    "\n",
    "de_fit.priors_parameters['t0'][1] = [t_start, t_end]\n",
    "de_fit.priors_parameters['u0'][1] = [0., 1.]\n",
    "de_fit.priors_parameters['log_tE'][1] = [-1., 3.]\n",
    "de_fit.priors_parameters['log_rho'][1] = [-4., 1.]\n",
    "de_fit.priors_parameters['log_separation'][1] = [-3., 1.]\n",
    "de_fit.priors_parameters['log_mass_ratio'][1] = [-5., 1.]\n",
    "de_fit.priors_parameters['alpha'][1] = [0.0, 2.*np.pi]"
   ]
  },
  {
   "cell_type": "markdown",
   "id": "c588cbc2-aa78-43d8-a942-7123bbec2cd9",
   "metadata": {},
   "source": [
    "To speed things up, we may also add multiprocessing. You can use the amount of cores you have access to on your computer."
   ]
  },
  {
   "cell_type": "code",
   "execution_count": null,
   "id": "feb45b57-49ac-4013-85f9-593233ebd1b2",
   "metadata": {},
   "outputs": [],
   "source": [
    "n_cores = 4\n",
    "pool = mul.Pool(n_cores)"
   ]
  },
  {
   "cell_type": "markdown",
   "id": "adb468e5-3005-457c-9967-bf487bd9e9b4",
   "metadata": {},
   "source": [
    "Finally, we can run our optimizer. This will take a while!"
   ]
  },
  {
   "cell_type": "code",
   "execution_count": null,
   "id": "22c8d1b1-52c7-411c-9259-2eb09b26533d",
   "metadata": {},
   "outputs": [],
   "source": [
    "de_fit.fit(computational_pool=pool)"
   ]
  },
  {
   "cell_type": "markdown",
   "id": "583b5cec-acfc-4222-be0e-7d9cc1106c36",
   "metadata": {},
   "source": [
    "Let's display our output. You will also see a couple of files appearing in the directory, which contain the results of your fit, that you can use for an analysis! \n",
    "\n",
    "Does the model fit well?"
   ]
  },
  {
   "cell_type": "code",
   "execution_count": null,
   "id": "3e95bec3-72a5-4b61-b72e-68db8635b161",
   "metadata": {},
   "outputs": [],
   "source": [
    "de_fit.fit_outputs(bokeh_plot=True)"
   ]
  },
  {
   "cell_type": "code",
   "execution_count": null,
   "id": "ef697312-81ba-4b61-a69b-70f9402c9f17",
   "metadata": {},
   "outputs": [],
   "source": []
  }
 ],
 "metadata": {
  "kernelspec": {
   "display_name": "Python 3 (ipykernel)",
   "language": "python",
   "name": "python3"
  },
  "language_info": {
   "codemirror_mode": {
    "name": "ipython",
    "version": 3
   },
   "file_extension": ".py",
   "mimetype": "text/x-python",
   "name": "python",
   "nbconvert_exporter": "python",
   "pygments_lexer": "ipython3",
   "version": "3.11.12"
  }
 },
 "nbformat": 4,
 "nbformat_minor": 5
}
